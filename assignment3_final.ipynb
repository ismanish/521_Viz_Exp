{
 "cells": [
  {
   "cell_type": "markdown",
   "metadata": {},
   "source": [
    "# Assignment 3"
   ]
  },
  {
   "cell_type": "markdown",
   "metadata": {},
   "source": [
    "# Visualization Technique (25%)\n",
    "\n",
    "\n",
    "# A narrative description of the visualization you are planning to use, describing how it works\n",
    "\n",
    "I am planning to use Bar and Scatter Charts and heatmap via altair.\n",
    "Scatter plot is best when both x and y are numeric, bar is appropriate when one variable is a numeric and the other is categorical.Heatmap works good if one needs to check the distribution across 2 categorical variables.\n",
    "\n",
    "\n",
    "# A discussion of in which circumstances this visualization should and should not be used (what is it close to? What else could you consider? How does it relate to specific aspects of data?\n",
    "\n",
    "Scatter plot - Use it when you want to check the relation between continuous variables and/or see different clusters in the data.  This will fail if one of the variable is not continuous\n",
    "Bar plot - Use it when you want to check the relation between a continuous and a categorical variable.  This will fail if both the vaiables are categorical.\n",
    "Heat Map - Use it when you want to check the relation between 2 categorical variables.  This will fail if you want to check the different clusters and their proximities. Although facet functionality of altair can help make heat map for different clusters."
   ]
  },
  {
   "cell_type": "markdown",
   "metadata": {},
   "source": [
    "# Visualization Library (25%)\n",
    "# The library you are going to use, and a background on why the library is good for this visualization. For instance, who created it? Is it open source? How do you install it?\n",
    "\n",
    "I am using altair for the visualization, I was introduced to altair in one of the MADS courses and I like how easily we can create charts.\n",
    "\n",
    "It is an open source library developed by Jake Vanderplas and Brian Granger.\n",
    "\n",
    "Altair can be installed, along with the example datasets in vega_datasets, using:\n",
    "\n",
    "$ pip install altair vega_datasets\n",
    "\n",
    "Reference Link : https://altair-viz.github.io/getting_started/installation.html\n",
    "\n",
    "\n",
    "# A discussion of the general approach and limitations of this library. For instance, Is it declarative or procedural? Does it integrate with Jupyter? Why did you decide to use this library (especially if there are other options)?\n",
    "\n",
    "Altair is not good if we are interested in large data sets. However for simple datasets altair makes different chart types very easy.\n",
    "\n",
    "It is declarative, in the sense you have to tell the library what needs to be done and it will figure out the how part.\n",
    "\n",
    "Yes, the library integrates with Jupyter and one can also generate html and interactive charts very easily. \n",
    "\n",
    "Easy implementation of interactivity is a very strong benefit of using altair. Interaction will help to find patterns in the data."
   ]
  },
  {
   "cell_type": "markdown",
   "metadata": {},
   "source": [
    "# Demonstration (50%)\n",
    "The dataset you picked and instructions for cleaning the dataset. You should pick a suitable dataset to demonstrate the technique, toolkit, and problem you are facing. \n",
    "The quality of your demonstration. First demonstrate the basics of this approach, then show a few of the edges of how the library might be used for other cases. This is the \"meat\" of the assignment.\n",
    "\n"
   ]
  },
  {
   "cell_type": "markdown",
   "metadata": {},
   "source": [
    "\n",
    "\n",
    "In this assignment I am using the Mall_Customer.csv that is used in one of the sample assignment3_examples\n",
    "\n",
    "Ref https://www.kaggle.com/shwetabh123/mall-customers"
   ]
  },
  {
   "cell_type": "code",
   "execution_count": 1,
   "metadata": {},
   "outputs": [],
   "source": [
    "#Importing libraries\n",
    "\n",
    "import pandas as pd\n",
    "import numpy as np\n",
    "import altair as alt"
   ]
  },
  {
   "cell_type": "code",
   "execution_count": 2,
   "metadata": {},
   "outputs": [],
   "source": [
    "df = pd.read_csv(\"Mall_Customers.csv\")"
   ]
  },
  {
   "cell_type": "markdown",
   "metadata": {},
   "source": [
    "I am using the same threshold as used in the sample example for the Income and Expenditure categories:\n",
    "\n",
    "Below are the different thresholds I have used\n",
    "\n",
    "\n",
    "Income Categories: Low for <40, Medium >=40 and <70, High >=70\n",
    "\n",
    "Spending Categories: Low <40, Medium >=40 and <60, High >=60"
   ]
  },
  {
   "cell_type": "markdown",
   "metadata": {},
   "source": [
    "Making different Income and Expediture Categories "
   ]
  },
  {
   "cell_type": "code",
   "execution_count": 3,
   "metadata": {},
   "outputs": [],
   "source": [
    "df['Income_Category'] = np.where(df['Annual Income (k$)']>=70,\"High Income\", np.where(df['Annual Income (k$)']>=40,\"Medium Income\",\"Low Income\"))\n",
    "df['Spend_Category'] = np.where(df['Spending Score (1-100)']>=60,\"High Spend\", np.where(df['Spending Score (1-100)']>=40,\"Medium Spend\",\"Low Spend\"))"
   ]
  },
  {
   "cell_type": "code",
   "execution_count": 4,
   "metadata": {},
   "outputs": [],
   "source": [
    "# Checking out how many Customer comes under the different Income and Expenditure Categories\n",
    "df1 = pd.DataFrame(df.groupby(['Income_Category'])['CustomerID'].count()).reset_index()\n",
    "df2 = pd.DataFrame(df.groupby(['Spend_Category'])['CustomerID'].count()).reset_index()"
   ]
  },
  {
   "cell_type": "code",
   "execution_count": 5,
   "metadata": {},
   "outputs": [
    {
     "data": {
      "text/html": [
       "\n",
       "<div id=\"altair-viz-4ed9f2da71c24686aa4d6460c7bc9988\"></div>\n",
       "<script type=\"text/javascript\">\n",
       "  (function(spec, embedOpt){\n",
       "    let outputDiv = document.currentScript.previousElementSibling;\n",
       "    if (outputDiv.id !== \"altair-viz-4ed9f2da71c24686aa4d6460c7bc9988\") {\n",
       "      outputDiv = document.getElementById(\"altair-viz-4ed9f2da71c24686aa4d6460c7bc9988\");\n",
       "    }\n",
       "    const paths = {\n",
       "      \"vega\": \"https://cdn.jsdelivr.net/npm//vega@5?noext\",\n",
       "      \"vega-lib\": \"https://cdn.jsdelivr.net/npm//vega-lib?noext\",\n",
       "      \"vega-lite\": \"https://cdn.jsdelivr.net/npm//vega-lite@4.8.1?noext\",\n",
       "      \"vega-embed\": \"https://cdn.jsdelivr.net/npm//vega-embed@6?noext\",\n",
       "    };\n",
       "\n",
       "    function loadScript(lib) {\n",
       "      return new Promise(function(resolve, reject) {\n",
       "        var s = document.createElement('script');\n",
       "        s.src = paths[lib];\n",
       "        s.async = true;\n",
       "        s.onload = () => resolve(paths[lib]);\n",
       "        s.onerror = () => reject(`Error loading script: ${paths[lib]}`);\n",
       "        document.getElementsByTagName(\"head\")[0].appendChild(s);\n",
       "      });\n",
       "    }\n",
       "\n",
       "    function showError(err) {\n",
       "      outputDiv.innerHTML = `<div class=\"error\" style=\"color:red;\">${err}</div>`;\n",
       "      throw err;\n",
       "    }\n",
       "\n",
       "    function displayChart(vegaEmbed) {\n",
       "      vegaEmbed(outputDiv, spec, embedOpt)\n",
       "        .catch(err => showError(`Javascript Error: ${err.message}<br>This usually means there's a typo in your chart specification. See the javascript console for the full traceback.`));\n",
       "    }\n",
       "\n",
       "    if(typeof define === \"function\" && define.amd) {\n",
       "      requirejs.config({paths});\n",
       "      require([\"vega-embed\"], displayChart, err => showError(`Error loading script: ${err.message}`));\n",
       "    } else if (typeof vegaEmbed === \"function\") {\n",
       "      displayChart(vegaEmbed);\n",
       "    } else {\n",
       "      loadScript(\"vega\")\n",
       "        .then(() => loadScript(\"vega-lite\"))\n",
       "        .then(() => loadScript(\"vega-embed\"))\n",
       "        .catch(showError)\n",
       "        .then(() => displayChart(vegaEmbed));\n",
       "    }\n",
       "  })({\"config\": {\"view\": {\"continuousWidth\": 400, \"continuousHeight\": 300}}, \"hconcat\": [{\"data\": {\"name\": \"data-24355d548a0a99af5efe9a21791ca80a\"}, \"mark\": \"bar\", \"encoding\": {\"x\": {\"type\": \"quantitative\", \"field\": \"CustomerID\", \"title\": \"Count of Customers\"}, \"y\": {\"type\": \"nominal\", \"field\": \"Income_Category\", \"sort\": [\"High Income\", \"Medium Income\", \"Low Income\"], \"title\": \"Income Category\"}}, \"height\": 200, \"title\": \"Income Category Distribution\", \"width\": 300}, {\"data\": {\"name\": \"data-dfd91fa21652fae403d1db88a1bd0e6b\"}, \"mark\": \"bar\", \"encoding\": {\"x\": {\"type\": \"quantitative\", \"field\": \"CustomerID\", \"title\": \"Count of Customers\"}, \"y\": {\"type\": \"nominal\", \"field\": \"Spend_Category\", \"sort\": [\"High Spend\", \"Medium Spend\", \"Low Spend\"], \"title\": \"Spend Category\"}}, \"height\": 200, \"title\": \"Spend Category Distribution\", \"width\": 300}], \"$schema\": \"https://vega.github.io/schema/vega-lite/v4.8.1.json\", \"datasets\": {\"data-24355d548a0a99af5efe9a21791ca80a\": [{\"Income_Category\": \"High Income\", \"CustomerID\": 76}, {\"Income_Category\": \"Low Income\", \"CustomerID\": 46}, {\"Income_Category\": \"Medium Income\", \"CustomerID\": 78}], \"data-dfd91fa21652fae403d1db88a1bd0e6b\": [{\"Spend_Category\": \"High Spend\", \"CustomerID\": 65}, {\"Spend_Category\": \"Low Spend\", \"CustomerID\": 59}, {\"Spend_Category\": \"Medium Spend\", \"CustomerID\": 76}]}}, {\"mode\": \"vega-lite\"});\n",
       "</script>"
      ],
      "text/plain": [
       "alt.HConcatChart(...)"
      ]
     },
     "execution_count": 5,
     "metadata": {},
     "output_type": "execute_result"
    }
   ],
   "source": [
    "c1 = alt.Chart(df1).mark_bar().properties(title='Income Category Distribution',height=200, width=300).encode(\n",
    "    x = alt.X('CustomerID', title='Count of Customers'),\n",
    "    y = alt.Y('Income_Category',title = 'Income Category', sort = ['High Income','Medium Income','Low Income'])\n",
    ")\n",
    "\n",
    "c2 = alt.Chart(df2).mark_bar().properties(title='Spend Category Distribution',height=200, width=300).encode(\n",
    "    x = alt.X('CustomerID', title='Count of Customers'),\n",
    "    y = alt.Y('Spend_Category',title = 'Spend Category', sort = ['High Spend','Medium Spend','Low Spend'])\n",
    ")\n",
    "\n",
    "c1 | c2"
   ]
  },
  {
   "cell_type": "markdown",
   "metadata": {},
   "source": [
    "As can be seen in above Charts most of the Customers are Medium Income and Medium Spend."
   ]
  },
  {
   "cell_type": "markdown",
   "metadata": {},
   "source": [
    "Lets check if the Income/Spend has different patters for the Gender"
   ]
  },
  {
   "cell_type": "code",
   "execution_count": 6,
   "metadata": {},
   "outputs": [
    {
     "data": {
      "text/html": [
       "\n",
       "<div id=\"altair-viz-e461fe56738c41e59b02c12191ffff26\"></div>\n",
       "<script type=\"text/javascript\">\n",
       "  (function(spec, embedOpt){\n",
       "    let outputDiv = document.currentScript.previousElementSibling;\n",
       "    if (outputDiv.id !== \"altair-viz-e461fe56738c41e59b02c12191ffff26\") {\n",
       "      outputDiv = document.getElementById(\"altair-viz-e461fe56738c41e59b02c12191ffff26\");\n",
       "    }\n",
       "    const paths = {\n",
       "      \"vega\": \"https://cdn.jsdelivr.net/npm//vega@5?noext\",\n",
       "      \"vega-lib\": \"https://cdn.jsdelivr.net/npm//vega-lib?noext\",\n",
       "      \"vega-lite\": \"https://cdn.jsdelivr.net/npm//vega-lite@4.8.1?noext\",\n",
       "      \"vega-embed\": \"https://cdn.jsdelivr.net/npm//vega-embed@6?noext\",\n",
       "    };\n",
       "\n",
       "    function loadScript(lib) {\n",
       "      return new Promise(function(resolve, reject) {\n",
       "        var s = document.createElement('script');\n",
       "        s.src = paths[lib];\n",
       "        s.async = true;\n",
       "        s.onload = () => resolve(paths[lib]);\n",
       "        s.onerror = () => reject(`Error loading script: ${paths[lib]}`);\n",
       "        document.getElementsByTagName(\"head\")[0].appendChild(s);\n",
       "      });\n",
       "    }\n",
       "\n",
       "    function showError(err) {\n",
       "      outputDiv.innerHTML = `<div class=\"error\" style=\"color:red;\">${err}</div>`;\n",
       "      throw err;\n",
       "    }\n",
       "\n",
       "    function displayChart(vegaEmbed) {\n",
       "      vegaEmbed(outputDiv, spec, embedOpt)\n",
       "        .catch(err => showError(`Javascript Error: ${err.message}<br>This usually means there's a typo in your chart specification. See the javascript console for the full traceback.`));\n",
       "    }\n",
       "\n",
       "    if(typeof define === \"function\" && define.amd) {\n",
       "      requirejs.config({paths});\n",
       "      require([\"vega-embed\"], displayChart, err => showError(`Error loading script: ${err.message}`));\n",
       "    } else if (typeof vegaEmbed === \"function\") {\n",
       "      displayChart(vegaEmbed);\n",
       "    } else {\n",
       "      loadScript(\"vega\")\n",
       "        .then(() => loadScript(\"vega-lite\"))\n",
       "        .then(() => loadScript(\"vega-embed\"))\n",
       "        .catch(showError)\n",
       "        .then(() => displayChart(vegaEmbed));\n",
       "    }\n",
       "  })({\"config\": {\"view\": {\"continuousWidth\": 400, \"continuousHeight\": 300}}, \"data\": {\"name\": \"data-e8d52c848f344dbdead28cfd7643ef34\"}, \"mark\": \"circle\", \"encoding\": {\"color\": {\"type\": \"nominal\", \"field\": \"Spend_Category\"}, \"facet\": {\"type\": \"nominal\", \"field\": \"Gender\"}, \"x\": {\"type\": \"quantitative\", \"field\": \"Age\"}, \"y\": {\"type\": \"quantitative\", \"field\": \"Annual Income (k$)\"}}, \"$schema\": \"https://vega.github.io/schema/vega-lite/v4.8.1.json\", \"datasets\": {\"data-e8d52c848f344dbdead28cfd7643ef34\": [{\"CustomerID\": 1, \"Gender\": \"Male\", \"Age\": 19, \"Annual Income (k$)\": 15, \"Spending Score (1-100)\": 39, \"Income_Category\": \"Low Income\", \"Spend_Category\": \"Low Spend\"}, {\"CustomerID\": 2, \"Gender\": \"Male\", \"Age\": 21, \"Annual Income (k$)\": 15, \"Spending Score (1-100)\": 81, \"Income_Category\": \"Low Income\", \"Spend_Category\": \"High Spend\"}, {\"CustomerID\": 3, \"Gender\": \"Female\", \"Age\": 20, \"Annual Income (k$)\": 16, \"Spending Score (1-100)\": 6, \"Income_Category\": \"Low Income\", \"Spend_Category\": \"Low Spend\"}, {\"CustomerID\": 4, \"Gender\": \"Female\", \"Age\": 23, \"Annual Income (k$)\": 16, \"Spending Score (1-100)\": 77, \"Income_Category\": \"Low Income\", \"Spend_Category\": \"High Spend\"}, {\"CustomerID\": 5, \"Gender\": \"Female\", \"Age\": 31, \"Annual Income (k$)\": 17, \"Spending Score (1-100)\": 40, \"Income_Category\": \"Low Income\", \"Spend_Category\": \"Medium Spend\"}, {\"CustomerID\": 6, \"Gender\": \"Female\", \"Age\": 22, \"Annual Income (k$)\": 17, \"Spending Score (1-100)\": 76, \"Income_Category\": \"Low Income\", \"Spend_Category\": \"High Spend\"}, {\"CustomerID\": 7, \"Gender\": \"Female\", \"Age\": 35, \"Annual Income (k$)\": 18, \"Spending Score (1-100)\": 6, \"Income_Category\": \"Low Income\", \"Spend_Category\": \"Low Spend\"}, {\"CustomerID\": 8, \"Gender\": \"Female\", \"Age\": 23, \"Annual Income (k$)\": 18, \"Spending Score (1-100)\": 94, \"Income_Category\": \"Low Income\", \"Spend_Category\": \"High Spend\"}, {\"CustomerID\": 9, \"Gender\": \"Male\", \"Age\": 64, \"Annual Income (k$)\": 19, \"Spending Score (1-100)\": 3, \"Income_Category\": \"Low Income\", \"Spend_Category\": \"Low Spend\"}, {\"CustomerID\": 10, \"Gender\": \"Female\", \"Age\": 30, \"Annual Income (k$)\": 19, \"Spending Score (1-100)\": 72, \"Income_Category\": \"Low Income\", \"Spend_Category\": \"High Spend\"}, {\"CustomerID\": 11, \"Gender\": \"Male\", \"Age\": 67, \"Annual Income (k$)\": 19, \"Spending Score (1-100)\": 14, \"Income_Category\": \"Low Income\", \"Spend_Category\": \"Low Spend\"}, {\"CustomerID\": 12, \"Gender\": \"Female\", \"Age\": 35, \"Annual Income (k$)\": 19, \"Spending Score (1-100)\": 99, \"Income_Category\": \"Low Income\", \"Spend_Category\": \"High Spend\"}, {\"CustomerID\": 13, \"Gender\": \"Female\", \"Age\": 58, \"Annual Income (k$)\": 20, \"Spending Score (1-100)\": 15, \"Income_Category\": \"Low Income\", \"Spend_Category\": \"Low Spend\"}, {\"CustomerID\": 14, \"Gender\": \"Female\", \"Age\": 24, \"Annual Income (k$)\": 20, \"Spending Score (1-100)\": 77, \"Income_Category\": \"Low Income\", \"Spend_Category\": \"High Spend\"}, {\"CustomerID\": 15, \"Gender\": \"Male\", \"Age\": 37, \"Annual Income (k$)\": 20, \"Spending Score (1-100)\": 13, \"Income_Category\": \"Low Income\", \"Spend_Category\": \"Low Spend\"}, {\"CustomerID\": 16, \"Gender\": \"Male\", \"Age\": 22, \"Annual Income (k$)\": 20, \"Spending Score (1-100)\": 79, \"Income_Category\": \"Low Income\", \"Spend_Category\": \"High Spend\"}, {\"CustomerID\": 17, \"Gender\": \"Female\", \"Age\": 35, \"Annual Income (k$)\": 21, \"Spending Score (1-100)\": 35, \"Income_Category\": \"Low Income\", \"Spend_Category\": \"Low Spend\"}, {\"CustomerID\": 18, \"Gender\": \"Male\", \"Age\": 20, \"Annual Income (k$)\": 21, \"Spending Score (1-100)\": 66, \"Income_Category\": \"Low Income\", \"Spend_Category\": \"High Spend\"}, {\"CustomerID\": 19, \"Gender\": \"Male\", \"Age\": 52, \"Annual Income (k$)\": 23, \"Spending Score (1-100)\": 29, \"Income_Category\": \"Low Income\", \"Spend_Category\": \"Low Spend\"}, {\"CustomerID\": 20, \"Gender\": \"Female\", \"Age\": 35, \"Annual Income (k$)\": 23, \"Spending Score (1-100)\": 98, \"Income_Category\": \"Low Income\", \"Spend_Category\": \"High Spend\"}, {\"CustomerID\": 21, \"Gender\": \"Male\", \"Age\": 35, \"Annual Income (k$)\": 24, \"Spending Score (1-100)\": 35, \"Income_Category\": \"Low Income\", \"Spend_Category\": \"Low Spend\"}, {\"CustomerID\": 22, \"Gender\": \"Male\", \"Age\": 25, \"Annual Income (k$)\": 24, \"Spending Score (1-100)\": 73, \"Income_Category\": \"Low Income\", \"Spend_Category\": \"High Spend\"}, {\"CustomerID\": 23, \"Gender\": \"Female\", \"Age\": 46, \"Annual Income (k$)\": 25, \"Spending Score (1-100)\": 5, \"Income_Category\": \"Low Income\", \"Spend_Category\": \"Low Spend\"}, {\"CustomerID\": 24, \"Gender\": \"Male\", \"Age\": 31, \"Annual Income (k$)\": 25, \"Spending Score (1-100)\": 73, \"Income_Category\": \"Low Income\", \"Spend_Category\": \"High Spend\"}, {\"CustomerID\": 25, \"Gender\": \"Female\", \"Age\": 54, \"Annual Income (k$)\": 28, \"Spending Score (1-100)\": 14, \"Income_Category\": \"Low Income\", \"Spend_Category\": \"Low Spend\"}, {\"CustomerID\": 26, \"Gender\": \"Male\", \"Age\": 29, \"Annual Income (k$)\": 28, \"Spending Score (1-100)\": 82, \"Income_Category\": \"Low Income\", \"Spend_Category\": \"High Spend\"}, {\"CustomerID\": 27, \"Gender\": \"Female\", \"Age\": 45, \"Annual Income (k$)\": 28, \"Spending Score (1-100)\": 32, \"Income_Category\": \"Low Income\", \"Spend_Category\": \"Low Spend\"}, {\"CustomerID\": 28, \"Gender\": \"Male\", \"Age\": 35, \"Annual Income (k$)\": 28, \"Spending Score (1-100)\": 61, \"Income_Category\": \"Low Income\", \"Spend_Category\": \"High Spend\"}, {\"CustomerID\": 29, \"Gender\": \"Female\", \"Age\": 40, \"Annual Income (k$)\": 29, \"Spending Score (1-100)\": 31, \"Income_Category\": \"Low Income\", \"Spend_Category\": \"Low Spend\"}, {\"CustomerID\": 30, \"Gender\": \"Female\", \"Age\": 23, \"Annual Income (k$)\": 29, \"Spending Score (1-100)\": 87, \"Income_Category\": \"Low Income\", \"Spend_Category\": \"High Spend\"}, {\"CustomerID\": 31, \"Gender\": \"Male\", \"Age\": 60, \"Annual Income (k$)\": 30, \"Spending Score (1-100)\": 4, \"Income_Category\": \"Low Income\", \"Spend_Category\": \"Low Spend\"}, {\"CustomerID\": 32, \"Gender\": \"Female\", \"Age\": 21, \"Annual Income (k$)\": 30, \"Spending Score (1-100)\": 73, \"Income_Category\": \"Low Income\", \"Spend_Category\": \"High Spend\"}, {\"CustomerID\": 33, \"Gender\": \"Male\", \"Age\": 53, \"Annual Income (k$)\": 33, \"Spending Score (1-100)\": 4, \"Income_Category\": \"Low Income\", \"Spend_Category\": \"Low Spend\"}, {\"CustomerID\": 34, \"Gender\": \"Male\", \"Age\": 18, \"Annual Income (k$)\": 33, \"Spending Score (1-100)\": 92, \"Income_Category\": \"Low Income\", \"Spend_Category\": \"High Spend\"}, {\"CustomerID\": 35, \"Gender\": \"Female\", \"Age\": 49, \"Annual Income (k$)\": 33, \"Spending Score (1-100)\": 14, \"Income_Category\": \"Low Income\", \"Spend_Category\": \"Low Spend\"}, {\"CustomerID\": 36, \"Gender\": \"Female\", \"Age\": 21, \"Annual Income (k$)\": 33, \"Spending Score (1-100)\": 81, \"Income_Category\": \"Low Income\", \"Spend_Category\": \"High Spend\"}, {\"CustomerID\": 37, \"Gender\": \"Female\", \"Age\": 42, \"Annual Income (k$)\": 34, \"Spending Score (1-100)\": 17, \"Income_Category\": \"Low Income\", \"Spend_Category\": \"Low Spend\"}, {\"CustomerID\": 38, \"Gender\": \"Female\", \"Age\": 30, \"Annual Income (k$)\": 34, \"Spending Score (1-100)\": 73, \"Income_Category\": \"Low Income\", \"Spend_Category\": \"High Spend\"}, {\"CustomerID\": 39, \"Gender\": \"Female\", \"Age\": 36, \"Annual Income (k$)\": 37, \"Spending Score (1-100)\": 26, \"Income_Category\": \"Low Income\", \"Spend_Category\": \"Low Spend\"}, {\"CustomerID\": 40, \"Gender\": \"Female\", \"Age\": 20, \"Annual Income (k$)\": 37, \"Spending Score (1-100)\": 75, \"Income_Category\": \"Low Income\", \"Spend_Category\": \"High Spend\"}, {\"CustomerID\": 41, \"Gender\": \"Female\", \"Age\": 65, \"Annual Income (k$)\": 38, \"Spending Score (1-100)\": 35, \"Income_Category\": \"Low Income\", \"Spend_Category\": \"Low Spend\"}, {\"CustomerID\": 42, \"Gender\": \"Male\", \"Age\": 24, \"Annual Income (k$)\": 38, \"Spending Score (1-100)\": 92, \"Income_Category\": \"Low Income\", \"Spend_Category\": \"High Spend\"}, {\"CustomerID\": 43, \"Gender\": \"Male\", \"Age\": 48, \"Annual Income (k$)\": 39, \"Spending Score (1-100)\": 36, \"Income_Category\": \"Low Income\", \"Spend_Category\": \"Low Spend\"}, {\"CustomerID\": 44, \"Gender\": \"Female\", \"Age\": 31, \"Annual Income (k$)\": 39, \"Spending Score (1-100)\": 61, \"Income_Category\": \"Low Income\", \"Spend_Category\": \"High Spend\"}, {\"CustomerID\": 45, \"Gender\": \"Female\", \"Age\": 49, \"Annual Income (k$)\": 39, \"Spending Score (1-100)\": 28, \"Income_Category\": \"Low Income\", \"Spend_Category\": \"Low Spend\"}, {\"CustomerID\": 46, \"Gender\": \"Female\", \"Age\": 24, \"Annual Income (k$)\": 39, \"Spending Score (1-100)\": 65, \"Income_Category\": \"Low Income\", \"Spend_Category\": \"High Spend\"}, {\"CustomerID\": 47, \"Gender\": \"Female\", \"Age\": 50, \"Annual Income (k$)\": 40, \"Spending Score (1-100)\": 55, \"Income_Category\": \"Medium Income\", \"Spend_Category\": \"Medium Spend\"}, {\"CustomerID\": 48, \"Gender\": \"Female\", \"Age\": 27, \"Annual Income (k$)\": 40, \"Spending Score (1-100)\": 47, \"Income_Category\": \"Medium Income\", \"Spend_Category\": \"Medium Spend\"}, {\"CustomerID\": 49, \"Gender\": \"Female\", \"Age\": 29, \"Annual Income (k$)\": 40, \"Spending Score (1-100)\": 42, \"Income_Category\": \"Medium Income\", \"Spend_Category\": \"Medium Spend\"}, {\"CustomerID\": 50, \"Gender\": \"Female\", \"Age\": 31, \"Annual Income (k$)\": 40, \"Spending Score (1-100)\": 42, \"Income_Category\": \"Medium Income\", \"Spend_Category\": \"Medium Spend\"}, {\"CustomerID\": 51, \"Gender\": \"Female\", \"Age\": 49, \"Annual Income (k$)\": 42, \"Spending Score (1-100)\": 52, \"Income_Category\": \"Medium Income\", \"Spend_Category\": \"Medium Spend\"}, {\"CustomerID\": 52, \"Gender\": \"Male\", \"Age\": 33, \"Annual Income (k$)\": 42, \"Spending Score (1-100)\": 60, \"Income_Category\": \"Medium Income\", \"Spend_Category\": \"High Spend\"}, {\"CustomerID\": 53, \"Gender\": \"Female\", \"Age\": 31, \"Annual Income (k$)\": 43, \"Spending Score (1-100)\": 54, \"Income_Category\": \"Medium Income\", \"Spend_Category\": \"Medium Spend\"}, {\"CustomerID\": 54, \"Gender\": \"Male\", \"Age\": 59, \"Annual Income (k$)\": 43, \"Spending Score (1-100)\": 60, \"Income_Category\": \"Medium Income\", \"Spend_Category\": \"High Spend\"}, {\"CustomerID\": 55, \"Gender\": \"Female\", \"Age\": 50, \"Annual Income (k$)\": 43, \"Spending Score (1-100)\": 45, \"Income_Category\": \"Medium Income\", \"Spend_Category\": \"Medium Spend\"}, {\"CustomerID\": 56, \"Gender\": \"Male\", \"Age\": 47, \"Annual Income (k$)\": 43, \"Spending Score (1-100)\": 41, \"Income_Category\": \"Medium Income\", \"Spend_Category\": \"Medium Spend\"}, {\"CustomerID\": 57, \"Gender\": \"Female\", \"Age\": 51, \"Annual Income (k$)\": 44, \"Spending Score (1-100)\": 50, \"Income_Category\": \"Medium Income\", \"Spend_Category\": \"Medium Spend\"}, {\"CustomerID\": 58, \"Gender\": \"Male\", \"Age\": 69, \"Annual Income (k$)\": 44, \"Spending Score (1-100)\": 46, \"Income_Category\": \"Medium Income\", \"Spend_Category\": \"Medium Spend\"}, {\"CustomerID\": 59, \"Gender\": \"Female\", \"Age\": 27, \"Annual Income (k$)\": 46, \"Spending Score (1-100)\": 51, \"Income_Category\": \"Medium Income\", \"Spend_Category\": \"Medium Spend\"}, {\"CustomerID\": 60, \"Gender\": \"Male\", \"Age\": 53, \"Annual Income (k$)\": 46, \"Spending Score (1-100)\": 46, \"Income_Category\": \"Medium Income\", \"Spend_Category\": \"Medium Spend\"}, {\"CustomerID\": 61, \"Gender\": \"Male\", \"Age\": 70, \"Annual Income (k$)\": 46, \"Spending Score (1-100)\": 56, \"Income_Category\": \"Medium Income\", \"Spend_Category\": \"Medium Spend\"}, {\"CustomerID\": 62, \"Gender\": \"Male\", \"Age\": 19, \"Annual Income (k$)\": 46, \"Spending Score (1-100)\": 55, \"Income_Category\": \"Medium Income\", \"Spend_Category\": \"Medium Spend\"}, {\"CustomerID\": 63, \"Gender\": \"Female\", \"Age\": 67, \"Annual Income (k$)\": 47, \"Spending Score (1-100)\": 52, \"Income_Category\": \"Medium Income\", \"Spend_Category\": \"Medium Spend\"}, {\"CustomerID\": 64, \"Gender\": \"Female\", \"Age\": 54, \"Annual Income (k$)\": 47, \"Spending Score (1-100)\": 59, \"Income_Category\": \"Medium Income\", \"Spend_Category\": \"Medium Spend\"}, {\"CustomerID\": 65, \"Gender\": \"Male\", \"Age\": 63, \"Annual Income (k$)\": 48, \"Spending Score (1-100)\": 51, \"Income_Category\": \"Medium Income\", \"Spend_Category\": \"Medium Spend\"}, {\"CustomerID\": 66, \"Gender\": \"Male\", \"Age\": 18, \"Annual Income (k$)\": 48, \"Spending Score (1-100)\": 59, \"Income_Category\": \"Medium Income\", \"Spend_Category\": \"Medium Spend\"}, {\"CustomerID\": 67, \"Gender\": \"Female\", \"Age\": 43, \"Annual Income (k$)\": 48, \"Spending Score (1-100)\": 50, \"Income_Category\": \"Medium Income\", \"Spend_Category\": \"Medium Spend\"}, {\"CustomerID\": 68, \"Gender\": \"Female\", \"Age\": 68, \"Annual Income (k$)\": 48, \"Spending Score (1-100)\": 48, \"Income_Category\": \"Medium Income\", \"Spend_Category\": \"Medium Spend\"}, {\"CustomerID\": 69, \"Gender\": \"Male\", \"Age\": 19, \"Annual Income (k$)\": 48, \"Spending Score (1-100)\": 59, \"Income_Category\": \"Medium Income\", \"Spend_Category\": \"Medium Spend\"}, {\"CustomerID\": 70, \"Gender\": \"Female\", \"Age\": 32, \"Annual Income (k$)\": 48, \"Spending Score (1-100)\": 47, \"Income_Category\": \"Medium Income\", \"Spend_Category\": \"Medium Spend\"}, {\"CustomerID\": 71, \"Gender\": \"Male\", \"Age\": 70, \"Annual Income (k$)\": 49, \"Spending Score (1-100)\": 55, \"Income_Category\": \"Medium Income\", \"Spend_Category\": \"Medium Spend\"}, {\"CustomerID\": 72, \"Gender\": \"Female\", \"Age\": 47, \"Annual Income (k$)\": 49, \"Spending Score (1-100)\": 42, \"Income_Category\": \"Medium Income\", \"Spend_Category\": \"Medium Spend\"}, {\"CustomerID\": 73, \"Gender\": \"Female\", \"Age\": 60, \"Annual Income (k$)\": 50, \"Spending Score (1-100)\": 49, \"Income_Category\": \"Medium Income\", \"Spend_Category\": \"Medium Spend\"}, {\"CustomerID\": 74, \"Gender\": \"Female\", \"Age\": 60, \"Annual Income (k$)\": 50, \"Spending Score (1-100)\": 56, \"Income_Category\": \"Medium Income\", \"Spend_Category\": \"Medium Spend\"}, {\"CustomerID\": 75, \"Gender\": \"Male\", \"Age\": 59, \"Annual Income (k$)\": 54, \"Spending Score (1-100)\": 47, \"Income_Category\": \"Medium Income\", \"Spend_Category\": \"Medium Spend\"}, {\"CustomerID\": 76, \"Gender\": \"Male\", \"Age\": 26, \"Annual Income (k$)\": 54, \"Spending Score (1-100)\": 54, \"Income_Category\": \"Medium Income\", \"Spend_Category\": \"Medium Spend\"}, {\"CustomerID\": 77, \"Gender\": \"Female\", \"Age\": 45, \"Annual Income (k$)\": 54, \"Spending Score (1-100)\": 53, \"Income_Category\": \"Medium Income\", \"Spend_Category\": \"Medium Spend\"}, {\"CustomerID\": 78, \"Gender\": \"Male\", \"Age\": 40, \"Annual Income (k$)\": 54, \"Spending Score (1-100)\": 48, \"Income_Category\": \"Medium Income\", \"Spend_Category\": \"Medium Spend\"}, {\"CustomerID\": 79, \"Gender\": \"Female\", \"Age\": 23, \"Annual Income (k$)\": 54, \"Spending Score (1-100)\": 52, \"Income_Category\": \"Medium Income\", \"Spend_Category\": \"Medium Spend\"}, {\"CustomerID\": 80, \"Gender\": \"Female\", \"Age\": 49, \"Annual Income (k$)\": 54, \"Spending Score (1-100)\": 42, \"Income_Category\": \"Medium Income\", \"Spend_Category\": \"Medium Spend\"}, {\"CustomerID\": 81, \"Gender\": \"Male\", \"Age\": 57, \"Annual Income (k$)\": 54, \"Spending Score (1-100)\": 51, \"Income_Category\": \"Medium Income\", \"Spend_Category\": \"Medium Spend\"}, {\"CustomerID\": 82, \"Gender\": \"Male\", \"Age\": 38, \"Annual Income (k$)\": 54, \"Spending Score (1-100)\": 55, \"Income_Category\": \"Medium Income\", \"Spend_Category\": \"Medium Spend\"}, {\"CustomerID\": 83, \"Gender\": \"Male\", \"Age\": 67, \"Annual Income (k$)\": 54, \"Spending Score (1-100)\": 41, \"Income_Category\": \"Medium Income\", \"Spend_Category\": \"Medium Spend\"}, {\"CustomerID\": 84, \"Gender\": \"Female\", \"Age\": 46, \"Annual Income (k$)\": 54, \"Spending Score (1-100)\": 44, \"Income_Category\": \"Medium Income\", \"Spend_Category\": \"Medium Spend\"}, {\"CustomerID\": 85, \"Gender\": \"Female\", \"Age\": 21, \"Annual Income (k$)\": 54, \"Spending Score (1-100)\": 57, \"Income_Category\": \"Medium Income\", \"Spend_Category\": \"Medium Spend\"}, {\"CustomerID\": 86, \"Gender\": \"Male\", \"Age\": 48, \"Annual Income (k$)\": 54, \"Spending Score (1-100)\": 46, \"Income_Category\": \"Medium Income\", \"Spend_Category\": \"Medium Spend\"}, {\"CustomerID\": 87, \"Gender\": \"Female\", \"Age\": 55, \"Annual Income (k$)\": 57, \"Spending Score (1-100)\": 58, \"Income_Category\": \"Medium Income\", \"Spend_Category\": \"Medium Spend\"}, {\"CustomerID\": 88, \"Gender\": \"Female\", \"Age\": 22, \"Annual Income (k$)\": 57, \"Spending Score (1-100)\": 55, \"Income_Category\": \"Medium Income\", \"Spend_Category\": \"Medium Spend\"}, {\"CustomerID\": 89, \"Gender\": \"Female\", \"Age\": 34, \"Annual Income (k$)\": 58, \"Spending Score (1-100)\": 60, \"Income_Category\": \"Medium Income\", \"Spend_Category\": \"High Spend\"}, {\"CustomerID\": 90, \"Gender\": \"Female\", \"Age\": 50, \"Annual Income (k$)\": 58, \"Spending Score (1-100)\": 46, \"Income_Category\": \"Medium Income\", \"Spend_Category\": \"Medium Spend\"}, {\"CustomerID\": 91, \"Gender\": \"Female\", \"Age\": 68, \"Annual Income (k$)\": 59, \"Spending Score (1-100)\": 55, \"Income_Category\": \"Medium Income\", \"Spend_Category\": \"Medium Spend\"}, {\"CustomerID\": 92, \"Gender\": \"Male\", \"Age\": 18, \"Annual Income (k$)\": 59, \"Spending Score (1-100)\": 41, \"Income_Category\": \"Medium Income\", \"Spend_Category\": \"Medium Spend\"}, {\"CustomerID\": 93, \"Gender\": \"Male\", \"Age\": 48, \"Annual Income (k$)\": 60, \"Spending Score (1-100)\": 49, \"Income_Category\": \"Medium Income\", \"Spend_Category\": \"Medium Spend\"}, {\"CustomerID\": 94, \"Gender\": \"Female\", \"Age\": 40, \"Annual Income (k$)\": 60, \"Spending Score (1-100)\": 40, \"Income_Category\": \"Medium Income\", \"Spend_Category\": \"Medium Spend\"}, {\"CustomerID\": 95, \"Gender\": \"Female\", \"Age\": 32, \"Annual Income (k$)\": 60, \"Spending Score (1-100)\": 42, \"Income_Category\": \"Medium Income\", \"Spend_Category\": \"Medium Spend\"}, {\"CustomerID\": 96, \"Gender\": \"Male\", \"Age\": 24, \"Annual Income (k$)\": 60, \"Spending Score (1-100)\": 52, \"Income_Category\": \"Medium Income\", \"Spend_Category\": \"Medium Spend\"}, {\"CustomerID\": 97, \"Gender\": \"Female\", \"Age\": 47, \"Annual Income (k$)\": 60, \"Spending Score (1-100)\": 47, \"Income_Category\": \"Medium Income\", \"Spend_Category\": \"Medium Spend\"}, {\"CustomerID\": 98, \"Gender\": \"Female\", \"Age\": 27, \"Annual Income (k$)\": 60, \"Spending Score (1-100)\": 50, \"Income_Category\": \"Medium Income\", \"Spend_Category\": \"Medium Spend\"}, {\"CustomerID\": 99, \"Gender\": \"Male\", \"Age\": 48, \"Annual Income (k$)\": 61, \"Spending Score (1-100)\": 42, \"Income_Category\": \"Medium Income\", \"Spend_Category\": \"Medium Spend\"}, {\"CustomerID\": 100, \"Gender\": \"Male\", \"Age\": 20, \"Annual Income (k$)\": 61, \"Spending Score (1-100)\": 49, \"Income_Category\": \"Medium Income\", \"Spend_Category\": \"Medium Spend\"}, {\"CustomerID\": 101, \"Gender\": \"Female\", \"Age\": 23, \"Annual Income (k$)\": 62, \"Spending Score (1-100)\": 41, \"Income_Category\": \"Medium Income\", \"Spend_Category\": \"Medium Spend\"}, {\"CustomerID\": 102, \"Gender\": \"Female\", \"Age\": 49, \"Annual Income (k$)\": 62, \"Spending Score (1-100)\": 48, \"Income_Category\": \"Medium Income\", \"Spend_Category\": \"Medium Spend\"}, {\"CustomerID\": 103, \"Gender\": \"Male\", \"Age\": 67, \"Annual Income (k$)\": 62, \"Spending Score (1-100)\": 59, \"Income_Category\": \"Medium Income\", \"Spend_Category\": \"Medium Spend\"}, {\"CustomerID\": 104, \"Gender\": \"Male\", \"Age\": 26, \"Annual Income (k$)\": 62, \"Spending Score (1-100)\": 55, \"Income_Category\": \"Medium Income\", \"Spend_Category\": \"Medium Spend\"}, {\"CustomerID\": 105, \"Gender\": \"Male\", \"Age\": 49, \"Annual Income (k$)\": 62, \"Spending Score (1-100)\": 56, \"Income_Category\": \"Medium Income\", \"Spend_Category\": \"Medium Spend\"}, {\"CustomerID\": 106, \"Gender\": \"Female\", \"Age\": 21, \"Annual Income (k$)\": 62, \"Spending Score (1-100)\": 42, \"Income_Category\": \"Medium Income\", \"Spend_Category\": \"Medium Spend\"}, {\"CustomerID\": 107, \"Gender\": \"Female\", \"Age\": 66, \"Annual Income (k$)\": 63, \"Spending Score (1-100)\": 50, \"Income_Category\": \"Medium Income\", \"Spend_Category\": \"Medium Spend\"}, {\"CustomerID\": 108, \"Gender\": \"Male\", \"Age\": 54, \"Annual Income (k$)\": 63, \"Spending Score (1-100)\": 46, \"Income_Category\": \"Medium Income\", \"Spend_Category\": \"Medium Spend\"}, {\"CustomerID\": 109, \"Gender\": \"Male\", \"Age\": 68, \"Annual Income (k$)\": 63, \"Spending Score (1-100)\": 43, \"Income_Category\": \"Medium Income\", \"Spend_Category\": \"Medium Spend\"}, {\"CustomerID\": 110, \"Gender\": \"Male\", \"Age\": 66, \"Annual Income (k$)\": 63, \"Spending Score (1-100)\": 48, \"Income_Category\": \"Medium Income\", \"Spend_Category\": \"Medium Spend\"}, {\"CustomerID\": 111, \"Gender\": \"Male\", \"Age\": 65, \"Annual Income (k$)\": 63, \"Spending Score (1-100)\": 52, \"Income_Category\": \"Medium Income\", \"Spend_Category\": \"Medium Spend\"}, {\"CustomerID\": 112, \"Gender\": \"Female\", \"Age\": 19, \"Annual Income (k$)\": 63, \"Spending Score (1-100)\": 54, \"Income_Category\": \"Medium Income\", \"Spend_Category\": \"Medium Spend\"}, {\"CustomerID\": 113, \"Gender\": \"Female\", \"Age\": 38, \"Annual Income (k$)\": 64, \"Spending Score (1-100)\": 42, \"Income_Category\": \"Medium Income\", \"Spend_Category\": \"Medium Spend\"}, {\"CustomerID\": 114, \"Gender\": \"Male\", \"Age\": 19, \"Annual Income (k$)\": 64, \"Spending Score (1-100)\": 46, \"Income_Category\": \"Medium Income\", \"Spend_Category\": \"Medium Spend\"}, {\"CustomerID\": 115, \"Gender\": \"Female\", \"Age\": 18, \"Annual Income (k$)\": 65, \"Spending Score (1-100)\": 48, \"Income_Category\": \"Medium Income\", \"Spend_Category\": \"Medium Spend\"}, {\"CustomerID\": 116, \"Gender\": \"Female\", \"Age\": 19, \"Annual Income (k$)\": 65, \"Spending Score (1-100)\": 50, \"Income_Category\": \"Medium Income\", \"Spend_Category\": \"Medium Spend\"}, {\"CustomerID\": 117, \"Gender\": \"Female\", \"Age\": 63, \"Annual Income (k$)\": 65, \"Spending Score (1-100)\": 43, \"Income_Category\": \"Medium Income\", \"Spend_Category\": \"Medium Spend\"}, {\"CustomerID\": 118, \"Gender\": \"Female\", \"Age\": 49, \"Annual Income (k$)\": 65, \"Spending Score (1-100)\": 59, \"Income_Category\": \"Medium Income\", \"Spend_Category\": \"Medium Spend\"}, {\"CustomerID\": 119, \"Gender\": \"Female\", \"Age\": 51, \"Annual Income (k$)\": 67, \"Spending Score (1-100)\": 43, \"Income_Category\": \"Medium Income\", \"Spend_Category\": \"Medium Spend\"}, {\"CustomerID\": 120, \"Gender\": \"Female\", \"Age\": 50, \"Annual Income (k$)\": 67, \"Spending Score (1-100)\": 57, \"Income_Category\": \"Medium Income\", \"Spend_Category\": \"Medium Spend\"}, {\"CustomerID\": 121, \"Gender\": \"Male\", \"Age\": 27, \"Annual Income (k$)\": 67, \"Spending Score (1-100)\": 56, \"Income_Category\": \"Medium Income\", \"Spend_Category\": \"Medium Spend\"}, {\"CustomerID\": 122, \"Gender\": \"Female\", \"Age\": 38, \"Annual Income (k$)\": 67, \"Spending Score (1-100)\": 40, \"Income_Category\": \"Medium Income\", \"Spend_Category\": \"Medium Spend\"}, {\"CustomerID\": 123, \"Gender\": \"Female\", \"Age\": 40, \"Annual Income (k$)\": 69, \"Spending Score (1-100)\": 58, \"Income_Category\": \"Medium Income\", \"Spend_Category\": \"Medium Spend\"}, {\"CustomerID\": 124, \"Gender\": \"Male\", \"Age\": 39, \"Annual Income (k$)\": 69, \"Spending Score (1-100)\": 91, \"Income_Category\": \"Medium Income\", \"Spend_Category\": \"High Spend\"}, {\"CustomerID\": 125, \"Gender\": \"Female\", \"Age\": 23, \"Annual Income (k$)\": 70, \"Spending Score (1-100)\": 29, \"Income_Category\": \"High Income\", \"Spend_Category\": \"Low Spend\"}, {\"CustomerID\": 126, \"Gender\": \"Female\", \"Age\": 31, \"Annual Income (k$)\": 70, \"Spending Score (1-100)\": 77, \"Income_Category\": \"High Income\", \"Spend_Category\": \"High Spend\"}, {\"CustomerID\": 127, \"Gender\": \"Male\", \"Age\": 43, \"Annual Income (k$)\": 71, \"Spending Score (1-100)\": 35, \"Income_Category\": \"High Income\", \"Spend_Category\": \"Low Spend\"}, {\"CustomerID\": 128, \"Gender\": \"Male\", \"Age\": 40, \"Annual Income (k$)\": 71, \"Spending Score (1-100)\": 95, \"Income_Category\": \"High Income\", \"Spend_Category\": \"High Spend\"}, {\"CustomerID\": 129, \"Gender\": \"Male\", \"Age\": 59, \"Annual Income (k$)\": 71, \"Spending Score (1-100)\": 11, \"Income_Category\": \"High Income\", \"Spend_Category\": \"Low Spend\"}, {\"CustomerID\": 130, \"Gender\": \"Male\", \"Age\": 38, \"Annual Income (k$)\": 71, \"Spending Score (1-100)\": 75, \"Income_Category\": \"High Income\", \"Spend_Category\": \"High Spend\"}, {\"CustomerID\": 131, \"Gender\": \"Male\", \"Age\": 47, \"Annual Income (k$)\": 71, \"Spending Score (1-100)\": 9, \"Income_Category\": \"High Income\", \"Spend_Category\": \"Low Spend\"}, {\"CustomerID\": 132, \"Gender\": \"Male\", \"Age\": 39, \"Annual Income (k$)\": 71, \"Spending Score (1-100)\": 75, \"Income_Category\": \"High Income\", \"Spend_Category\": \"High Spend\"}, {\"CustomerID\": 133, \"Gender\": \"Female\", \"Age\": 25, \"Annual Income (k$)\": 72, \"Spending Score (1-100)\": 34, \"Income_Category\": \"High Income\", \"Spend_Category\": \"Low Spend\"}, {\"CustomerID\": 134, \"Gender\": \"Female\", \"Age\": 31, \"Annual Income (k$)\": 72, \"Spending Score (1-100)\": 71, \"Income_Category\": \"High Income\", \"Spend_Category\": \"High Spend\"}, {\"CustomerID\": 135, \"Gender\": \"Male\", \"Age\": 20, \"Annual Income (k$)\": 73, \"Spending Score (1-100)\": 5, \"Income_Category\": \"High Income\", \"Spend_Category\": \"Low Spend\"}, {\"CustomerID\": 136, \"Gender\": \"Female\", \"Age\": 29, \"Annual Income (k$)\": 73, \"Spending Score (1-100)\": 88, \"Income_Category\": \"High Income\", \"Spend_Category\": \"High Spend\"}, {\"CustomerID\": 137, \"Gender\": \"Female\", \"Age\": 44, \"Annual Income (k$)\": 73, \"Spending Score (1-100)\": 7, \"Income_Category\": \"High Income\", \"Spend_Category\": \"Low Spend\"}, {\"CustomerID\": 138, \"Gender\": \"Male\", \"Age\": 32, \"Annual Income (k$)\": 73, \"Spending Score (1-100)\": 73, \"Income_Category\": \"High Income\", \"Spend_Category\": \"High Spend\"}, {\"CustomerID\": 139, \"Gender\": \"Male\", \"Age\": 19, \"Annual Income (k$)\": 74, \"Spending Score (1-100)\": 10, \"Income_Category\": \"High Income\", \"Spend_Category\": \"Low Spend\"}, {\"CustomerID\": 140, \"Gender\": \"Female\", \"Age\": 35, \"Annual Income (k$)\": 74, \"Spending Score (1-100)\": 72, \"Income_Category\": \"High Income\", \"Spend_Category\": \"High Spend\"}, {\"CustomerID\": 141, \"Gender\": \"Female\", \"Age\": 57, \"Annual Income (k$)\": 75, \"Spending Score (1-100)\": 5, \"Income_Category\": \"High Income\", \"Spend_Category\": \"Low Spend\"}, {\"CustomerID\": 142, \"Gender\": \"Male\", \"Age\": 32, \"Annual Income (k$)\": 75, \"Spending Score (1-100)\": 93, \"Income_Category\": \"High Income\", \"Spend_Category\": \"High Spend\"}, {\"CustomerID\": 143, \"Gender\": \"Female\", \"Age\": 28, \"Annual Income (k$)\": 76, \"Spending Score (1-100)\": 40, \"Income_Category\": \"High Income\", \"Spend_Category\": \"Medium Spend\"}, {\"CustomerID\": 144, \"Gender\": \"Female\", \"Age\": 32, \"Annual Income (k$)\": 76, \"Spending Score (1-100)\": 87, \"Income_Category\": \"High Income\", \"Spend_Category\": \"High Spend\"}, {\"CustomerID\": 145, \"Gender\": \"Male\", \"Age\": 25, \"Annual Income (k$)\": 77, \"Spending Score (1-100)\": 12, \"Income_Category\": \"High Income\", \"Spend_Category\": \"Low Spend\"}, {\"CustomerID\": 146, \"Gender\": \"Male\", \"Age\": 28, \"Annual Income (k$)\": 77, \"Spending Score (1-100)\": 97, \"Income_Category\": \"High Income\", \"Spend_Category\": \"High Spend\"}, {\"CustomerID\": 147, \"Gender\": \"Male\", \"Age\": 48, \"Annual Income (k$)\": 77, \"Spending Score (1-100)\": 36, \"Income_Category\": \"High Income\", \"Spend_Category\": \"Low Spend\"}, {\"CustomerID\": 148, \"Gender\": \"Female\", \"Age\": 32, \"Annual Income (k$)\": 77, \"Spending Score (1-100)\": 74, \"Income_Category\": \"High Income\", \"Spend_Category\": \"High Spend\"}, {\"CustomerID\": 149, \"Gender\": \"Female\", \"Age\": 34, \"Annual Income (k$)\": 78, \"Spending Score (1-100)\": 22, \"Income_Category\": \"High Income\", \"Spend_Category\": \"Low Spend\"}, {\"CustomerID\": 150, \"Gender\": \"Male\", \"Age\": 34, \"Annual Income (k$)\": 78, \"Spending Score (1-100)\": 90, \"Income_Category\": \"High Income\", \"Spend_Category\": \"High Spend\"}, {\"CustomerID\": 151, \"Gender\": \"Male\", \"Age\": 43, \"Annual Income (k$)\": 78, \"Spending Score (1-100)\": 17, \"Income_Category\": \"High Income\", \"Spend_Category\": \"Low Spend\"}, {\"CustomerID\": 152, \"Gender\": \"Male\", \"Age\": 39, \"Annual Income (k$)\": 78, \"Spending Score (1-100)\": 88, \"Income_Category\": \"High Income\", \"Spend_Category\": \"High Spend\"}, {\"CustomerID\": 153, \"Gender\": \"Female\", \"Age\": 44, \"Annual Income (k$)\": 78, \"Spending Score (1-100)\": 20, \"Income_Category\": \"High Income\", \"Spend_Category\": \"Low Spend\"}, {\"CustomerID\": 154, \"Gender\": \"Female\", \"Age\": 38, \"Annual Income (k$)\": 78, \"Spending Score (1-100)\": 76, \"Income_Category\": \"High Income\", \"Spend_Category\": \"High Spend\"}, {\"CustomerID\": 155, \"Gender\": \"Female\", \"Age\": 47, \"Annual Income (k$)\": 78, \"Spending Score (1-100)\": 16, \"Income_Category\": \"High Income\", \"Spend_Category\": \"Low Spend\"}, {\"CustomerID\": 156, \"Gender\": \"Female\", \"Age\": 27, \"Annual Income (k$)\": 78, \"Spending Score (1-100)\": 89, \"Income_Category\": \"High Income\", \"Spend_Category\": \"High Spend\"}, {\"CustomerID\": 157, \"Gender\": \"Male\", \"Age\": 37, \"Annual Income (k$)\": 78, \"Spending Score (1-100)\": 1, \"Income_Category\": \"High Income\", \"Spend_Category\": \"Low Spend\"}, {\"CustomerID\": 158, \"Gender\": \"Female\", \"Age\": 30, \"Annual Income (k$)\": 78, \"Spending Score (1-100)\": 78, \"Income_Category\": \"High Income\", \"Spend_Category\": \"High Spend\"}, {\"CustomerID\": 159, \"Gender\": \"Male\", \"Age\": 34, \"Annual Income (k$)\": 78, \"Spending Score (1-100)\": 1, \"Income_Category\": \"High Income\", \"Spend_Category\": \"Low Spend\"}, {\"CustomerID\": 160, \"Gender\": \"Female\", \"Age\": 30, \"Annual Income (k$)\": 78, \"Spending Score (1-100)\": 73, \"Income_Category\": \"High Income\", \"Spend_Category\": \"High Spend\"}, {\"CustomerID\": 161, \"Gender\": \"Female\", \"Age\": 56, \"Annual Income (k$)\": 79, \"Spending Score (1-100)\": 35, \"Income_Category\": \"High Income\", \"Spend_Category\": \"Low Spend\"}, {\"CustomerID\": 162, \"Gender\": \"Female\", \"Age\": 29, \"Annual Income (k$)\": 79, \"Spending Score (1-100)\": 83, \"Income_Category\": \"High Income\", \"Spend_Category\": \"High Spend\"}, {\"CustomerID\": 163, \"Gender\": \"Male\", \"Age\": 19, \"Annual Income (k$)\": 81, \"Spending Score (1-100)\": 5, \"Income_Category\": \"High Income\", \"Spend_Category\": \"Low Spend\"}, {\"CustomerID\": 164, \"Gender\": \"Female\", \"Age\": 31, \"Annual Income (k$)\": 81, \"Spending Score (1-100)\": 93, \"Income_Category\": \"High Income\", \"Spend_Category\": \"High Spend\"}, {\"CustomerID\": 165, \"Gender\": \"Male\", \"Age\": 50, \"Annual Income (k$)\": 85, \"Spending Score (1-100)\": 26, \"Income_Category\": \"High Income\", \"Spend_Category\": \"Low Spend\"}, {\"CustomerID\": 166, \"Gender\": \"Female\", \"Age\": 36, \"Annual Income (k$)\": 85, \"Spending Score (1-100)\": 75, \"Income_Category\": \"High Income\", \"Spend_Category\": \"High Spend\"}, {\"CustomerID\": 167, \"Gender\": \"Male\", \"Age\": 42, \"Annual Income (k$)\": 86, \"Spending Score (1-100)\": 20, \"Income_Category\": \"High Income\", \"Spend_Category\": \"Low Spend\"}, {\"CustomerID\": 168, \"Gender\": \"Female\", \"Age\": 33, \"Annual Income (k$)\": 86, \"Spending Score (1-100)\": 95, \"Income_Category\": \"High Income\", \"Spend_Category\": \"High Spend\"}, {\"CustomerID\": 169, \"Gender\": \"Female\", \"Age\": 36, \"Annual Income (k$)\": 87, \"Spending Score (1-100)\": 27, \"Income_Category\": \"High Income\", \"Spend_Category\": \"Low Spend\"}, {\"CustomerID\": 170, \"Gender\": \"Male\", \"Age\": 32, \"Annual Income (k$)\": 87, \"Spending Score (1-100)\": 63, \"Income_Category\": \"High Income\", \"Spend_Category\": \"High Spend\"}, {\"CustomerID\": 171, \"Gender\": \"Male\", \"Age\": 40, \"Annual Income (k$)\": 87, \"Spending Score (1-100)\": 13, \"Income_Category\": \"High Income\", \"Spend_Category\": \"Low Spend\"}, {\"CustomerID\": 172, \"Gender\": \"Male\", \"Age\": 28, \"Annual Income (k$)\": 87, \"Spending Score (1-100)\": 75, \"Income_Category\": \"High Income\", \"Spend_Category\": \"High Spend\"}, {\"CustomerID\": 173, \"Gender\": \"Male\", \"Age\": 36, \"Annual Income (k$)\": 87, \"Spending Score (1-100)\": 10, \"Income_Category\": \"High Income\", \"Spend_Category\": \"Low Spend\"}, {\"CustomerID\": 174, \"Gender\": \"Male\", \"Age\": 36, \"Annual Income (k$)\": 87, \"Spending Score (1-100)\": 92, \"Income_Category\": \"High Income\", \"Spend_Category\": \"High Spend\"}, {\"CustomerID\": 175, \"Gender\": \"Female\", \"Age\": 52, \"Annual Income (k$)\": 88, \"Spending Score (1-100)\": 13, \"Income_Category\": \"High Income\", \"Spend_Category\": \"Low Spend\"}, {\"CustomerID\": 176, \"Gender\": \"Female\", \"Age\": 30, \"Annual Income (k$)\": 88, \"Spending Score (1-100)\": 86, \"Income_Category\": \"High Income\", \"Spend_Category\": \"High Spend\"}, {\"CustomerID\": 177, \"Gender\": \"Male\", \"Age\": 58, \"Annual Income (k$)\": 88, \"Spending Score (1-100)\": 15, \"Income_Category\": \"High Income\", \"Spend_Category\": \"Low Spend\"}, {\"CustomerID\": 178, \"Gender\": \"Male\", \"Age\": 27, \"Annual Income (k$)\": 88, \"Spending Score (1-100)\": 69, \"Income_Category\": \"High Income\", \"Spend_Category\": \"High Spend\"}, {\"CustomerID\": 179, \"Gender\": \"Male\", \"Age\": 59, \"Annual Income (k$)\": 93, \"Spending Score (1-100)\": 14, \"Income_Category\": \"High Income\", \"Spend_Category\": \"Low Spend\"}, {\"CustomerID\": 180, \"Gender\": \"Male\", \"Age\": 35, \"Annual Income (k$)\": 93, \"Spending Score (1-100)\": 90, \"Income_Category\": \"High Income\", \"Spend_Category\": \"High Spend\"}, {\"CustomerID\": 181, \"Gender\": \"Female\", \"Age\": 37, \"Annual Income (k$)\": 97, \"Spending Score (1-100)\": 32, \"Income_Category\": \"High Income\", \"Spend_Category\": \"Low Spend\"}, {\"CustomerID\": 182, \"Gender\": \"Female\", \"Age\": 32, \"Annual Income (k$)\": 97, \"Spending Score (1-100)\": 86, \"Income_Category\": \"High Income\", \"Spend_Category\": \"High Spend\"}, {\"CustomerID\": 183, \"Gender\": \"Male\", \"Age\": 46, \"Annual Income (k$)\": 98, \"Spending Score (1-100)\": 15, \"Income_Category\": \"High Income\", \"Spend_Category\": \"Low Spend\"}, {\"CustomerID\": 184, \"Gender\": \"Female\", \"Age\": 29, \"Annual Income (k$)\": 98, \"Spending Score (1-100)\": 88, \"Income_Category\": \"High Income\", \"Spend_Category\": \"High Spend\"}, {\"CustomerID\": 185, \"Gender\": \"Female\", \"Age\": 41, \"Annual Income (k$)\": 99, \"Spending Score (1-100)\": 39, \"Income_Category\": \"High Income\", \"Spend_Category\": \"Low Spend\"}, {\"CustomerID\": 186, \"Gender\": \"Male\", \"Age\": 30, \"Annual Income (k$)\": 99, \"Spending Score (1-100)\": 97, \"Income_Category\": \"High Income\", \"Spend_Category\": \"High Spend\"}, {\"CustomerID\": 187, \"Gender\": \"Female\", \"Age\": 54, \"Annual Income (k$)\": 101, \"Spending Score (1-100)\": 24, \"Income_Category\": \"High Income\", \"Spend_Category\": \"Low Spend\"}, {\"CustomerID\": 188, \"Gender\": \"Male\", \"Age\": 28, \"Annual Income (k$)\": 101, \"Spending Score (1-100)\": 68, \"Income_Category\": \"High Income\", \"Spend_Category\": \"High Spend\"}, {\"CustomerID\": 189, \"Gender\": \"Female\", \"Age\": 41, \"Annual Income (k$)\": 103, \"Spending Score (1-100)\": 17, \"Income_Category\": \"High Income\", \"Spend_Category\": \"Low Spend\"}, {\"CustomerID\": 190, \"Gender\": \"Female\", \"Age\": 36, \"Annual Income (k$)\": 103, \"Spending Score (1-100)\": 85, \"Income_Category\": \"High Income\", \"Spend_Category\": \"High Spend\"}, {\"CustomerID\": 191, \"Gender\": \"Female\", \"Age\": 34, \"Annual Income (k$)\": 103, \"Spending Score (1-100)\": 23, \"Income_Category\": \"High Income\", \"Spend_Category\": \"Low Spend\"}, {\"CustomerID\": 192, \"Gender\": \"Female\", \"Age\": 32, \"Annual Income (k$)\": 103, \"Spending Score (1-100)\": 69, \"Income_Category\": \"High Income\", \"Spend_Category\": \"High Spend\"}, {\"CustomerID\": 193, \"Gender\": \"Male\", \"Age\": 33, \"Annual Income (k$)\": 113, \"Spending Score (1-100)\": 8, \"Income_Category\": \"High Income\", \"Spend_Category\": \"Low Spend\"}, {\"CustomerID\": 194, \"Gender\": \"Female\", \"Age\": 38, \"Annual Income (k$)\": 113, \"Spending Score (1-100)\": 91, \"Income_Category\": \"High Income\", \"Spend_Category\": \"High Spend\"}, {\"CustomerID\": 195, \"Gender\": \"Female\", \"Age\": 47, \"Annual Income (k$)\": 120, \"Spending Score (1-100)\": 16, \"Income_Category\": \"High Income\", \"Spend_Category\": \"Low Spend\"}, {\"CustomerID\": 196, \"Gender\": \"Female\", \"Age\": 35, \"Annual Income (k$)\": 120, \"Spending Score (1-100)\": 79, \"Income_Category\": \"High Income\", \"Spend_Category\": \"High Spend\"}, {\"CustomerID\": 197, \"Gender\": \"Female\", \"Age\": 45, \"Annual Income (k$)\": 126, \"Spending Score (1-100)\": 28, \"Income_Category\": \"High Income\", \"Spend_Category\": \"Low Spend\"}, {\"CustomerID\": 198, \"Gender\": \"Male\", \"Age\": 32, \"Annual Income (k$)\": 126, \"Spending Score (1-100)\": 74, \"Income_Category\": \"High Income\", \"Spend_Category\": \"High Spend\"}, {\"CustomerID\": 199, \"Gender\": \"Male\", \"Age\": 32, \"Annual Income (k$)\": 137, \"Spending Score (1-100)\": 18, \"Income_Category\": \"High Income\", \"Spend_Category\": \"Low Spend\"}, {\"CustomerID\": 200, \"Gender\": \"Male\", \"Age\": 30, \"Annual Income (k$)\": 137, \"Spending Score (1-100)\": 83, \"Income_Category\": \"High Income\", \"Spend_Category\": \"High Spend\"}]}}, {\"mode\": \"vega-lite\"});\n",
       "</script>"
      ],
      "text/plain": [
       "alt.Chart(...)"
      ]
     },
     "execution_count": 6,
     "metadata": {},
     "output_type": "execute_result"
    }
   ],
   "source": [
    "alt.Chart(df).mark_circle().encode(\n",
    "    x = 'Age:Q',\n",
    "    y = 'Annual Income (k$):Q',\n",
    "    facet = 'Gender:N',\n",
    "    color = 'Spend_Category:N'\n",
    ")"
   ]
  },
  {
   "cell_type": "markdown",
   "metadata": {},
   "source": [
    "Looks like the Income goes up with Age till age reaches 45-50, beyond this the Income starts going down."
   ]
  },
  {
   "cell_type": "code",
   "execution_count": 7,
   "metadata": {},
   "outputs": [
    {
     "data": {
      "text/html": [
       "\n",
       "<div id=\"altair-viz-6ba181dd37824e1380d1e5cd313d5fb5\"></div>\n",
       "<script type=\"text/javascript\">\n",
       "  (function(spec, embedOpt){\n",
       "    let outputDiv = document.currentScript.previousElementSibling;\n",
       "    if (outputDiv.id !== \"altair-viz-6ba181dd37824e1380d1e5cd313d5fb5\") {\n",
       "      outputDiv = document.getElementById(\"altair-viz-6ba181dd37824e1380d1e5cd313d5fb5\");\n",
       "    }\n",
       "    const paths = {\n",
       "      \"vega\": \"https://cdn.jsdelivr.net/npm//vega@5?noext\",\n",
       "      \"vega-lib\": \"https://cdn.jsdelivr.net/npm//vega-lib?noext\",\n",
       "      \"vega-lite\": \"https://cdn.jsdelivr.net/npm//vega-lite@4.8.1?noext\",\n",
       "      \"vega-embed\": \"https://cdn.jsdelivr.net/npm//vega-embed@6?noext\",\n",
       "    };\n",
       "\n",
       "    function loadScript(lib) {\n",
       "      return new Promise(function(resolve, reject) {\n",
       "        var s = document.createElement('script');\n",
       "        s.src = paths[lib];\n",
       "        s.async = true;\n",
       "        s.onload = () => resolve(paths[lib]);\n",
       "        s.onerror = () => reject(`Error loading script: ${paths[lib]}`);\n",
       "        document.getElementsByTagName(\"head\")[0].appendChild(s);\n",
       "      });\n",
       "    }\n",
       "\n",
       "    function showError(err) {\n",
       "      outputDiv.innerHTML = `<div class=\"error\" style=\"color:red;\">${err}</div>`;\n",
       "      throw err;\n",
       "    }\n",
       "\n",
       "    function displayChart(vegaEmbed) {\n",
       "      vegaEmbed(outputDiv, spec, embedOpt)\n",
       "        .catch(err => showError(`Javascript Error: ${err.message}<br>This usually means there's a typo in your chart specification. See the javascript console for the full traceback.`));\n",
       "    }\n",
       "\n",
       "    if(typeof define === \"function\" && define.amd) {\n",
       "      requirejs.config({paths});\n",
       "      require([\"vega-embed\"], displayChart, err => showError(`Error loading script: ${err.message}`));\n",
       "    } else if (typeof vegaEmbed === \"function\") {\n",
       "      displayChart(vegaEmbed);\n",
       "    } else {\n",
       "      loadScript(\"vega\")\n",
       "        .then(() => loadScript(\"vega-lite\"))\n",
       "        .then(() => loadScript(\"vega-embed\"))\n",
       "        .catch(showError)\n",
       "        .then(() => displayChart(vegaEmbed));\n",
       "    }\n",
       "  })({\"config\": {\"view\": {\"continuousWidth\": 400, \"continuousHeight\": 300}}, \"data\": {\"name\": \"data-e8d52c848f344dbdead28cfd7643ef34\"}, \"mark\": \"circle\", \"encoding\": {\"color\": {\"type\": \"nominal\", \"field\": \"Income_Category\"}, \"facet\": {\"type\": \"nominal\", \"field\": \"Gender\"}, \"x\": {\"type\": \"quantitative\", \"field\": \"Age\"}, \"y\": {\"type\": \"quantitative\", \"field\": \"Spending Score (1-100)\"}}, \"$schema\": \"https://vega.github.io/schema/vega-lite/v4.8.1.json\", \"datasets\": {\"data-e8d52c848f344dbdead28cfd7643ef34\": [{\"CustomerID\": 1, \"Gender\": \"Male\", \"Age\": 19, \"Annual Income (k$)\": 15, \"Spending Score (1-100)\": 39, \"Income_Category\": \"Low Income\", \"Spend_Category\": \"Low Spend\"}, {\"CustomerID\": 2, \"Gender\": \"Male\", \"Age\": 21, \"Annual Income (k$)\": 15, \"Spending Score (1-100)\": 81, \"Income_Category\": \"Low Income\", \"Spend_Category\": \"High Spend\"}, {\"CustomerID\": 3, \"Gender\": \"Female\", \"Age\": 20, \"Annual Income (k$)\": 16, \"Spending Score (1-100)\": 6, \"Income_Category\": \"Low Income\", \"Spend_Category\": \"Low Spend\"}, {\"CustomerID\": 4, \"Gender\": \"Female\", \"Age\": 23, \"Annual Income (k$)\": 16, \"Spending Score (1-100)\": 77, \"Income_Category\": \"Low Income\", \"Spend_Category\": \"High Spend\"}, {\"CustomerID\": 5, \"Gender\": \"Female\", \"Age\": 31, \"Annual Income (k$)\": 17, \"Spending Score (1-100)\": 40, \"Income_Category\": \"Low Income\", \"Spend_Category\": \"Medium Spend\"}, {\"CustomerID\": 6, \"Gender\": \"Female\", \"Age\": 22, \"Annual Income (k$)\": 17, \"Spending Score (1-100)\": 76, \"Income_Category\": \"Low Income\", \"Spend_Category\": \"High Spend\"}, {\"CustomerID\": 7, \"Gender\": \"Female\", \"Age\": 35, \"Annual Income (k$)\": 18, \"Spending Score (1-100)\": 6, \"Income_Category\": \"Low Income\", \"Spend_Category\": \"Low Spend\"}, {\"CustomerID\": 8, \"Gender\": \"Female\", \"Age\": 23, \"Annual Income (k$)\": 18, \"Spending Score (1-100)\": 94, \"Income_Category\": \"Low Income\", \"Spend_Category\": \"High Spend\"}, {\"CustomerID\": 9, \"Gender\": \"Male\", \"Age\": 64, \"Annual Income (k$)\": 19, \"Spending Score (1-100)\": 3, \"Income_Category\": \"Low Income\", \"Spend_Category\": \"Low Spend\"}, {\"CustomerID\": 10, \"Gender\": \"Female\", \"Age\": 30, \"Annual Income (k$)\": 19, \"Spending Score (1-100)\": 72, \"Income_Category\": \"Low Income\", \"Spend_Category\": \"High Spend\"}, {\"CustomerID\": 11, \"Gender\": \"Male\", \"Age\": 67, \"Annual Income (k$)\": 19, \"Spending Score (1-100)\": 14, \"Income_Category\": \"Low Income\", \"Spend_Category\": \"Low Spend\"}, {\"CustomerID\": 12, \"Gender\": \"Female\", \"Age\": 35, \"Annual Income (k$)\": 19, \"Spending Score (1-100)\": 99, \"Income_Category\": \"Low Income\", \"Spend_Category\": \"High Spend\"}, {\"CustomerID\": 13, \"Gender\": \"Female\", \"Age\": 58, \"Annual Income (k$)\": 20, \"Spending Score (1-100)\": 15, \"Income_Category\": \"Low Income\", \"Spend_Category\": \"Low Spend\"}, {\"CustomerID\": 14, \"Gender\": \"Female\", \"Age\": 24, \"Annual Income (k$)\": 20, \"Spending Score (1-100)\": 77, \"Income_Category\": \"Low Income\", \"Spend_Category\": \"High Spend\"}, {\"CustomerID\": 15, \"Gender\": \"Male\", \"Age\": 37, \"Annual Income (k$)\": 20, \"Spending Score (1-100)\": 13, \"Income_Category\": \"Low Income\", \"Spend_Category\": \"Low Spend\"}, {\"CustomerID\": 16, \"Gender\": \"Male\", \"Age\": 22, \"Annual Income (k$)\": 20, \"Spending Score (1-100)\": 79, \"Income_Category\": \"Low Income\", \"Spend_Category\": \"High Spend\"}, {\"CustomerID\": 17, \"Gender\": \"Female\", \"Age\": 35, \"Annual Income (k$)\": 21, \"Spending Score (1-100)\": 35, \"Income_Category\": \"Low Income\", \"Spend_Category\": \"Low Spend\"}, {\"CustomerID\": 18, \"Gender\": \"Male\", \"Age\": 20, \"Annual Income (k$)\": 21, \"Spending Score (1-100)\": 66, \"Income_Category\": \"Low Income\", \"Spend_Category\": \"High Spend\"}, {\"CustomerID\": 19, \"Gender\": \"Male\", \"Age\": 52, \"Annual Income (k$)\": 23, \"Spending Score (1-100)\": 29, \"Income_Category\": \"Low Income\", \"Spend_Category\": \"Low Spend\"}, {\"CustomerID\": 20, \"Gender\": \"Female\", \"Age\": 35, \"Annual Income (k$)\": 23, \"Spending Score (1-100)\": 98, \"Income_Category\": \"Low Income\", \"Spend_Category\": \"High Spend\"}, {\"CustomerID\": 21, \"Gender\": \"Male\", \"Age\": 35, \"Annual Income (k$)\": 24, \"Spending Score (1-100)\": 35, \"Income_Category\": \"Low Income\", \"Spend_Category\": \"Low Spend\"}, {\"CustomerID\": 22, \"Gender\": \"Male\", \"Age\": 25, \"Annual Income (k$)\": 24, \"Spending Score (1-100)\": 73, \"Income_Category\": \"Low Income\", \"Spend_Category\": \"High Spend\"}, {\"CustomerID\": 23, \"Gender\": \"Female\", \"Age\": 46, \"Annual Income (k$)\": 25, \"Spending Score (1-100)\": 5, \"Income_Category\": \"Low Income\", \"Spend_Category\": \"Low Spend\"}, {\"CustomerID\": 24, \"Gender\": \"Male\", \"Age\": 31, \"Annual Income (k$)\": 25, \"Spending Score (1-100)\": 73, \"Income_Category\": \"Low Income\", \"Spend_Category\": \"High Spend\"}, {\"CustomerID\": 25, \"Gender\": \"Female\", \"Age\": 54, \"Annual Income (k$)\": 28, \"Spending Score (1-100)\": 14, \"Income_Category\": \"Low Income\", \"Spend_Category\": \"Low Spend\"}, {\"CustomerID\": 26, \"Gender\": \"Male\", \"Age\": 29, \"Annual Income (k$)\": 28, \"Spending Score (1-100)\": 82, \"Income_Category\": \"Low Income\", \"Spend_Category\": \"High Spend\"}, {\"CustomerID\": 27, \"Gender\": \"Female\", \"Age\": 45, \"Annual Income (k$)\": 28, \"Spending Score (1-100)\": 32, \"Income_Category\": \"Low Income\", \"Spend_Category\": \"Low Spend\"}, {\"CustomerID\": 28, \"Gender\": \"Male\", \"Age\": 35, \"Annual Income (k$)\": 28, \"Spending Score (1-100)\": 61, \"Income_Category\": \"Low Income\", \"Spend_Category\": \"High Spend\"}, {\"CustomerID\": 29, \"Gender\": \"Female\", \"Age\": 40, \"Annual Income (k$)\": 29, \"Spending Score (1-100)\": 31, \"Income_Category\": \"Low Income\", \"Spend_Category\": \"Low Spend\"}, {\"CustomerID\": 30, \"Gender\": \"Female\", \"Age\": 23, \"Annual Income (k$)\": 29, \"Spending Score (1-100)\": 87, \"Income_Category\": \"Low Income\", \"Spend_Category\": \"High Spend\"}, {\"CustomerID\": 31, \"Gender\": \"Male\", \"Age\": 60, \"Annual Income (k$)\": 30, \"Spending Score (1-100)\": 4, \"Income_Category\": \"Low Income\", \"Spend_Category\": \"Low Spend\"}, {\"CustomerID\": 32, \"Gender\": \"Female\", \"Age\": 21, \"Annual Income (k$)\": 30, \"Spending Score (1-100)\": 73, \"Income_Category\": \"Low Income\", \"Spend_Category\": \"High Spend\"}, {\"CustomerID\": 33, \"Gender\": \"Male\", \"Age\": 53, \"Annual Income (k$)\": 33, \"Spending Score (1-100)\": 4, \"Income_Category\": \"Low Income\", \"Spend_Category\": \"Low Spend\"}, {\"CustomerID\": 34, \"Gender\": \"Male\", \"Age\": 18, \"Annual Income (k$)\": 33, \"Spending Score (1-100)\": 92, \"Income_Category\": \"Low Income\", \"Spend_Category\": \"High Spend\"}, {\"CustomerID\": 35, \"Gender\": \"Female\", \"Age\": 49, \"Annual Income (k$)\": 33, \"Spending Score (1-100)\": 14, \"Income_Category\": \"Low Income\", \"Spend_Category\": \"Low Spend\"}, {\"CustomerID\": 36, \"Gender\": \"Female\", \"Age\": 21, \"Annual Income (k$)\": 33, \"Spending Score (1-100)\": 81, \"Income_Category\": \"Low Income\", \"Spend_Category\": \"High Spend\"}, {\"CustomerID\": 37, \"Gender\": \"Female\", \"Age\": 42, \"Annual Income (k$)\": 34, \"Spending Score (1-100)\": 17, \"Income_Category\": \"Low Income\", \"Spend_Category\": \"Low Spend\"}, {\"CustomerID\": 38, \"Gender\": \"Female\", \"Age\": 30, \"Annual Income (k$)\": 34, \"Spending Score (1-100)\": 73, \"Income_Category\": \"Low Income\", \"Spend_Category\": \"High Spend\"}, {\"CustomerID\": 39, \"Gender\": \"Female\", \"Age\": 36, \"Annual Income (k$)\": 37, \"Spending Score (1-100)\": 26, \"Income_Category\": \"Low Income\", \"Spend_Category\": \"Low Spend\"}, {\"CustomerID\": 40, \"Gender\": \"Female\", \"Age\": 20, \"Annual Income (k$)\": 37, \"Spending Score (1-100)\": 75, \"Income_Category\": \"Low Income\", \"Spend_Category\": \"High Spend\"}, {\"CustomerID\": 41, \"Gender\": \"Female\", \"Age\": 65, \"Annual Income (k$)\": 38, \"Spending Score (1-100)\": 35, \"Income_Category\": \"Low Income\", \"Spend_Category\": \"Low Spend\"}, {\"CustomerID\": 42, \"Gender\": \"Male\", \"Age\": 24, \"Annual Income (k$)\": 38, \"Spending Score (1-100)\": 92, \"Income_Category\": \"Low Income\", \"Spend_Category\": \"High Spend\"}, {\"CustomerID\": 43, \"Gender\": \"Male\", \"Age\": 48, \"Annual Income (k$)\": 39, \"Spending Score (1-100)\": 36, \"Income_Category\": \"Low Income\", \"Spend_Category\": \"Low Spend\"}, {\"CustomerID\": 44, \"Gender\": \"Female\", \"Age\": 31, \"Annual Income (k$)\": 39, \"Spending Score (1-100)\": 61, \"Income_Category\": \"Low Income\", \"Spend_Category\": \"High Spend\"}, {\"CustomerID\": 45, \"Gender\": \"Female\", \"Age\": 49, \"Annual Income (k$)\": 39, \"Spending Score (1-100)\": 28, \"Income_Category\": \"Low Income\", \"Spend_Category\": \"Low Spend\"}, {\"CustomerID\": 46, \"Gender\": \"Female\", \"Age\": 24, \"Annual Income (k$)\": 39, \"Spending Score (1-100)\": 65, \"Income_Category\": \"Low Income\", \"Spend_Category\": \"High Spend\"}, {\"CustomerID\": 47, \"Gender\": \"Female\", \"Age\": 50, \"Annual Income (k$)\": 40, \"Spending Score (1-100)\": 55, \"Income_Category\": \"Medium Income\", \"Spend_Category\": \"Medium Spend\"}, {\"CustomerID\": 48, \"Gender\": \"Female\", \"Age\": 27, \"Annual Income (k$)\": 40, \"Spending Score (1-100)\": 47, \"Income_Category\": \"Medium Income\", \"Spend_Category\": \"Medium Spend\"}, {\"CustomerID\": 49, \"Gender\": \"Female\", \"Age\": 29, \"Annual Income (k$)\": 40, \"Spending Score (1-100)\": 42, \"Income_Category\": \"Medium Income\", \"Spend_Category\": \"Medium Spend\"}, {\"CustomerID\": 50, \"Gender\": \"Female\", \"Age\": 31, \"Annual Income (k$)\": 40, \"Spending Score (1-100)\": 42, \"Income_Category\": \"Medium Income\", \"Spend_Category\": \"Medium Spend\"}, {\"CustomerID\": 51, \"Gender\": \"Female\", \"Age\": 49, \"Annual Income (k$)\": 42, \"Spending Score (1-100)\": 52, \"Income_Category\": \"Medium Income\", \"Spend_Category\": \"Medium Spend\"}, {\"CustomerID\": 52, \"Gender\": \"Male\", \"Age\": 33, \"Annual Income (k$)\": 42, \"Spending Score (1-100)\": 60, \"Income_Category\": \"Medium Income\", \"Spend_Category\": \"High Spend\"}, {\"CustomerID\": 53, \"Gender\": \"Female\", \"Age\": 31, \"Annual Income (k$)\": 43, \"Spending Score (1-100)\": 54, \"Income_Category\": \"Medium Income\", \"Spend_Category\": \"Medium Spend\"}, {\"CustomerID\": 54, \"Gender\": \"Male\", \"Age\": 59, \"Annual Income (k$)\": 43, \"Spending Score (1-100)\": 60, \"Income_Category\": \"Medium Income\", \"Spend_Category\": \"High Spend\"}, {\"CustomerID\": 55, \"Gender\": \"Female\", \"Age\": 50, \"Annual Income (k$)\": 43, \"Spending Score (1-100)\": 45, \"Income_Category\": \"Medium Income\", \"Spend_Category\": \"Medium Spend\"}, {\"CustomerID\": 56, \"Gender\": \"Male\", \"Age\": 47, \"Annual Income (k$)\": 43, \"Spending Score (1-100)\": 41, \"Income_Category\": \"Medium Income\", \"Spend_Category\": \"Medium Spend\"}, {\"CustomerID\": 57, \"Gender\": \"Female\", \"Age\": 51, \"Annual Income (k$)\": 44, \"Spending Score (1-100)\": 50, \"Income_Category\": \"Medium Income\", \"Spend_Category\": \"Medium Spend\"}, {\"CustomerID\": 58, \"Gender\": \"Male\", \"Age\": 69, \"Annual Income (k$)\": 44, \"Spending Score (1-100)\": 46, \"Income_Category\": \"Medium Income\", \"Spend_Category\": \"Medium Spend\"}, {\"CustomerID\": 59, \"Gender\": \"Female\", \"Age\": 27, \"Annual Income (k$)\": 46, \"Spending Score (1-100)\": 51, \"Income_Category\": \"Medium Income\", \"Spend_Category\": \"Medium Spend\"}, {\"CustomerID\": 60, \"Gender\": \"Male\", \"Age\": 53, \"Annual Income (k$)\": 46, \"Spending Score (1-100)\": 46, \"Income_Category\": \"Medium Income\", \"Spend_Category\": \"Medium Spend\"}, {\"CustomerID\": 61, \"Gender\": \"Male\", \"Age\": 70, \"Annual Income (k$)\": 46, \"Spending Score (1-100)\": 56, \"Income_Category\": \"Medium Income\", \"Spend_Category\": \"Medium Spend\"}, {\"CustomerID\": 62, \"Gender\": \"Male\", \"Age\": 19, \"Annual Income (k$)\": 46, \"Spending Score (1-100)\": 55, \"Income_Category\": \"Medium Income\", \"Spend_Category\": \"Medium Spend\"}, {\"CustomerID\": 63, \"Gender\": \"Female\", \"Age\": 67, \"Annual Income (k$)\": 47, \"Spending Score (1-100)\": 52, \"Income_Category\": \"Medium Income\", \"Spend_Category\": \"Medium Spend\"}, {\"CustomerID\": 64, \"Gender\": \"Female\", \"Age\": 54, \"Annual Income (k$)\": 47, \"Spending Score (1-100)\": 59, \"Income_Category\": \"Medium Income\", \"Spend_Category\": \"Medium Spend\"}, {\"CustomerID\": 65, \"Gender\": \"Male\", \"Age\": 63, \"Annual Income (k$)\": 48, \"Spending Score (1-100)\": 51, \"Income_Category\": \"Medium Income\", \"Spend_Category\": \"Medium Spend\"}, {\"CustomerID\": 66, \"Gender\": \"Male\", \"Age\": 18, \"Annual Income (k$)\": 48, \"Spending Score (1-100)\": 59, \"Income_Category\": \"Medium Income\", \"Spend_Category\": \"Medium Spend\"}, {\"CustomerID\": 67, \"Gender\": \"Female\", \"Age\": 43, \"Annual Income (k$)\": 48, \"Spending Score (1-100)\": 50, \"Income_Category\": \"Medium Income\", \"Spend_Category\": \"Medium Spend\"}, {\"CustomerID\": 68, \"Gender\": \"Female\", \"Age\": 68, \"Annual Income (k$)\": 48, \"Spending Score (1-100)\": 48, \"Income_Category\": \"Medium Income\", \"Spend_Category\": \"Medium Spend\"}, {\"CustomerID\": 69, \"Gender\": \"Male\", \"Age\": 19, \"Annual Income (k$)\": 48, \"Spending Score (1-100)\": 59, \"Income_Category\": \"Medium Income\", \"Spend_Category\": \"Medium Spend\"}, {\"CustomerID\": 70, \"Gender\": \"Female\", \"Age\": 32, \"Annual Income (k$)\": 48, \"Spending Score (1-100)\": 47, \"Income_Category\": \"Medium Income\", \"Spend_Category\": \"Medium Spend\"}, {\"CustomerID\": 71, \"Gender\": \"Male\", \"Age\": 70, \"Annual Income (k$)\": 49, \"Spending Score (1-100)\": 55, \"Income_Category\": \"Medium Income\", \"Spend_Category\": \"Medium Spend\"}, {\"CustomerID\": 72, \"Gender\": \"Female\", \"Age\": 47, \"Annual Income (k$)\": 49, \"Spending Score (1-100)\": 42, \"Income_Category\": \"Medium Income\", \"Spend_Category\": \"Medium Spend\"}, {\"CustomerID\": 73, \"Gender\": \"Female\", \"Age\": 60, \"Annual Income (k$)\": 50, \"Spending Score (1-100)\": 49, \"Income_Category\": \"Medium Income\", \"Spend_Category\": \"Medium Spend\"}, {\"CustomerID\": 74, \"Gender\": \"Female\", \"Age\": 60, \"Annual Income (k$)\": 50, \"Spending Score (1-100)\": 56, \"Income_Category\": \"Medium Income\", \"Spend_Category\": \"Medium Spend\"}, {\"CustomerID\": 75, \"Gender\": \"Male\", \"Age\": 59, \"Annual Income (k$)\": 54, \"Spending Score (1-100)\": 47, \"Income_Category\": \"Medium Income\", \"Spend_Category\": \"Medium Spend\"}, {\"CustomerID\": 76, \"Gender\": \"Male\", \"Age\": 26, \"Annual Income (k$)\": 54, \"Spending Score (1-100)\": 54, \"Income_Category\": \"Medium Income\", \"Spend_Category\": \"Medium Spend\"}, {\"CustomerID\": 77, \"Gender\": \"Female\", \"Age\": 45, \"Annual Income (k$)\": 54, \"Spending Score (1-100)\": 53, \"Income_Category\": \"Medium Income\", \"Spend_Category\": \"Medium Spend\"}, {\"CustomerID\": 78, \"Gender\": \"Male\", \"Age\": 40, \"Annual Income (k$)\": 54, \"Spending Score (1-100)\": 48, \"Income_Category\": \"Medium Income\", \"Spend_Category\": \"Medium Spend\"}, {\"CustomerID\": 79, \"Gender\": \"Female\", \"Age\": 23, \"Annual Income (k$)\": 54, \"Spending Score (1-100)\": 52, \"Income_Category\": \"Medium Income\", \"Spend_Category\": \"Medium Spend\"}, {\"CustomerID\": 80, \"Gender\": \"Female\", \"Age\": 49, \"Annual Income (k$)\": 54, \"Spending Score (1-100)\": 42, \"Income_Category\": \"Medium Income\", \"Spend_Category\": \"Medium Spend\"}, {\"CustomerID\": 81, \"Gender\": \"Male\", \"Age\": 57, \"Annual Income (k$)\": 54, \"Spending Score (1-100)\": 51, \"Income_Category\": \"Medium Income\", \"Spend_Category\": \"Medium Spend\"}, {\"CustomerID\": 82, \"Gender\": \"Male\", \"Age\": 38, \"Annual Income (k$)\": 54, \"Spending Score (1-100)\": 55, \"Income_Category\": \"Medium Income\", \"Spend_Category\": \"Medium Spend\"}, {\"CustomerID\": 83, \"Gender\": \"Male\", \"Age\": 67, \"Annual Income (k$)\": 54, \"Spending Score (1-100)\": 41, \"Income_Category\": \"Medium Income\", \"Spend_Category\": \"Medium Spend\"}, {\"CustomerID\": 84, \"Gender\": \"Female\", \"Age\": 46, \"Annual Income (k$)\": 54, \"Spending Score (1-100)\": 44, \"Income_Category\": \"Medium Income\", \"Spend_Category\": \"Medium Spend\"}, {\"CustomerID\": 85, \"Gender\": \"Female\", \"Age\": 21, \"Annual Income (k$)\": 54, \"Spending Score (1-100)\": 57, \"Income_Category\": \"Medium Income\", \"Spend_Category\": \"Medium Spend\"}, {\"CustomerID\": 86, \"Gender\": \"Male\", \"Age\": 48, \"Annual Income (k$)\": 54, \"Spending Score (1-100)\": 46, \"Income_Category\": \"Medium Income\", \"Spend_Category\": \"Medium Spend\"}, {\"CustomerID\": 87, \"Gender\": \"Female\", \"Age\": 55, \"Annual Income (k$)\": 57, \"Spending Score (1-100)\": 58, \"Income_Category\": \"Medium Income\", \"Spend_Category\": \"Medium Spend\"}, {\"CustomerID\": 88, \"Gender\": \"Female\", \"Age\": 22, \"Annual Income (k$)\": 57, \"Spending Score (1-100)\": 55, \"Income_Category\": \"Medium Income\", \"Spend_Category\": \"Medium Spend\"}, {\"CustomerID\": 89, \"Gender\": \"Female\", \"Age\": 34, \"Annual Income (k$)\": 58, \"Spending Score (1-100)\": 60, \"Income_Category\": \"Medium Income\", \"Spend_Category\": \"High Spend\"}, {\"CustomerID\": 90, \"Gender\": \"Female\", \"Age\": 50, \"Annual Income (k$)\": 58, \"Spending Score (1-100)\": 46, \"Income_Category\": \"Medium Income\", \"Spend_Category\": \"Medium Spend\"}, {\"CustomerID\": 91, \"Gender\": \"Female\", \"Age\": 68, \"Annual Income (k$)\": 59, \"Spending Score (1-100)\": 55, \"Income_Category\": \"Medium Income\", \"Spend_Category\": \"Medium Spend\"}, {\"CustomerID\": 92, \"Gender\": \"Male\", \"Age\": 18, \"Annual Income (k$)\": 59, \"Spending Score (1-100)\": 41, \"Income_Category\": \"Medium Income\", \"Spend_Category\": \"Medium Spend\"}, {\"CustomerID\": 93, \"Gender\": \"Male\", \"Age\": 48, \"Annual Income (k$)\": 60, \"Spending Score (1-100)\": 49, \"Income_Category\": \"Medium Income\", \"Spend_Category\": \"Medium Spend\"}, {\"CustomerID\": 94, \"Gender\": \"Female\", \"Age\": 40, \"Annual Income (k$)\": 60, \"Spending Score (1-100)\": 40, \"Income_Category\": \"Medium Income\", \"Spend_Category\": \"Medium Spend\"}, {\"CustomerID\": 95, \"Gender\": \"Female\", \"Age\": 32, \"Annual Income (k$)\": 60, \"Spending Score (1-100)\": 42, \"Income_Category\": \"Medium Income\", \"Spend_Category\": \"Medium Spend\"}, {\"CustomerID\": 96, \"Gender\": \"Male\", \"Age\": 24, \"Annual Income (k$)\": 60, \"Spending Score (1-100)\": 52, \"Income_Category\": \"Medium Income\", \"Spend_Category\": \"Medium Spend\"}, {\"CustomerID\": 97, \"Gender\": \"Female\", \"Age\": 47, \"Annual Income (k$)\": 60, \"Spending Score (1-100)\": 47, \"Income_Category\": \"Medium Income\", \"Spend_Category\": \"Medium Spend\"}, {\"CustomerID\": 98, \"Gender\": \"Female\", \"Age\": 27, \"Annual Income (k$)\": 60, \"Spending Score (1-100)\": 50, \"Income_Category\": \"Medium Income\", \"Spend_Category\": \"Medium Spend\"}, {\"CustomerID\": 99, \"Gender\": \"Male\", \"Age\": 48, \"Annual Income (k$)\": 61, \"Spending Score (1-100)\": 42, \"Income_Category\": \"Medium Income\", \"Spend_Category\": \"Medium Spend\"}, {\"CustomerID\": 100, \"Gender\": \"Male\", \"Age\": 20, \"Annual Income (k$)\": 61, \"Spending Score (1-100)\": 49, \"Income_Category\": \"Medium Income\", \"Spend_Category\": \"Medium Spend\"}, {\"CustomerID\": 101, \"Gender\": \"Female\", \"Age\": 23, \"Annual Income (k$)\": 62, \"Spending Score (1-100)\": 41, \"Income_Category\": \"Medium Income\", \"Spend_Category\": \"Medium Spend\"}, {\"CustomerID\": 102, \"Gender\": \"Female\", \"Age\": 49, \"Annual Income (k$)\": 62, \"Spending Score (1-100)\": 48, \"Income_Category\": \"Medium Income\", \"Spend_Category\": \"Medium Spend\"}, {\"CustomerID\": 103, \"Gender\": \"Male\", \"Age\": 67, \"Annual Income (k$)\": 62, \"Spending Score (1-100)\": 59, \"Income_Category\": \"Medium Income\", \"Spend_Category\": \"Medium Spend\"}, {\"CustomerID\": 104, \"Gender\": \"Male\", \"Age\": 26, \"Annual Income (k$)\": 62, \"Spending Score (1-100)\": 55, \"Income_Category\": \"Medium Income\", \"Spend_Category\": \"Medium Spend\"}, {\"CustomerID\": 105, \"Gender\": \"Male\", \"Age\": 49, \"Annual Income (k$)\": 62, \"Spending Score (1-100)\": 56, \"Income_Category\": \"Medium Income\", \"Spend_Category\": \"Medium Spend\"}, {\"CustomerID\": 106, \"Gender\": \"Female\", \"Age\": 21, \"Annual Income (k$)\": 62, \"Spending Score (1-100)\": 42, \"Income_Category\": \"Medium Income\", \"Spend_Category\": \"Medium Spend\"}, {\"CustomerID\": 107, \"Gender\": \"Female\", \"Age\": 66, \"Annual Income (k$)\": 63, \"Spending Score (1-100)\": 50, \"Income_Category\": \"Medium Income\", \"Spend_Category\": \"Medium Spend\"}, {\"CustomerID\": 108, \"Gender\": \"Male\", \"Age\": 54, \"Annual Income (k$)\": 63, \"Spending Score (1-100)\": 46, \"Income_Category\": \"Medium Income\", \"Spend_Category\": \"Medium Spend\"}, {\"CustomerID\": 109, \"Gender\": \"Male\", \"Age\": 68, \"Annual Income (k$)\": 63, \"Spending Score (1-100)\": 43, \"Income_Category\": \"Medium Income\", \"Spend_Category\": \"Medium Spend\"}, {\"CustomerID\": 110, \"Gender\": \"Male\", \"Age\": 66, \"Annual Income (k$)\": 63, \"Spending Score (1-100)\": 48, \"Income_Category\": \"Medium Income\", \"Spend_Category\": \"Medium Spend\"}, {\"CustomerID\": 111, \"Gender\": \"Male\", \"Age\": 65, \"Annual Income (k$)\": 63, \"Spending Score (1-100)\": 52, \"Income_Category\": \"Medium Income\", \"Spend_Category\": \"Medium Spend\"}, {\"CustomerID\": 112, \"Gender\": \"Female\", \"Age\": 19, \"Annual Income (k$)\": 63, \"Spending Score (1-100)\": 54, \"Income_Category\": \"Medium Income\", \"Spend_Category\": \"Medium Spend\"}, {\"CustomerID\": 113, \"Gender\": \"Female\", \"Age\": 38, \"Annual Income (k$)\": 64, \"Spending Score (1-100)\": 42, \"Income_Category\": \"Medium Income\", \"Spend_Category\": \"Medium Spend\"}, {\"CustomerID\": 114, \"Gender\": \"Male\", \"Age\": 19, \"Annual Income (k$)\": 64, \"Spending Score (1-100)\": 46, \"Income_Category\": \"Medium Income\", \"Spend_Category\": \"Medium Spend\"}, {\"CustomerID\": 115, \"Gender\": \"Female\", \"Age\": 18, \"Annual Income (k$)\": 65, \"Spending Score (1-100)\": 48, \"Income_Category\": \"Medium Income\", \"Spend_Category\": \"Medium Spend\"}, {\"CustomerID\": 116, \"Gender\": \"Female\", \"Age\": 19, \"Annual Income (k$)\": 65, \"Spending Score (1-100)\": 50, \"Income_Category\": \"Medium Income\", \"Spend_Category\": \"Medium Spend\"}, {\"CustomerID\": 117, \"Gender\": \"Female\", \"Age\": 63, \"Annual Income (k$)\": 65, \"Spending Score (1-100)\": 43, \"Income_Category\": \"Medium Income\", \"Spend_Category\": \"Medium Spend\"}, {\"CustomerID\": 118, \"Gender\": \"Female\", \"Age\": 49, \"Annual Income (k$)\": 65, \"Spending Score (1-100)\": 59, \"Income_Category\": \"Medium Income\", \"Spend_Category\": \"Medium Spend\"}, {\"CustomerID\": 119, \"Gender\": \"Female\", \"Age\": 51, \"Annual Income (k$)\": 67, \"Spending Score (1-100)\": 43, \"Income_Category\": \"Medium Income\", \"Spend_Category\": \"Medium Spend\"}, {\"CustomerID\": 120, \"Gender\": \"Female\", \"Age\": 50, \"Annual Income (k$)\": 67, \"Spending Score (1-100)\": 57, \"Income_Category\": \"Medium Income\", \"Spend_Category\": \"Medium Spend\"}, {\"CustomerID\": 121, \"Gender\": \"Male\", \"Age\": 27, \"Annual Income (k$)\": 67, \"Spending Score (1-100)\": 56, \"Income_Category\": \"Medium Income\", \"Spend_Category\": \"Medium Spend\"}, {\"CustomerID\": 122, \"Gender\": \"Female\", \"Age\": 38, \"Annual Income (k$)\": 67, \"Spending Score (1-100)\": 40, \"Income_Category\": \"Medium Income\", \"Spend_Category\": \"Medium Spend\"}, {\"CustomerID\": 123, \"Gender\": \"Female\", \"Age\": 40, \"Annual Income (k$)\": 69, \"Spending Score (1-100)\": 58, \"Income_Category\": \"Medium Income\", \"Spend_Category\": \"Medium Spend\"}, {\"CustomerID\": 124, \"Gender\": \"Male\", \"Age\": 39, \"Annual Income (k$)\": 69, \"Spending Score (1-100)\": 91, \"Income_Category\": \"Medium Income\", \"Spend_Category\": \"High Spend\"}, {\"CustomerID\": 125, \"Gender\": \"Female\", \"Age\": 23, \"Annual Income (k$)\": 70, \"Spending Score (1-100)\": 29, \"Income_Category\": \"High Income\", \"Spend_Category\": \"Low Spend\"}, {\"CustomerID\": 126, \"Gender\": \"Female\", \"Age\": 31, \"Annual Income (k$)\": 70, \"Spending Score (1-100)\": 77, \"Income_Category\": \"High Income\", \"Spend_Category\": \"High Spend\"}, {\"CustomerID\": 127, \"Gender\": \"Male\", \"Age\": 43, \"Annual Income (k$)\": 71, \"Spending Score (1-100)\": 35, \"Income_Category\": \"High Income\", \"Spend_Category\": \"Low Spend\"}, {\"CustomerID\": 128, \"Gender\": \"Male\", \"Age\": 40, \"Annual Income (k$)\": 71, \"Spending Score (1-100)\": 95, \"Income_Category\": \"High Income\", \"Spend_Category\": \"High Spend\"}, {\"CustomerID\": 129, \"Gender\": \"Male\", \"Age\": 59, \"Annual Income (k$)\": 71, \"Spending Score (1-100)\": 11, \"Income_Category\": \"High Income\", \"Spend_Category\": \"Low Spend\"}, {\"CustomerID\": 130, \"Gender\": \"Male\", \"Age\": 38, \"Annual Income (k$)\": 71, \"Spending Score (1-100)\": 75, \"Income_Category\": \"High Income\", \"Spend_Category\": \"High Spend\"}, {\"CustomerID\": 131, \"Gender\": \"Male\", \"Age\": 47, \"Annual Income (k$)\": 71, \"Spending Score (1-100)\": 9, \"Income_Category\": \"High Income\", \"Spend_Category\": \"Low Spend\"}, {\"CustomerID\": 132, \"Gender\": \"Male\", \"Age\": 39, \"Annual Income (k$)\": 71, \"Spending Score (1-100)\": 75, \"Income_Category\": \"High Income\", \"Spend_Category\": \"High Spend\"}, {\"CustomerID\": 133, \"Gender\": \"Female\", \"Age\": 25, \"Annual Income (k$)\": 72, \"Spending Score (1-100)\": 34, \"Income_Category\": \"High Income\", \"Spend_Category\": \"Low Spend\"}, {\"CustomerID\": 134, \"Gender\": \"Female\", \"Age\": 31, \"Annual Income (k$)\": 72, \"Spending Score (1-100)\": 71, \"Income_Category\": \"High Income\", \"Spend_Category\": \"High Spend\"}, {\"CustomerID\": 135, \"Gender\": \"Male\", \"Age\": 20, \"Annual Income (k$)\": 73, \"Spending Score (1-100)\": 5, \"Income_Category\": \"High Income\", \"Spend_Category\": \"Low Spend\"}, {\"CustomerID\": 136, \"Gender\": \"Female\", \"Age\": 29, \"Annual Income (k$)\": 73, \"Spending Score (1-100)\": 88, \"Income_Category\": \"High Income\", \"Spend_Category\": \"High Spend\"}, {\"CustomerID\": 137, \"Gender\": \"Female\", \"Age\": 44, \"Annual Income (k$)\": 73, \"Spending Score (1-100)\": 7, \"Income_Category\": \"High Income\", \"Spend_Category\": \"Low Spend\"}, {\"CustomerID\": 138, \"Gender\": \"Male\", \"Age\": 32, \"Annual Income (k$)\": 73, \"Spending Score (1-100)\": 73, \"Income_Category\": \"High Income\", \"Spend_Category\": \"High Spend\"}, {\"CustomerID\": 139, \"Gender\": \"Male\", \"Age\": 19, \"Annual Income (k$)\": 74, \"Spending Score (1-100)\": 10, \"Income_Category\": \"High Income\", \"Spend_Category\": \"Low Spend\"}, {\"CustomerID\": 140, \"Gender\": \"Female\", \"Age\": 35, \"Annual Income (k$)\": 74, \"Spending Score (1-100)\": 72, \"Income_Category\": \"High Income\", \"Spend_Category\": \"High Spend\"}, {\"CustomerID\": 141, \"Gender\": \"Female\", \"Age\": 57, \"Annual Income (k$)\": 75, \"Spending Score (1-100)\": 5, \"Income_Category\": \"High Income\", \"Spend_Category\": \"Low Spend\"}, {\"CustomerID\": 142, \"Gender\": \"Male\", \"Age\": 32, \"Annual Income (k$)\": 75, \"Spending Score (1-100)\": 93, \"Income_Category\": \"High Income\", \"Spend_Category\": \"High Spend\"}, {\"CustomerID\": 143, \"Gender\": \"Female\", \"Age\": 28, \"Annual Income (k$)\": 76, \"Spending Score (1-100)\": 40, \"Income_Category\": \"High Income\", \"Spend_Category\": \"Medium Spend\"}, {\"CustomerID\": 144, \"Gender\": \"Female\", \"Age\": 32, \"Annual Income (k$)\": 76, \"Spending Score (1-100)\": 87, \"Income_Category\": \"High Income\", \"Spend_Category\": \"High Spend\"}, {\"CustomerID\": 145, \"Gender\": \"Male\", \"Age\": 25, \"Annual Income (k$)\": 77, \"Spending Score (1-100)\": 12, \"Income_Category\": \"High Income\", \"Spend_Category\": \"Low Spend\"}, {\"CustomerID\": 146, \"Gender\": \"Male\", \"Age\": 28, \"Annual Income (k$)\": 77, \"Spending Score (1-100)\": 97, \"Income_Category\": \"High Income\", \"Spend_Category\": \"High Spend\"}, {\"CustomerID\": 147, \"Gender\": \"Male\", \"Age\": 48, \"Annual Income (k$)\": 77, \"Spending Score (1-100)\": 36, \"Income_Category\": \"High Income\", \"Spend_Category\": \"Low Spend\"}, {\"CustomerID\": 148, \"Gender\": \"Female\", \"Age\": 32, \"Annual Income (k$)\": 77, \"Spending Score (1-100)\": 74, \"Income_Category\": \"High Income\", \"Spend_Category\": \"High Spend\"}, {\"CustomerID\": 149, \"Gender\": \"Female\", \"Age\": 34, \"Annual Income (k$)\": 78, \"Spending Score (1-100)\": 22, \"Income_Category\": \"High Income\", \"Spend_Category\": \"Low Spend\"}, {\"CustomerID\": 150, \"Gender\": \"Male\", \"Age\": 34, \"Annual Income (k$)\": 78, \"Spending Score (1-100)\": 90, \"Income_Category\": \"High Income\", \"Spend_Category\": \"High Spend\"}, {\"CustomerID\": 151, \"Gender\": \"Male\", \"Age\": 43, \"Annual Income (k$)\": 78, \"Spending Score (1-100)\": 17, \"Income_Category\": \"High Income\", \"Spend_Category\": \"Low Spend\"}, {\"CustomerID\": 152, \"Gender\": \"Male\", \"Age\": 39, \"Annual Income (k$)\": 78, \"Spending Score (1-100)\": 88, \"Income_Category\": \"High Income\", \"Spend_Category\": \"High Spend\"}, {\"CustomerID\": 153, \"Gender\": \"Female\", \"Age\": 44, \"Annual Income (k$)\": 78, \"Spending Score (1-100)\": 20, \"Income_Category\": \"High Income\", \"Spend_Category\": \"Low Spend\"}, {\"CustomerID\": 154, \"Gender\": \"Female\", \"Age\": 38, \"Annual Income (k$)\": 78, \"Spending Score (1-100)\": 76, \"Income_Category\": \"High Income\", \"Spend_Category\": \"High Spend\"}, {\"CustomerID\": 155, \"Gender\": \"Female\", \"Age\": 47, \"Annual Income (k$)\": 78, \"Spending Score (1-100)\": 16, \"Income_Category\": \"High Income\", \"Spend_Category\": \"Low Spend\"}, {\"CustomerID\": 156, \"Gender\": \"Female\", \"Age\": 27, \"Annual Income (k$)\": 78, \"Spending Score (1-100)\": 89, \"Income_Category\": \"High Income\", \"Spend_Category\": \"High Spend\"}, {\"CustomerID\": 157, \"Gender\": \"Male\", \"Age\": 37, \"Annual Income (k$)\": 78, \"Spending Score (1-100)\": 1, \"Income_Category\": \"High Income\", \"Spend_Category\": \"Low Spend\"}, {\"CustomerID\": 158, \"Gender\": \"Female\", \"Age\": 30, \"Annual Income (k$)\": 78, \"Spending Score (1-100)\": 78, \"Income_Category\": \"High Income\", \"Spend_Category\": \"High Spend\"}, {\"CustomerID\": 159, \"Gender\": \"Male\", \"Age\": 34, \"Annual Income (k$)\": 78, \"Spending Score (1-100)\": 1, \"Income_Category\": \"High Income\", \"Spend_Category\": \"Low Spend\"}, {\"CustomerID\": 160, \"Gender\": \"Female\", \"Age\": 30, \"Annual Income (k$)\": 78, \"Spending Score (1-100)\": 73, \"Income_Category\": \"High Income\", \"Spend_Category\": \"High Spend\"}, {\"CustomerID\": 161, \"Gender\": \"Female\", \"Age\": 56, \"Annual Income (k$)\": 79, \"Spending Score (1-100)\": 35, \"Income_Category\": \"High Income\", \"Spend_Category\": \"Low Spend\"}, {\"CustomerID\": 162, \"Gender\": \"Female\", \"Age\": 29, \"Annual Income (k$)\": 79, \"Spending Score (1-100)\": 83, \"Income_Category\": \"High Income\", \"Spend_Category\": \"High Spend\"}, {\"CustomerID\": 163, \"Gender\": \"Male\", \"Age\": 19, \"Annual Income (k$)\": 81, \"Spending Score (1-100)\": 5, \"Income_Category\": \"High Income\", \"Spend_Category\": \"Low Spend\"}, {\"CustomerID\": 164, \"Gender\": \"Female\", \"Age\": 31, \"Annual Income (k$)\": 81, \"Spending Score (1-100)\": 93, \"Income_Category\": \"High Income\", \"Spend_Category\": \"High Spend\"}, {\"CustomerID\": 165, \"Gender\": \"Male\", \"Age\": 50, \"Annual Income (k$)\": 85, \"Spending Score (1-100)\": 26, \"Income_Category\": \"High Income\", \"Spend_Category\": \"Low Spend\"}, {\"CustomerID\": 166, \"Gender\": \"Female\", \"Age\": 36, \"Annual Income (k$)\": 85, \"Spending Score (1-100)\": 75, \"Income_Category\": \"High Income\", \"Spend_Category\": \"High Spend\"}, {\"CustomerID\": 167, \"Gender\": \"Male\", \"Age\": 42, \"Annual Income (k$)\": 86, \"Spending Score (1-100)\": 20, \"Income_Category\": \"High Income\", \"Spend_Category\": \"Low Spend\"}, {\"CustomerID\": 168, \"Gender\": \"Female\", \"Age\": 33, \"Annual Income (k$)\": 86, \"Spending Score (1-100)\": 95, \"Income_Category\": \"High Income\", \"Spend_Category\": \"High Spend\"}, {\"CustomerID\": 169, \"Gender\": \"Female\", \"Age\": 36, \"Annual Income (k$)\": 87, \"Spending Score (1-100)\": 27, \"Income_Category\": \"High Income\", \"Spend_Category\": \"Low Spend\"}, {\"CustomerID\": 170, \"Gender\": \"Male\", \"Age\": 32, \"Annual Income (k$)\": 87, \"Spending Score (1-100)\": 63, \"Income_Category\": \"High Income\", \"Spend_Category\": \"High Spend\"}, {\"CustomerID\": 171, \"Gender\": \"Male\", \"Age\": 40, \"Annual Income (k$)\": 87, \"Spending Score (1-100)\": 13, \"Income_Category\": \"High Income\", \"Spend_Category\": \"Low Spend\"}, {\"CustomerID\": 172, \"Gender\": \"Male\", \"Age\": 28, \"Annual Income (k$)\": 87, \"Spending Score (1-100)\": 75, \"Income_Category\": \"High Income\", \"Spend_Category\": \"High Spend\"}, {\"CustomerID\": 173, \"Gender\": \"Male\", \"Age\": 36, \"Annual Income (k$)\": 87, \"Spending Score (1-100)\": 10, \"Income_Category\": \"High Income\", \"Spend_Category\": \"Low Spend\"}, {\"CustomerID\": 174, \"Gender\": \"Male\", \"Age\": 36, \"Annual Income (k$)\": 87, \"Spending Score (1-100)\": 92, \"Income_Category\": \"High Income\", \"Spend_Category\": \"High Spend\"}, {\"CustomerID\": 175, \"Gender\": \"Female\", \"Age\": 52, \"Annual Income (k$)\": 88, \"Spending Score (1-100)\": 13, \"Income_Category\": \"High Income\", \"Spend_Category\": \"Low Spend\"}, {\"CustomerID\": 176, \"Gender\": \"Female\", \"Age\": 30, \"Annual Income (k$)\": 88, \"Spending Score (1-100)\": 86, \"Income_Category\": \"High Income\", \"Spend_Category\": \"High Spend\"}, {\"CustomerID\": 177, \"Gender\": \"Male\", \"Age\": 58, \"Annual Income (k$)\": 88, \"Spending Score (1-100)\": 15, \"Income_Category\": \"High Income\", \"Spend_Category\": \"Low Spend\"}, {\"CustomerID\": 178, \"Gender\": \"Male\", \"Age\": 27, \"Annual Income (k$)\": 88, \"Spending Score (1-100)\": 69, \"Income_Category\": \"High Income\", \"Spend_Category\": \"High Spend\"}, {\"CustomerID\": 179, \"Gender\": \"Male\", \"Age\": 59, \"Annual Income (k$)\": 93, \"Spending Score (1-100)\": 14, \"Income_Category\": \"High Income\", \"Spend_Category\": \"Low Spend\"}, {\"CustomerID\": 180, \"Gender\": \"Male\", \"Age\": 35, \"Annual Income (k$)\": 93, \"Spending Score (1-100)\": 90, \"Income_Category\": \"High Income\", \"Spend_Category\": \"High Spend\"}, {\"CustomerID\": 181, \"Gender\": \"Female\", \"Age\": 37, \"Annual Income (k$)\": 97, \"Spending Score (1-100)\": 32, \"Income_Category\": \"High Income\", \"Spend_Category\": \"Low Spend\"}, {\"CustomerID\": 182, \"Gender\": \"Female\", \"Age\": 32, \"Annual Income (k$)\": 97, \"Spending Score (1-100)\": 86, \"Income_Category\": \"High Income\", \"Spend_Category\": \"High Spend\"}, {\"CustomerID\": 183, \"Gender\": \"Male\", \"Age\": 46, \"Annual Income (k$)\": 98, \"Spending Score (1-100)\": 15, \"Income_Category\": \"High Income\", \"Spend_Category\": \"Low Spend\"}, {\"CustomerID\": 184, \"Gender\": \"Female\", \"Age\": 29, \"Annual Income (k$)\": 98, \"Spending Score (1-100)\": 88, \"Income_Category\": \"High Income\", \"Spend_Category\": \"High Spend\"}, {\"CustomerID\": 185, \"Gender\": \"Female\", \"Age\": 41, \"Annual Income (k$)\": 99, \"Spending Score (1-100)\": 39, \"Income_Category\": \"High Income\", \"Spend_Category\": \"Low Spend\"}, {\"CustomerID\": 186, \"Gender\": \"Male\", \"Age\": 30, \"Annual Income (k$)\": 99, \"Spending Score (1-100)\": 97, \"Income_Category\": \"High Income\", \"Spend_Category\": \"High Spend\"}, {\"CustomerID\": 187, \"Gender\": \"Female\", \"Age\": 54, \"Annual Income (k$)\": 101, \"Spending Score (1-100)\": 24, \"Income_Category\": \"High Income\", \"Spend_Category\": \"Low Spend\"}, {\"CustomerID\": 188, \"Gender\": \"Male\", \"Age\": 28, \"Annual Income (k$)\": 101, \"Spending Score (1-100)\": 68, \"Income_Category\": \"High Income\", \"Spend_Category\": \"High Spend\"}, {\"CustomerID\": 189, \"Gender\": \"Female\", \"Age\": 41, \"Annual Income (k$)\": 103, \"Spending Score (1-100)\": 17, \"Income_Category\": \"High Income\", \"Spend_Category\": \"Low Spend\"}, {\"CustomerID\": 190, \"Gender\": \"Female\", \"Age\": 36, \"Annual Income (k$)\": 103, \"Spending Score (1-100)\": 85, \"Income_Category\": \"High Income\", \"Spend_Category\": \"High Spend\"}, {\"CustomerID\": 191, \"Gender\": \"Female\", \"Age\": 34, \"Annual Income (k$)\": 103, \"Spending Score (1-100)\": 23, \"Income_Category\": \"High Income\", \"Spend_Category\": \"Low Spend\"}, {\"CustomerID\": 192, \"Gender\": \"Female\", \"Age\": 32, \"Annual Income (k$)\": 103, \"Spending Score (1-100)\": 69, \"Income_Category\": \"High Income\", \"Spend_Category\": \"High Spend\"}, {\"CustomerID\": 193, \"Gender\": \"Male\", \"Age\": 33, \"Annual Income (k$)\": 113, \"Spending Score (1-100)\": 8, \"Income_Category\": \"High Income\", \"Spend_Category\": \"Low Spend\"}, {\"CustomerID\": 194, \"Gender\": \"Female\", \"Age\": 38, \"Annual Income (k$)\": 113, \"Spending Score (1-100)\": 91, \"Income_Category\": \"High Income\", \"Spend_Category\": \"High Spend\"}, {\"CustomerID\": 195, \"Gender\": \"Female\", \"Age\": 47, \"Annual Income (k$)\": 120, \"Spending Score (1-100)\": 16, \"Income_Category\": \"High Income\", \"Spend_Category\": \"Low Spend\"}, {\"CustomerID\": 196, \"Gender\": \"Female\", \"Age\": 35, \"Annual Income (k$)\": 120, \"Spending Score (1-100)\": 79, \"Income_Category\": \"High Income\", \"Spend_Category\": \"High Spend\"}, {\"CustomerID\": 197, \"Gender\": \"Female\", \"Age\": 45, \"Annual Income (k$)\": 126, \"Spending Score (1-100)\": 28, \"Income_Category\": \"High Income\", \"Spend_Category\": \"Low Spend\"}, {\"CustomerID\": 198, \"Gender\": \"Male\", \"Age\": 32, \"Annual Income (k$)\": 126, \"Spending Score (1-100)\": 74, \"Income_Category\": \"High Income\", \"Spend_Category\": \"High Spend\"}, {\"CustomerID\": 199, \"Gender\": \"Male\", \"Age\": 32, \"Annual Income (k$)\": 137, \"Spending Score (1-100)\": 18, \"Income_Category\": \"High Income\", \"Spend_Category\": \"Low Spend\"}, {\"CustomerID\": 200, \"Gender\": \"Male\", \"Age\": 30, \"Annual Income (k$)\": 137, \"Spending Score (1-100)\": 83, \"Income_Category\": \"High Income\", \"Spend_Category\": \"High Spend\"}]}}, {\"mode\": \"vega-lite\"});\n",
       "</script>"
      ],
      "text/plain": [
       "alt.Chart(...)"
      ]
     },
     "execution_count": 7,
     "metadata": {},
     "output_type": "execute_result"
    }
   ],
   "source": [
    "alt.Chart(df).mark_circle().encode(\n",
    "    x = 'Age:Q',\n",
    "    y = 'Spending Score (1-100):Q',\n",
    "    facet = 'Gender:N',\n",
    "    color = 'Income_Category:N'\n",
    ")"
   ]
  },
  {
   "cell_type": "markdown",
   "metadata": {},
   "source": [
    "Trend is a bit different for Spend, even younger people Spend good money and expenditure is high till 50 yrs of age, post that there seems to be a sudden decline in the Spend"
   ]
  },
  {
   "cell_type": "markdown",
   "metadata": {},
   "source": [
    "Transforming the numeric ages to different age bins, these Age Bins will be used later in the analysis"
   ]
  },
  {
   "cell_type": "code",
   "execution_count": 8,
   "metadata": {},
   "outputs": [],
   "source": [
    "bin_val = [0,20,40,50,60,120]\n",
    "bin_lab = ['<20Yrs','20-40Yrs','40-50Yrs','50-60Yrs','>60Yrs']\n",
    "df['Age_Bin'] = pd.cut(df['Age'],bin_val, labels = bin_lab)"
   ]
  },
  {
   "cell_type": "markdown",
   "metadata": {},
   "source": [
    "Let us see the distribution of the Customers across different Income and Spend Categories"
   ]
  },
  {
   "cell_type": "code",
   "execution_count": 9,
   "metadata": {},
   "outputs": [
    {
     "data": {
      "text/html": [
       "<div>\n",
       "<style scoped>\n",
       "    .dataframe tbody tr th:only-of-type {\n",
       "        vertical-align: middle;\n",
       "    }\n",
       "\n",
       "    .dataframe tbody tr th {\n",
       "        vertical-align: top;\n",
       "    }\n",
       "\n",
       "    .dataframe thead th {\n",
       "        text-align: right;\n",
       "    }\n",
       "</style>\n",
       "<table border=\"1\" class=\"dataframe\">\n",
       "  <thead>\n",
       "    <tr style=\"text-align: right;\">\n",
       "      <th></th>\n",
       "      <th>Spend_Category</th>\n",
       "      <th>Income_Category</th>\n",
       "      <th>Customer Count</th>\n",
       "    </tr>\n",
       "  </thead>\n",
       "  <tbody>\n",
       "    <tr>\n",
       "      <th>0</th>\n",
       "      <td>High Spend</td>\n",
       "      <td>High Income</td>\n",
       "      <td>38.0</td>\n",
       "    </tr>\n",
       "    <tr>\n",
       "      <th>1</th>\n",
       "      <td>High Spend</td>\n",
       "      <td>Low Income</td>\n",
       "      <td>23.0</td>\n",
       "    </tr>\n",
       "    <tr>\n",
       "      <th>2</th>\n",
       "      <td>High Spend</td>\n",
       "      <td>Medium Income</td>\n",
       "      <td>4.0</td>\n",
       "    </tr>\n",
       "    <tr>\n",
       "      <th>3</th>\n",
       "      <td>Low Spend</td>\n",
       "      <td>High Income</td>\n",
       "      <td>37.0</td>\n",
       "    </tr>\n",
       "    <tr>\n",
       "      <th>4</th>\n",
       "      <td>Low Spend</td>\n",
       "      <td>Low Income</td>\n",
       "      <td>22.0</td>\n",
       "    </tr>\n",
       "  </tbody>\n",
       "</table>\n",
       "</div>"
      ],
      "text/plain": [
       "  Spend_Category Income_Category  Customer Count\n",
       "0     High Spend     High Income            38.0\n",
       "1     High Spend      Low Income            23.0\n",
       "2     High Spend   Medium Income             4.0\n",
       "3      Low Spend     High Income            37.0\n",
       "4      Low Spend      Low Income            22.0"
      ]
     },
     "execution_count": 9,
     "metadata": {},
     "output_type": "execute_result"
    }
   ],
   "source": [
    "df3 = pd.pivot_table(df, values ='CustomerID', index ='Income_Category',\n",
    "                         columns ='Spend_Category', aggfunc = 'count').unstack().reset_index()\n",
    "df3 = df3.rename(columns = {0:'Customer Count'})\n",
    "df3.head()"
   ]
  },
  {
   "cell_type": "code",
   "execution_count": 10,
   "metadata": {},
   "outputs": [
    {
     "data": {
      "text/html": [
       "\n",
       "<div id=\"altair-viz-ae3f023a18e842068c2ffd5f31d44a32\"></div>\n",
       "<script type=\"text/javascript\">\n",
       "  (function(spec, embedOpt){\n",
       "    let outputDiv = document.currentScript.previousElementSibling;\n",
       "    if (outputDiv.id !== \"altair-viz-ae3f023a18e842068c2ffd5f31d44a32\") {\n",
       "      outputDiv = document.getElementById(\"altair-viz-ae3f023a18e842068c2ffd5f31d44a32\");\n",
       "    }\n",
       "    const paths = {\n",
       "      \"vega\": \"https://cdn.jsdelivr.net/npm//vega@5?noext\",\n",
       "      \"vega-lib\": \"https://cdn.jsdelivr.net/npm//vega-lib?noext\",\n",
       "      \"vega-lite\": \"https://cdn.jsdelivr.net/npm//vega-lite@4.8.1?noext\",\n",
       "      \"vega-embed\": \"https://cdn.jsdelivr.net/npm//vega-embed@6?noext\",\n",
       "    };\n",
       "\n",
       "    function loadScript(lib) {\n",
       "      return new Promise(function(resolve, reject) {\n",
       "        var s = document.createElement('script');\n",
       "        s.src = paths[lib];\n",
       "        s.async = true;\n",
       "        s.onload = () => resolve(paths[lib]);\n",
       "        s.onerror = () => reject(`Error loading script: ${paths[lib]}`);\n",
       "        document.getElementsByTagName(\"head\")[0].appendChild(s);\n",
       "      });\n",
       "    }\n",
       "\n",
       "    function showError(err) {\n",
       "      outputDiv.innerHTML = `<div class=\"error\" style=\"color:red;\">${err}</div>`;\n",
       "      throw err;\n",
       "    }\n",
       "\n",
       "    function displayChart(vegaEmbed) {\n",
       "      vegaEmbed(outputDiv, spec, embedOpt)\n",
       "        .catch(err => showError(`Javascript Error: ${err.message}<br>This usually means there's a typo in your chart specification. See the javascript console for the full traceback.`));\n",
       "    }\n",
       "\n",
       "    if(typeof define === \"function\" && define.amd) {\n",
       "      requirejs.config({paths});\n",
       "      require([\"vega-embed\"], displayChart, err => showError(`Error loading script: ${err.message}`));\n",
       "    } else if (typeof vegaEmbed === \"function\") {\n",
       "      displayChart(vegaEmbed);\n",
       "    } else {\n",
       "      loadScript(\"vega\")\n",
       "        .then(() => loadScript(\"vega-lite\"))\n",
       "        .then(() => loadScript(\"vega-embed\"))\n",
       "        .catch(showError)\n",
       "        .then(() => displayChart(vegaEmbed));\n",
       "    }\n",
       "  })({\"config\": {\"view\": {\"continuousWidth\": 400, \"continuousHeight\": 300}}, \"layer\": [{\"mark\": \"rect\", \"encoding\": {\"color\": {\"type\": \"quantitative\", \"field\": \"Customer Count\"}, \"x\": {\"type\": \"ordinal\", \"field\": \"Income_Category\", \"sort\": [\"High Income\", \"Medium Income\", \"Low Income\"]}, \"y\": {\"type\": \"ordinal\", \"field\": \"Spend_Category\", \"sort\": [\"High Spend\", \"Medium Spend\", \"Low Spend\"]}}, \"height\": 500, \"title\": \"Income Vs Spend Distribution (# Customers)\", \"width\": 700}, {\"mark\": {\"type\": \"text\", \"size\": 25}, \"encoding\": {\"text\": {\"type\": \"quantitative\", \"field\": \"Customer Count\"}, \"x\": {\"type\": \"ordinal\", \"field\": \"Income_Category\", \"sort\": [\"High Income\", \"Medium Income\", \"Low Income\"]}, \"y\": {\"type\": \"ordinal\", \"field\": \"Spend_Category\", \"sort\": [\"High Spend\", \"Medium Spend\", \"Low Spend\"]}}, \"height\": 500, \"title\": \"Income Vs Spend Distribution (# Customers)\", \"width\": 700}], \"data\": {\"name\": \"data-3503dc9bb820fddae265e9d06fb190b4\"}, \"$schema\": \"https://vega.github.io/schema/vega-lite/v4.8.1.json\", \"datasets\": {\"data-3503dc9bb820fddae265e9d06fb190b4\": [{\"Spend_Category\": \"High Spend\", \"Income_Category\": \"High Income\", \"Customer Count\": 38.0}, {\"Spend_Category\": \"High Spend\", \"Income_Category\": \"Low Income\", \"Customer Count\": 23.0}, {\"Spend_Category\": \"High Spend\", \"Income_Category\": \"Medium Income\", \"Customer Count\": 4.0}, {\"Spend_Category\": \"Low Spend\", \"Income_Category\": \"High Income\", \"Customer Count\": 37.0}, {\"Spend_Category\": \"Low Spend\", \"Income_Category\": \"Low Income\", \"Customer Count\": 22.0}, {\"Spend_Category\": \"Low Spend\", \"Income_Category\": \"Medium Income\", \"Customer Count\": null}, {\"Spend_Category\": \"Medium Spend\", \"Income_Category\": \"High Income\", \"Customer Count\": 1.0}, {\"Spend_Category\": \"Medium Spend\", \"Income_Category\": \"Low Income\", \"Customer Count\": 1.0}, {\"Spend_Category\": \"Medium Spend\", \"Income_Category\": \"Medium Income\", \"Customer Count\": 74.0}]}}, {\"mode\": \"vega-lite\"});\n",
       "</script>"
      ],
      "text/plain": [
       "alt.LayerChart(...)"
      ]
     },
     "execution_count": 10,
     "metadata": {},
     "output_type": "execute_result"
    }
   ],
   "source": [
    "c1 = alt.Chart(df3).mark_rect().properties(title='Income Vs Spend Distribution (# Customers)',height=500, width=700).encode(\n",
    "alt.X('Income_Category:O',sort = ['High Income','Medium Income','Low Income']),\n",
    "    alt.Y('Spend_Category:O',sort = ['High Spend','Medium Spend','Low Spend']),\n",
    "    color = 'Customer Count:Q',\n",
    ")\n",
    "\n",
    "\n",
    "c2 = alt.Chart(df3).mark_text(size = 25).properties(title='Income Vs Spend Distribution (# Customers)',height=500, width=700).encode(\n",
    "alt.X('Income_Category:O',sort = ['High Income','Medium Income','Low Income']),\n",
    "    alt.Y('Spend_Category:O',sort = ['High Spend','Medium Spend','Low Spend']),\n",
    "    text = alt.Text('Customer Count:Q'),\n",
    ")\n",
    "\n",
    "c1+c2"
   ]
  },
  {
   "cell_type": "markdown",
   "metadata": {},
   "source": [
    "As can be seen in the above heat map that there are 38 Customers, who are both High Income and High Spend, these could be best Customers to target to and can be also called as the Premium Customers\n",
    "\n",
    "There are 23 Customers, who are High Spend and Low Income and these may be risky Customers as they may be spending more than what they can afford and these are the risky customers and may be tagged as Careless.\n",
    "\n",
    "There are 37 + 22 = 59 Customers, who Spend Low and can be called as Frugal Customers\n",
    "\n",
    "We can classify rest of the Customers as Economical as they have Medium Spend"
   ]
  },
  {
   "cell_type": "code",
   "execution_count": 11,
   "metadata": {},
   "outputs": [],
   "source": [
    "# Making different Customer Types\n",
    "Premium = (df['Income_Category'] == \"High Income\") & (df['Spend_Category'] == \"High Spend\")\n",
    "Frugal = df['Spend_Category'] == \"Low Spend\"\n",
    "Careless = (df['Income_Category'].isin([\"Medium Income\",\"Low_Income\"])) & (df['Spend_Category'] == \"High Spend\")\n",
    "\n",
    "df['Customer Type'] = np.where(Premium,'Premium',np.where(Frugal,\"Frugal\",np.where(Careless,\"Careless\",\"Economical\")))"
   ]
  },
  {
   "cell_type": "code",
   "execution_count": 12,
   "metadata": {},
   "outputs": [],
   "source": [
    "# Distribution of Female Customers across different Types\n",
    "female = pd.DataFrame(100 *df[df['Gender'] == 'Female'].groupby('Customer Type')['CustomerID'].count()/df[df['Gender'] == 'Female'].groupby('Customer Type')['CustomerID'].count().sum()).reset_index()"
   ]
  },
  {
   "cell_type": "code",
   "execution_count": 13,
   "metadata": {},
   "outputs": [],
   "source": [
    "# Distribution of Male Customers across different Types\n",
    "male = pd.DataFrame(100 *df[df['Gender'] == 'Male'].groupby('Customer Type')['CustomerID'].count()/df[df['Gender'] == 'Male'].groupby('Customer Type')['CustomerID'].count().sum()).reset_index()"
   ]
  },
  {
   "cell_type": "code",
   "execution_count": 14,
   "metadata": {},
   "outputs": [
    {
     "data": {
      "text/html": [
       "\n",
       "<div id=\"altair-viz-9fa02ec67f5243b9b6ff1ca1d31c01ac\"></div>\n",
       "<script type=\"text/javascript\">\n",
       "  (function(spec, embedOpt){\n",
       "    let outputDiv = document.currentScript.previousElementSibling;\n",
       "    if (outputDiv.id !== \"altair-viz-9fa02ec67f5243b9b6ff1ca1d31c01ac\") {\n",
       "      outputDiv = document.getElementById(\"altair-viz-9fa02ec67f5243b9b6ff1ca1d31c01ac\");\n",
       "    }\n",
       "    const paths = {\n",
       "      \"vega\": \"https://cdn.jsdelivr.net/npm//vega@5?noext\",\n",
       "      \"vega-lib\": \"https://cdn.jsdelivr.net/npm//vega-lib?noext\",\n",
       "      \"vega-lite\": \"https://cdn.jsdelivr.net/npm//vega-lite@4.8.1?noext\",\n",
       "      \"vega-embed\": \"https://cdn.jsdelivr.net/npm//vega-embed@6?noext\",\n",
       "    };\n",
       "\n",
       "    function loadScript(lib) {\n",
       "      return new Promise(function(resolve, reject) {\n",
       "        var s = document.createElement('script');\n",
       "        s.src = paths[lib];\n",
       "        s.async = true;\n",
       "        s.onload = () => resolve(paths[lib]);\n",
       "        s.onerror = () => reject(`Error loading script: ${paths[lib]}`);\n",
       "        document.getElementsByTagName(\"head\")[0].appendChild(s);\n",
       "      });\n",
       "    }\n",
       "\n",
       "    function showError(err) {\n",
       "      outputDiv.innerHTML = `<div class=\"error\" style=\"color:red;\">${err}</div>`;\n",
       "      throw err;\n",
       "    }\n",
       "\n",
       "    function displayChart(vegaEmbed) {\n",
       "      vegaEmbed(outputDiv, spec, embedOpt)\n",
       "        .catch(err => showError(`Javascript Error: ${err.message}<br>This usually means there's a typo in your chart specification. See the javascript console for the full traceback.`));\n",
       "    }\n",
       "\n",
       "    if(typeof define === \"function\" && define.amd) {\n",
       "      requirejs.config({paths});\n",
       "      require([\"vega-embed\"], displayChart, err => showError(`Error loading script: ${err.message}`));\n",
       "    } else if (typeof vegaEmbed === \"function\") {\n",
       "      displayChart(vegaEmbed);\n",
       "    } else {\n",
       "      loadScript(\"vega\")\n",
       "        .then(() => loadScript(\"vega-lite\"))\n",
       "        .then(() => loadScript(\"vega-embed\"))\n",
       "        .catch(showError)\n",
       "        .then(() => displayChart(vegaEmbed));\n",
       "    }\n",
       "  })({\"config\": {\"view\": {\"continuousWidth\": 400, \"continuousHeight\": 300}}, \"hconcat\": [{\"data\": {\"name\": \"data-069051b13edbc013f1af3fa82a46aa79\"}, \"mark\": \"bar\", \"encoding\": {\"x\": {\"type\": \"ordinal\", \"field\": \"Customer Type\", \"sort\": [\"Premium\", \"Economical\", \"Frugal\", \"Careless\"], \"title\": \"Customer Type\"}, \"y\": {\"type\": \"quantitative\", \"field\": \"CustomerID\", \"title\": \"% Distribution\"}}, \"height\": 300, \"title\": \"Customer Type Distribution for Male in %\", \"width\": 400}, {\"data\": {\"name\": \"data-ca80bed4e459cd15481b37124d54b045\"}, \"mark\": \"bar\", \"encoding\": {\"x\": {\"type\": \"ordinal\", \"field\": \"Customer Type\", \"sort\": [\"Premium\", \"Economical\", \"Frugal\", \"Careless\"], \"title\": \"Customer Type\"}, \"y\": {\"type\": \"quantitative\", \"field\": \"CustomerID\", \"title\": \"% Distribution\"}}, \"height\": 300, \"title\": \"Customer Type Distribution for Female in %\", \"width\": 400}], \"$schema\": \"https://vega.github.io/schema/vega-lite/v4.8.1.json\", \"datasets\": {\"data-069051b13edbc013f1af3fa82a46aa79\": [{\"Customer Type\": \"Careless\", \"CustomerID\": 3.409090909090909}, {\"Customer Type\": \"Economical\", \"CustomerID\": 44.31818181818182}, {\"Customer Type\": \"Frugal\", \"CustomerID\": 32.95454545454545}, {\"Customer Type\": \"Premium\", \"CustomerID\": 19.318181818181817}], \"data-ca80bed4e459cd15481b37124d54b045\": [{\"Customer Type\": \"Careless\", \"CustomerID\": 0.8928571428571429}, {\"Customer Type\": \"Economical\", \"CustomerID\": 53.57142857142857}, {\"Customer Type\": \"Frugal\", \"CustomerID\": 26.785714285714285}, {\"Customer Type\": \"Premium\", \"CustomerID\": 18.75}]}}, {\"mode\": \"vega-lite\"});\n",
       "</script>"
      ],
      "text/plain": [
       "alt.HConcatChart(...)"
      ]
     },
     "execution_count": 14,
     "metadata": {},
     "output_type": "execute_result"
    }
   ],
   "source": [
    "c1 = alt.Chart(male).mark_bar().properties(title='Customer Type Distribution for Male in %',height=300, width=400).encode(\n",
    "    x = alt.X('Customer Type:O', title='Customer Type', sort = ['Premium','Economical','Frugal','Careless']),\n",
    "    y = alt.Y('CustomerID:Q',title = '% Distribution')\n",
    ")\n",
    "\n",
    "c2 = alt.Chart(female).mark_bar().properties(title='Customer Type Distribution for Female in %',height=300, width=400).encode(\n",
    "    x = alt.X('Customer Type:O', title='Customer Type', sort = ['Premium','Economical','Frugal','Careless']),\n",
    "    y = alt.Y('CustomerID:Q',title = '% Distribution')\n",
    ")\n",
    "\n",
    "c1 | c2"
   ]
  },
  {
   "cell_type": "markdown",
   "metadata": {},
   "source": [
    "As can be seen in the Charts above, Female has lesser percentage of Careless Customers, although Male on the other has have slightly higher Frugal percentage"
   ]
  },
  {
   "cell_type": "markdown",
   "metadata": {},
   "source": [
    "Now lets see how different Age Bins and Customer Type interact"
   ]
  },
  {
   "cell_type": "code",
   "execution_count": 15,
   "metadata": {},
   "outputs": [],
   "source": [
    "age_band = df.groupby(['Customer Type','Age_Bin'])['CustomerID'].count().reset_index()"
   ]
  },
  {
   "cell_type": "code",
   "execution_count": 16,
   "metadata": {},
   "outputs": [
    {
     "data": {
      "text/html": [
       "\n",
       "<div id=\"altair-viz-9f10d9dced2249cd9ee4742222d29443\"></div>\n",
       "<script type=\"text/javascript\">\n",
       "  (function(spec, embedOpt){\n",
       "    let outputDiv = document.currentScript.previousElementSibling;\n",
       "    if (outputDiv.id !== \"altair-viz-9f10d9dced2249cd9ee4742222d29443\") {\n",
       "      outputDiv = document.getElementById(\"altair-viz-9f10d9dced2249cd9ee4742222d29443\");\n",
       "    }\n",
       "    const paths = {\n",
       "      \"vega\": \"https://cdn.jsdelivr.net/npm//vega@5?noext\",\n",
       "      \"vega-lib\": \"https://cdn.jsdelivr.net/npm//vega-lib?noext\",\n",
       "      \"vega-lite\": \"https://cdn.jsdelivr.net/npm//vega-lite@4.8.1?noext\",\n",
       "      \"vega-embed\": \"https://cdn.jsdelivr.net/npm//vega-embed@6?noext\",\n",
       "    };\n",
       "\n",
       "    function loadScript(lib) {\n",
       "      return new Promise(function(resolve, reject) {\n",
       "        var s = document.createElement('script');\n",
       "        s.src = paths[lib];\n",
       "        s.async = true;\n",
       "        s.onload = () => resolve(paths[lib]);\n",
       "        s.onerror = () => reject(`Error loading script: ${paths[lib]}`);\n",
       "        document.getElementsByTagName(\"head\")[0].appendChild(s);\n",
       "      });\n",
       "    }\n",
       "\n",
       "    function showError(err) {\n",
       "      outputDiv.innerHTML = `<div class=\"error\" style=\"color:red;\">${err}</div>`;\n",
       "      throw err;\n",
       "    }\n",
       "\n",
       "    function displayChart(vegaEmbed) {\n",
       "      vegaEmbed(outputDiv, spec, embedOpt)\n",
       "        .catch(err => showError(`Javascript Error: ${err.message}<br>This usually means there's a typo in your chart specification. See the javascript console for the full traceback.`));\n",
       "    }\n",
       "\n",
       "    if(typeof define === \"function\" && define.amd) {\n",
       "      requirejs.config({paths});\n",
       "      require([\"vega-embed\"], displayChart, err => showError(`Error loading script: ${err.message}`));\n",
       "    } else if (typeof vegaEmbed === \"function\") {\n",
       "      displayChart(vegaEmbed);\n",
       "    } else {\n",
       "      loadScript(\"vega\")\n",
       "        .then(() => loadScript(\"vega-lite\"))\n",
       "        .then(() => loadScript(\"vega-embed\"))\n",
       "        .catch(showError)\n",
       "        .then(() => displayChart(vegaEmbed));\n",
       "    }\n",
       "  })({\"config\": {\"view\": {\"continuousWidth\": 400, \"continuousHeight\": 300}}, \"data\": {\"name\": \"data-b14e31b43d21874ed5c120f2c562da8a\"}, \"mark\": \"rect\", \"encoding\": {\"color\": {\"type\": \"quantitative\", \"field\": \"CustomerID\"}, \"x\": {\"type\": \"ordinal\", \"field\": \"Customer Type\", \"sort\": [\"Premium\", \"Economical\", \"Frugal\", \"Careless\"]}, \"y\": {\"type\": \"ordinal\", \"field\": \"Age_Bin\", \"sort\": [\"<20Yrs\", \"20-40Yrs\", \"40-50Yrs\", \"50-60Yrs\", \">60Yrs\"]}}, \"height\": 500, \"title\": \"Income Vs Spend Distribution\", \"width\": 700, \"$schema\": \"https://vega.github.io/schema/vega-lite/v4.8.1.json\", \"datasets\": {\"data-b14e31b43d21874ed5c120f2c562da8a\": [{\"Customer Type\": \"Careless\", \"Age_Bin\": \"<20Yrs\", \"CustomerID\": 0}, {\"Customer Type\": \"Careless\", \"Age_Bin\": \"20-40Yrs\", \"CustomerID\": 3}, {\"Customer Type\": \"Careless\", \"Age_Bin\": \"40-50Yrs\", \"CustomerID\": 0}, {\"Customer Type\": \"Careless\", \"Age_Bin\": \"50-60Yrs\", \"CustomerID\": 1}, {\"Customer Type\": \"Careless\", \"Age_Bin\": \">60Yrs\", \"CustomerID\": 0}, {\"Customer Type\": \"Economical\", \"Age_Bin\": \"<20Yrs\", \"CustomerID\": 12}, {\"Customer Type\": \"Economical\", \"Age_Bin\": \"20-40Yrs\", \"CustomerID\": 45}, {\"Customer Type\": \"Economical\", \"Age_Bin\": \"40-50Yrs\", \"CustomerID\": 18}, {\"Customer Type\": \"Economical\", \"Age_Bin\": \"50-60Yrs\", \"CustomerID\": 10}, {\"Customer Type\": \"Economical\", \"Age_Bin\": \">60Yrs\", \"CustomerID\": 14}, {\"Customer Type\": \"Frugal\", \"Age_Bin\": \"<20Yrs\", \"CustomerID\": 5}, {\"Customer Type\": \"Frugal\", \"Age_Bin\": \"20-40Yrs\", \"CustomerID\": 19}, {\"Customer Type\": \"Frugal\", \"Age_Bin\": \"40-50Yrs\", \"CustomerID\": 20}, {\"Customer Type\": \"Frugal\", \"Age_Bin\": \"50-60Yrs\", \"CustomerID\": 12}, {\"Customer Type\": \"Frugal\", \"Age_Bin\": \">60Yrs\", \"CustomerID\": 3}, {\"Customer Type\": \"Premium\", \"Age_Bin\": \"<20Yrs\", \"CustomerID\": 0}, {\"Customer Type\": \"Premium\", \"Age_Bin\": \"20-40Yrs\", \"CustomerID\": 38}, {\"Customer Type\": \"Premium\", \"Age_Bin\": \"40-50Yrs\", \"CustomerID\": 0}, {\"Customer Type\": \"Premium\", \"Age_Bin\": \"50-60Yrs\", \"CustomerID\": 0}, {\"Customer Type\": \"Premium\", \"Age_Bin\": \">60Yrs\", \"CustomerID\": 0}]}}, {\"mode\": \"vega-lite\"});\n",
       "</script>"
      ],
      "text/plain": [
       "alt.Chart(...)"
      ]
     },
     "execution_count": 16,
     "metadata": {},
     "output_type": "execute_result"
    }
   ],
   "source": [
    "c1 = alt.Chart(age_band).mark_rect().properties(title='Income Vs Spend Distribution',height=500, width=700).encode(\n",
    "alt.X('Customer Type:O',sort = ['Premium','Economical','Frugal','Careless']),\n",
    "    alt.Y('Age_Bin:O', sort = ['<20Yrs', '20-40Yrs', '40-50Yrs', '50-60Yrs', '>60Yrs']),\n",
    "    color = 'CustomerID:Q',\n",
    ")\n",
    "\n",
    "c1"
   ]
  },
  {
   "cell_type": "markdown",
   "metadata": {},
   "source": [
    "As can be seen highest Customers are in the 20-40Yrs and Economical band and may be a good target for the Economical items. However there are also many 20-40 Yrs Customers who are Premium, these may be the guys people who are earning well and have a long career ahead to save enough.\n",
    "Interestingly the highest contibution of Careless also comes from 20-40 Yrs band and these Customers may be less preferred."
   ]
  },
  {
   "cell_type": "markdown",
   "metadata": {},
   "source": [
    "Lets see how the trend looks in terms of Percentage"
   ]
  },
  {
   "cell_type": "code",
   "execution_count": 17,
   "metadata": {},
   "outputs": [],
   "source": [
    "age_band2 = pd.DataFrame(100*df.groupby(['Customer Type','Age_Bin'])['CustomerID'].count()/df.groupby(['Customer Type','Age_Bin'])['CustomerID'].count().sum()).reset_index()"
   ]
  },
  {
   "cell_type": "code",
   "execution_count": 18,
   "metadata": {},
   "outputs": [
    {
     "data": {
      "text/html": [
       "\n",
       "<div id=\"altair-viz-cbd69c9475df43f0b3b8bffbc2400ac0\"></div>\n",
       "<script type=\"text/javascript\">\n",
       "  (function(spec, embedOpt){\n",
       "    let outputDiv = document.currentScript.previousElementSibling;\n",
       "    if (outputDiv.id !== \"altair-viz-cbd69c9475df43f0b3b8bffbc2400ac0\") {\n",
       "      outputDiv = document.getElementById(\"altair-viz-cbd69c9475df43f0b3b8bffbc2400ac0\");\n",
       "    }\n",
       "    const paths = {\n",
       "      \"vega\": \"https://cdn.jsdelivr.net/npm//vega@5?noext\",\n",
       "      \"vega-lib\": \"https://cdn.jsdelivr.net/npm//vega-lib?noext\",\n",
       "      \"vega-lite\": \"https://cdn.jsdelivr.net/npm//vega-lite@4.8.1?noext\",\n",
       "      \"vega-embed\": \"https://cdn.jsdelivr.net/npm//vega-embed@6?noext\",\n",
       "    };\n",
       "\n",
       "    function loadScript(lib) {\n",
       "      return new Promise(function(resolve, reject) {\n",
       "        var s = document.createElement('script');\n",
       "        s.src = paths[lib];\n",
       "        s.async = true;\n",
       "        s.onload = () => resolve(paths[lib]);\n",
       "        s.onerror = () => reject(`Error loading script: ${paths[lib]}`);\n",
       "        document.getElementsByTagName(\"head\")[0].appendChild(s);\n",
       "      });\n",
       "    }\n",
       "\n",
       "    function showError(err) {\n",
       "      outputDiv.innerHTML = `<div class=\"error\" style=\"color:red;\">${err}</div>`;\n",
       "      throw err;\n",
       "    }\n",
       "\n",
       "    function displayChart(vegaEmbed) {\n",
       "      vegaEmbed(outputDiv, spec, embedOpt)\n",
       "        .catch(err => showError(`Javascript Error: ${err.message}<br>This usually means there's a typo in your chart specification. See the javascript console for the full traceback.`));\n",
       "    }\n",
       "\n",
       "    if(typeof define === \"function\" && define.amd) {\n",
       "      requirejs.config({paths});\n",
       "      require([\"vega-embed\"], displayChart, err => showError(`Error loading script: ${err.message}`));\n",
       "    } else if (typeof vegaEmbed === \"function\") {\n",
       "      displayChart(vegaEmbed);\n",
       "    } else {\n",
       "      loadScript(\"vega\")\n",
       "        .then(() => loadScript(\"vega-lite\"))\n",
       "        .then(() => loadScript(\"vega-embed\"))\n",
       "        .catch(showError)\n",
       "        .then(() => displayChart(vegaEmbed));\n",
       "    }\n",
       "  })({\"config\": {\"view\": {\"continuousWidth\": 400, \"continuousHeight\": 300}}, \"data\": {\"name\": \"data-70c3245c6e104dcc3f9dcd93d2162094\"}, \"mark\": \"rect\", \"encoding\": {\"color\": {\"type\": \"quantitative\", \"field\": \"CustomerID\"}, \"x\": {\"type\": \"ordinal\", \"field\": \"Customer Type\", \"sort\": [\"Premium\", \"Economical\", \"Frugal\", \"Careless\"]}, \"y\": {\"type\": \"ordinal\", \"field\": \"Age_Bin\", \"sort\": [\"<20Yrs\", \"20-40Yrs\", \"40-50Yrs\", \"50-60Yrs\", \">60Yrs\"]}}, \"height\": 500, \"title\": \"Income Vs Spend Distribution in Percentage\", \"width\": 700, \"$schema\": \"https://vega.github.io/schema/vega-lite/v4.8.1.json\", \"datasets\": {\"data-70c3245c6e104dcc3f9dcd93d2162094\": [{\"Customer Type\": \"Careless\", \"Age_Bin\": \"<20Yrs\", \"CustomerID\": 0.0}, {\"Customer Type\": \"Careless\", \"Age_Bin\": \"20-40Yrs\", \"CustomerID\": 1.5}, {\"Customer Type\": \"Careless\", \"Age_Bin\": \"40-50Yrs\", \"CustomerID\": 0.0}, {\"Customer Type\": \"Careless\", \"Age_Bin\": \"50-60Yrs\", \"CustomerID\": 0.5}, {\"Customer Type\": \"Careless\", \"Age_Bin\": \">60Yrs\", \"CustomerID\": 0.0}, {\"Customer Type\": \"Economical\", \"Age_Bin\": \"<20Yrs\", \"CustomerID\": 6.0}, {\"Customer Type\": \"Economical\", \"Age_Bin\": \"20-40Yrs\", \"CustomerID\": 22.5}, {\"Customer Type\": \"Economical\", \"Age_Bin\": \"40-50Yrs\", \"CustomerID\": 9.0}, {\"Customer Type\": \"Economical\", \"Age_Bin\": \"50-60Yrs\", \"CustomerID\": 5.0}, {\"Customer Type\": \"Economical\", \"Age_Bin\": \">60Yrs\", \"CustomerID\": 7.0}, {\"Customer Type\": \"Frugal\", \"Age_Bin\": \"<20Yrs\", \"CustomerID\": 2.5}, {\"Customer Type\": \"Frugal\", \"Age_Bin\": \"20-40Yrs\", \"CustomerID\": 9.5}, {\"Customer Type\": \"Frugal\", \"Age_Bin\": \"40-50Yrs\", \"CustomerID\": 10.0}, {\"Customer Type\": \"Frugal\", \"Age_Bin\": \"50-60Yrs\", \"CustomerID\": 6.0}, {\"Customer Type\": \"Frugal\", \"Age_Bin\": \">60Yrs\", \"CustomerID\": 1.5}, {\"Customer Type\": \"Premium\", \"Age_Bin\": \"<20Yrs\", \"CustomerID\": 0.0}, {\"Customer Type\": \"Premium\", \"Age_Bin\": \"20-40Yrs\", \"CustomerID\": 19.0}, {\"Customer Type\": \"Premium\", \"Age_Bin\": \"40-50Yrs\", \"CustomerID\": 0.0}, {\"Customer Type\": \"Premium\", \"Age_Bin\": \"50-60Yrs\", \"CustomerID\": 0.0}, {\"Customer Type\": \"Premium\", \"Age_Bin\": \">60Yrs\", \"CustomerID\": 0.0}]}}, {\"mode\": \"vega-lite\"});\n",
       "</script>"
      ],
      "text/plain": [
       "alt.Chart(...)"
      ]
     },
     "execution_count": 18,
     "metadata": {},
     "output_type": "execute_result"
    }
   ],
   "source": [
    "c1 = alt.Chart(age_band2).mark_rect().properties(title='Income Vs Spend Distribution in Percentage',height=500, width=700).encode(\n",
    "alt.X('Customer Type:O',sort = ['Premium','Economical','Frugal','Careless']),\n",
    "    alt.Y('Age_Bin:O', sort = ['<20Yrs', '20-40Yrs', '40-50Yrs', '50-60Yrs', '>60Yrs']),\n",
    "    color = 'CustomerID:Q',\n",
    ")\n",
    "\n",
    "c1"
   ]
  },
  {
   "cell_type": "markdown",
   "metadata": {},
   "source": [
    "Below top 5 combination of Customer Type and Age Bin constitutes about 70% of the Customers"
   ]
  },
  {
   "cell_type": "code",
   "execution_count": 19,
   "metadata": {},
   "outputs": [
    {
     "data": {
      "text/html": [
       "<div>\n",
       "<style scoped>\n",
       "    .dataframe tbody tr th:only-of-type {\n",
       "        vertical-align: middle;\n",
       "    }\n",
       "\n",
       "    .dataframe tbody tr th {\n",
       "        vertical-align: top;\n",
       "    }\n",
       "\n",
       "    .dataframe thead th {\n",
       "        text-align: right;\n",
       "    }\n",
       "</style>\n",
       "<table border=\"1\" class=\"dataframe\">\n",
       "  <thead>\n",
       "    <tr style=\"text-align: right;\">\n",
       "      <th></th>\n",
       "      <th>Customer Type</th>\n",
       "      <th>Age_Bin</th>\n",
       "      <th>CustomerID</th>\n",
       "    </tr>\n",
       "  </thead>\n",
       "  <tbody>\n",
       "    <tr>\n",
       "      <th>6</th>\n",
       "      <td>Economical</td>\n",
       "      <td>20-40Yrs</td>\n",
       "      <td>22.5</td>\n",
       "    </tr>\n",
       "    <tr>\n",
       "      <th>16</th>\n",
       "      <td>Premium</td>\n",
       "      <td>20-40Yrs</td>\n",
       "      <td>19.0</td>\n",
       "    </tr>\n",
       "    <tr>\n",
       "      <th>12</th>\n",
       "      <td>Frugal</td>\n",
       "      <td>40-50Yrs</td>\n",
       "      <td>10.0</td>\n",
       "    </tr>\n",
       "    <tr>\n",
       "      <th>11</th>\n",
       "      <td>Frugal</td>\n",
       "      <td>20-40Yrs</td>\n",
       "      <td>9.5</td>\n",
       "    </tr>\n",
       "    <tr>\n",
       "      <th>7</th>\n",
       "      <td>Economical</td>\n",
       "      <td>40-50Yrs</td>\n",
       "      <td>9.0</td>\n",
       "    </tr>\n",
       "  </tbody>\n",
       "</table>\n",
       "</div>"
      ],
      "text/plain": [
       "   Customer Type   Age_Bin  CustomerID\n",
       "6     Economical  20-40Yrs        22.5\n",
       "16       Premium  20-40Yrs        19.0\n",
       "12        Frugal  40-50Yrs        10.0\n",
       "11        Frugal  20-40Yrs         9.5\n",
       "7     Economical  40-50Yrs         9.0"
      ]
     },
     "execution_count": 19,
     "metadata": {},
     "output_type": "execute_result"
    }
   ],
   "source": [
    "age_band2.sort_values('CustomerID', ascending = False).head(5)"
   ]
  },
  {
   "cell_type": "code",
   "execution_count": 20,
   "metadata": {},
   "outputs": [
    {
     "data": {
      "text/html": [
       "\n",
       "<div id=\"altair-viz-05bb233f686241c8a8439ac0829e8b81\"></div>\n",
       "<script type=\"text/javascript\">\n",
       "  (function(spec, embedOpt){\n",
       "    let outputDiv = document.currentScript.previousElementSibling;\n",
       "    if (outputDiv.id !== \"altair-viz-05bb233f686241c8a8439ac0829e8b81\") {\n",
       "      outputDiv = document.getElementById(\"altair-viz-05bb233f686241c8a8439ac0829e8b81\");\n",
       "    }\n",
       "    const paths = {\n",
       "      \"vega\": \"https://cdn.jsdelivr.net/npm//vega@5?noext\",\n",
       "      \"vega-lib\": \"https://cdn.jsdelivr.net/npm//vega-lib?noext\",\n",
       "      \"vega-lite\": \"https://cdn.jsdelivr.net/npm//vega-lite@4.8.1?noext\",\n",
       "      \"vega-embed\": \"https://cdn.jsdelivr.net/npm//vega-embed@6?noext\",\n",
       "    };\n",
       "\n",
       "    function loadScript(lib) {\n",
       "      return new Promise(function(resolve, reject) {\n",
       "        var s = document.createElement('script');\n",
       "        s.src = paths[lib];\n",
       "        s.async = true;\n",
       "        s.onload = () => resolve(paths[lib]);\n",
       "        s.onerror = () => reject(`Error loading script: ${paths[lib]}`);\n",
       "        document.getElementsByTagName(\"head\")[0].appendChild(s);\n",
       "      });\n",
       "    }\n",
       "\n",
       "    function showError(err) {\n",
       "      outputDiv.innerHTML = `<div class=\"error\" style=\"color:red;\">${err}</div>`;\n",
       "      throw err;\n",
       "    }\n",
       "\n",
       "    function displayChart(vegaEmbed) {\n",
       "      vegaEmbed(outputDiv, spec, embedOpt)\n",
       "        .catch(err => showError(`Javascript Error: ${err.message}<br>This usually means there's a typo in your chart specification. See the javascript console for the full traceback.`));\n",
       "    }\n",
       "\n",
       "    if(typeof define === \"function\" && define.amd) {\n",
       "      requirejs.config({paths});\n",
       "      require([\"vega-embed\"], displayChart, err => showError(`Error loading script: ${err.message}`));\n",
       "    } else if (typeof vegaEmbed === \"function\") {\n",
       "      displayChart(vegaEmbed);\n",
       "    } else {\n",
       "      loadScript(\"vega\")\n",
       "        .then(() => loadScript(\"vega-lite\"))\n",
       "        .then(() => loadScript(\"vega-embed\"))\n",
       "        .catch(showError)\n",
       "        .then(() => displayChart(vegaEmbed));\n",
       "    }\n",
       "  })({\"config\": {\"view\": {\"continuousWidth\": 400, \"continuousHeight\": 300}}, \"data\": {\"name\": \"data-2d0338b93fe06ffe6f99e4793a99e6a5\"}, \"facet\": {\"type\": \"ordinal\", \"field\": \"Age_Bin\"}, \"spec\": {\"mark\": \"circle\", \"encoding\": {\"color\": {\"type\": \"nominal\", \"field\": \"Customer Type\"}, \"x\": {\"type\": \"quantitative\", \"field\": \"Spending Score (1-100)\"}, \"y\": {\"type\": \"quantitative\", \"field\": \"Annual Income (k$)\"}}, \"height\": 150, \"title\": \"Customer Type across different Age Bins\", \"width\": 300}, \"columns\": 2, \"$schema\": \"https://vega.github.io/schema/vega-lite/v4.8.1.json\", \"datasets\": {\"data-2d0338b93fe06ffe6f99e4793a99e6a5\": [{\"CustomerID\": 1, \"Gender\": \"Male\", \"Age\": 19, \"Annual Income (k$)\": 15, \"Spending Score (1-100)\": 39, \"Income_Category\": \"Low Income\", \"Spend_Category\": \"Low Spend\", \"Age_Bin\": \"<20Yrs\", \"Customer Type\": \"Frugal\"}, {\"CustomerID\": 2, \"Gender\": \"Male\", \"Age\": 21, \"Annual Income (k$)\": 15, \"Spending Score (1-100)\": 81, \"Income_Category\": \"Low Income\", \"Spend_Category\": \"High Spend\", \"Age_Bin\": \"20-40Yrs\", \"Customer Type\": \"Economical\"}, {\"CustomerID\": 3, \"Gender\": \"Female\", \"Age\": 20, \"Annual Income (k$)\": 16, \"Spending Score (1-100)\": 6, \"Income_Category\": \"Low Income\", \"Spend_Category\": \"Low Spend\", \"Age_Bin\": \"<20Yrs\", \"Customer Type\": \"Frugal\"}, {\"CustomerID\": 4, \"Gender\": \"Female\", \"Age\": 23, \"Annual Income (k$)\": 16, \"Spending Score (1-100)\": 77, \"Income_Category\": \"Low Income\", \"Spend_Category\": \"High Spend\", \"Age_Bin\": \"20-40Yrs\", \"Customer Type\": \"Economical\"}, {\"CustomerID\": 5, \"Gender\": \"Female\", \"Age\": 31, \"Annual Income (k$)\": 17, \"Spending Score (1-100)\": 40, \"Income_Category\": \"Low Income\", \"Spend_Category\": \"Medium Spend\", \"Age_Bin\": \"20-40Yrs\", \"Customer Type\": \"Economical\"}, {\"CustomerID\": 6, \"Gender\": \"Female\", \"Age\": 22, \"Annual Income (k$)\": 17, \"Spending Score (1-100)\": 76, \"Income_Category\": \"Low Income\", \"Spend_Category\": \"High Spend\", \"Age_Bin\": \"20-40Yrs\", \"Customer Type\": \"Economical\"}, {\"CustomerID\": 7, \"Gender\": \"Female\", \"Age\": 35, \"Annual Income (k$)\": 18, \"Spending Score (1-100)\": 6, \"Income_Category\": \"Low Income\", \"Spend_Category\": \"Low Spend\", \"Age_Bin\": \"20-40Yrs\", \"Customer Type\": \"Frugal\"}, {\"CustomerID\": 8, \"Gender\": \"Female\", \"Age\": 23, \"Annual Income (k$)\": 18, \"Spending Score (1-100)\": 94, \"Income_Category\": \"Low Income\", \"Spend_Category\": \"High Spend\", \"Age_Bin\": \"20-40Yrs\", \"Customer Type\": \"Economical\"}, {\"CustomerID\": 9, \"Gender\": \"Male\", \"Age\": 64, \"Annual Income (k$)\": 19, \"Spending Score (1-100)\": 3, \"Income_Category\": \"Low Income\", \"Spend_Category\": \"Low Spend\", \"Age_Bin\": \">60Yrs\", \"Customer Type\": \"Frugal\"}, {\"CustomerID\": 10, \"Gender\": \"Female\", \"Age\": 30, \"Annual Income (k$)\": 19, \"Spending Score (1-100)\": 72, \"Income_Category\": \"Low Income\", \"Spend_Category\": \"High Spend\", \"Age_Bin\": \"20-40Yrs\", \"Customer Type\": \"Economical\"}, {\"CustomerID\": 11, \"Gender\": \"Male\", \"Age\": 67, \"Annual Income (k$)\": 19, \"Spending Score (1-100)\": 14, \"Income_Category\": \"Low Income\", \"Spend_Category\": \"Low Spend\", \"Age_Bin\": \">60Yrs\", \"Customer Type\": \"Frugal\"}, {\"CustomerID\": 12, \"Gender\": \"Female\", \"Age\": 35, \"Annual Income (k$)\": 19, \"Spending Score (1-100)\": 99, \"Income_Category\": \"Low Income\", \"Spend_Category\": \"High Spend\", \"Age_Bin\": \"20-40Yrs\", \"Customer Type\": \"Economical\"}, {\"CustomerID\": 13, \"Gender\": \"Female\", \"Age\": 58, \"Annual Income (k$)\": 20, \"Spending Score (1-100)\": 15, \"Income_Category\": \"Low Income\", \"Spend_Category\": \"Low Spend\", \"Age_Bin\": \"50-60Yrs\", \"Customer Type\": \"Frugal\"}, {\"CustomerID\": 14, \"Gender\": \"Female\", \"Age\": 24, \"Annual Income (k$)\": 20, \"Spending Score (1-100)\": 77, \"Income_Category\": \"Low Income\", \"Spend_Category\": \"High Spend\", \"Age_Bin\": \"20-40Yrs\", \"Customer Type\": \"Economical\"}, {\"CustomerID\": 15, \"Gender\": \"Male\", \"Age\": 37, \"Annual Income (k$)\": 20, \"Spending Score (1-100)\": 13, \"Income_Category\": \"Low Income\", \"Spend_Category\": \"Low Spend\", \"Age_Bin\": \"20-40Yrs\", \"Customer Type\": \"Frugal\"}, {\"CustomerID\": 16, \"Gender\": \"Male\", \"Age\": 22, \"Annual Income (k$)\": 20, \"Spending Score (1-100)\": 79, \"Income_Category\": \"Low Income\", \"Spend_Category\": \"High Spend\", \"Age_Bin\": \"20-40Yrs\", \"Customer Type\": \"Economical\"}, {\"CustomerID\": 17, \"Gender\": \"Female\", \"Age\": 35, \"Annual Income (k$)\": 21, \"Spending Score (1-100)\": 35, \"Income_Category\": \"Low Income\", \"Spend_Category\": \"Low Spend\", \"Age_Bin\": \"20-40Yrs\", \"Customer Type\": \"Frugal\"}, {\"CustomerID\": 18, \"Gender\": \"Male\", \"Age\": 20, \"Annual Income (k$)\": 21, \"Spending Score (1-100)\": 66, \"Income_Category\": \"Low Income\", \"Spend_Category\": \"High Spend\", \"Age_Bin\": \"<20Yrs\", \"Customer Type\": \"Economical\"}, {\"CustomerID\": 19, \"Gender\": \"Male\", \"Age\": 52, \"Annual Income (k$)\": 23, \"Spending Score (1-100)\": 29, \"Income_Category\": \"Low Income\", \"Spend_Category\": \"Low Spend\", \"Age_Bin\": \"50-60Yrs\", \"Customer Type\": \"Frugal\"}, {\"CustomerID\": 20, \"Gender\": \"Female\", \"Age\": 35, \"Annual Income (k$)\": 23, \"Spending Score (1-100)\": 98, \"Income_Category\": \"Low Income\", \"Spend_Category\": \"High Spend\", \"Age_Bin\": \"20-40Yrs\", \"Customer Type\": \"Economical\"}, {\"CustomerID\": 21, \"Gender\": \"Male\", \"Age\": 35, \"Annual Income (k$)\": 24, \"Spending Score (1-100)\": 35, \"Income_Category\": \"Low Income\", \"Spend_Category\": \"Low Spend\", \"Age_Bin\": \"20-40Yrs\", \"Customer Type\": \"Frugal\"}, {\"CustomerID\": 22, \"Gender\": \"Male\", \"Age\": 25, \"Annual Income (k$)\": 24, \"Spending Score (1-100)\": 73, \"Income_Category\": \"Low Income\", \"Spend_Category\": \"High Spend\", \"Age_Bin\": \"20-40Yrs\", \"Customer Type\": \"Economical\"}, {\"CustomerID\": 23, \"Gender\": \"Female\", \"Age\": 46, \"Annual Income (k$)\": 25, \"Spending Score (1-100)\": 5, \"Income_Category\": \"Low Income\", \"Spend_Category\": \"Low Spend\", \"Age_Bin\": \"40-50Yrs\", \"Customer Type\": \"Frugal\"}, {\"CustomerID\": 24, \"Gender\": \"Male\", \"Age\": 31, \"Annual Income (k$)\": 25, \"Spending Score (1-100)\": 73, \"Income_Category\": \"Low Income\", \"Spend_Category\": \"High Spend\", \"Age_Bin\": \"20-40Yrs\", \"Customer Type\": \"Economical\"}, {\"CustomerID\": 25, \"Gender\": \"Female\", \"Age\": 54, \"Annual Income (k$)\": 28, \"Spending Score (1-100)\": 14, \"Income_Category\": \"Low Income\", \"Spend_Category\": \"Low Spend\", \"Age_Bin\": \"50-60Yrs\", \"Customer Type\": \"Frugal\"}, {\"CustomerID\": 26, \"Gender\": \"Male\", \"Age\": 29, \"Annual Income (k$)\": 28, \"Spending Score (1-100)\": 82, \"Income_Category\": \"Low Income\", \"Spend_Category\": \"High Spend\", \"Age_Bin\": \"20-40Yrs\", \"Customer Type\": \"Economical\"}, {\"CustomerID\": 27, \"Gender\": \"Female\", \"Age\": 45, \"Annual Income (k$)\": 28, \"Spending Score (1-100)\": 32, \"Income_Category\": \"Low Income\", \"Spend_Category\": \"Low Spend\", \"Age_Bin\": \"40-50Yrs\", \"Customer Type\": \"Frugal\"}, {\"CustomerID\": 28, \"Gender\": \"Male\", \"Age\": 35, \"Annual Income (k$)\": 28, \"Spending Score (1-100)\": 61, \"Income_Category\": \"Low Income\", \"Spend_Category\": \"High Spend\", \"Age_Bin\": \"20-40Yrs\", \"Customer Type\": \"Economical\"}, {\"CustomerID\": 29, \"Gender\": \"Female\", \"Age\": 40, \"Annual Income (k$)\": 29, \"Spending Score (1-100)\": 31, \"Income_Category\": \"Low Income\", \"Spend_Category\": \"Low Spend\", \"Age_Bin\": \"20-40Yrs\", \"Customer Type\": \"Frugal\"}, {\"CustomerID\": 30, \"Gender\": \"Female\", \"Age\": 23, \"Annual Income (k$)\": 29, \"Spending Score (1-100)\": 87, \"Income_Category\": \"Low Income\", \"Spend_Category\": \"High Spend\", \"Age_Bin\": \"20-40Yrs\", \"Customer Type\": \"Economical\"}, {\"CustomerID\": 31, \"Gender\": \"Male\", \"Age\": 60, \"Annual Income (k$)\": 30, \"Spending Score (1-100)\": 4, \"Income_Category\": \"Low Income\", \"Spend_Category\": \"Low Spend\", \"Age_Bin\": \"50-60Yrs\", \"Customer Type\": \"Frugal\"}, {\"CustomerID\": 32, \"Gender\": \"Female\", \"Age\": 21, \"Annual Income (k$)\": 30, \"Spending Score (1-100)\": 73, \"Income_Category\": \"Low Income\", \"Spend_Category\": \"High Spend\", \"Age_Bin\": \"20-40Yrs\", \"Customer Type\": \"Economical\"}, {\"CustomerID\": 33, \"Gender\": \"Male\", \"Age\": 53, \"Annual Income (k$)\": 33, \"Spending Score (1-100)\": 4, \"Income_Category\": \"Low Income\", \"Spend_Category\": \"Low Spend\", \"Age_Bin\": \"50-60Yrs\", \"Customer Type\": \"Frugal\"}, {\"CustomerID\": 34, \"Gender\": \"Male\", \"Age\": 18, \"Annual Income (k$)\": 33, \"Spending Score (1-100)\": 92, \"Income_Category\": \"Low Income\", \"Spend_Category\": \"High Spend\", \"Age_Bin\": \"<20Yrs\", \"Customer Type\": \"Economical\"}, {\"CustomerID\": 35, \"Gender\": \"Female\", \"Age\": 49, \"Annual Income (k$)\": 33, \"Spending Score (1-100)\": 14, \"Income_Category\": \"Low Income\", \"Spend_Category\": \"Low Spend\", \"Age_Bin\": \"40-50Yrs\", \"Customer Type\": \"Frugal\"}, {\"CustomerID\": 36, \"Gender\": \"Female\", \"Age\": 21, \"Annual Income (k$)\": 33, \"Spending Score (1-100)\": 81, \"Income_Category\": \"Low Income\", \"Spend_Category\": \"High Spend\", \"Age_Bin\": \"20-40Yrs\", \"Customer Type\": \"Economical\"}, {\"CustomerID\": 37, \"Gender\": \"Female\", \"Age\": 42, \"Annual Income (k$)\": 34, \"Spending Score (1-100)\": 17, \"Income_Category\": \"Low Income\", \"Spend_Category\": \"Low Spend\", \"Age_Bin\": \"40-50Yrs\", \"Customer Type\": \"Frugal\"}, {\"CustomerID\": 38, \"Gender\": \"Female\", \"Age\": 30, \"Annual Income (k$)\": 34, \"Spending Score (1-100)\": 73, \"Income_Category\": \"Low Income\", \"Spend_Category\": \"High Spend\", \"Age_Bin\": \"20-40Yrs\", \"Customer Type\": \"Economical\"}, {\"CustomerID\": 39, \"Gender\": \"Female\", \"Age\": 36, \"Annual Income (k$)\": 37, \"Spending Score (1-100)\": 26, \"Income_Category\": \"Low Income\", \"Spend_Category\": \"Low Spend\", \"Age_Bin\": \"20-40Yrs\", \"Customer Type\": \"Frugal\"}, {\"CustomerID\": 40, \"Gender\": \"Female\", \"Age\": 20, \"Annual Income (k$)\": 37, \"Spending Score (1-100)\": 75, \"Income_Category\": \"Low Income\", \"Spend_Category\": \"High Spend\", \"Age_Bin\": \"<20Yrs\", \"Customer Type\": \"Economical\"}, {\"CustomerID\": 41, \"Gender\": \"Female\", \"Age\": 65, \"Annual Income (k$)\": 38, \"Spending Score (1-100)\": 35, \"Income_Category\": \"Low Income\", \"Spend_Category\": \"Low Spend\", \"Age_Bin\": \">60Yrs\", \"Customer Type\": \"Frugal\"}, {\"CustomerID\": 42, \"Gender\": \"Male\", \"Age\": 24, \"Annual Income (k$)\": 38, \"Spending Score (1-100)\": 92, \"Income_Category\": \"Low Income\", \"Spend_Category\": \"High Spend\", \"Age_Bin\": \"20-40Yrs\", \"Customer Type\": \"Economical\"}, {\"CustomerID\": 43, \"Gender\": \"Male\", \"Age\": 48, \"Annual Income (k$)\": 39, \"Spending Score (1-100)\": 36, \"Income_Category\": \"Low Income\", \"Spend_Category\": \"Low Spend\", \"Age_Bin\": \"40-50Yrs\", \"Customer Type\": \"Frugal\"}, {\"CustomerID\": 44, \"Gender\": \"Female\", \"Age\": 31, \"Annual Income (k$)\": 39, \"Spending Score (1-100)\": 61, \"Income_Category\": \"Low Income\", \"Spend_Category\": \"High Spend\", \"Age_Bin\": \"20-40Yrs\", \"Customer Type\": \"Economical\"}, {\"CustomerID\": 45, \"Gender\": \"Female\", \"Age\": 49, \"Annual Income (k$)\": 39, \"Spending Score (1-100)\": 28, \"Income_Category\": \"Low Income\", \"Spend_Category\": \"Low Spend\", \"Age_Bin\": \"40-50Yrs\", \"Customer Type\": \"Frugal\"}, {\"CustomerID\": 46, \"Gender\": \"Female\", \"Age\": 24, \"Annual Income (k$)\": 39, \"Spending Score (1-100)\": 65, \"Income_Category\": \"Low Income\", \"Spend_Category\": \"High Spend\", \"Age_Bin\": \"20-40Yrs\", \"Customer Type\": \"Economical\"}, {\"CustomerID\": 47, \"Gender\": \"Female\", \"Age\": 50, \"Annual Income (k$)\": 40, \"Spending Score (1-100)\": 55, \"Income_Category\": \"Medium Income\", \"Spend_Category\": \"Medium Spend\", \"Age_Bin\": \"40-50Yrs\", \"Customer Type\": \"Economical\"}, {\"CustomerID\": 48, \"Gender\": \"Female\", \"Age\": 27, \"Annual Income (k$)\": 40, \"Spending Score (1-100)\": 47, \"Income_Category\": \"Medium Income\", \"Spend_Category\": \"Medium Spend\", \"Age_Bin\": \"20-40Yrs\", \"Customer Type\": \"Economical\"}, {\"CustomerID\": 49, \"Gender\": \"Female\", \"Age\": 29, \"Annual Income (k$)\": 40, \"Spending Score (1-100)\": 42, \"Income_Category\": \"Medium Income\", \"Spend_Category\": \"Medium Spend\", \"Age_Bin\": \"20-40Yrs\", \"Customer Type\": \"Economical\"}, {\"CustomerID\": 50, \"Gender\": \"Female\", \"Age\": 31, \"Annual Income (k$)\": 40, \"Spending Score (1-100)\": 42, \"Income_Category\": \"Medium Income\", \"Spend_Category\": \"Medium Spend\", \"Age_Bin\": \"20-40Yrs\", \"Customer Type\": \"Economical\"}, {\"CustomerID\": 51, \"Gender\": \"Female\", \"Age\": 49, \"Annual Income (k$)\": 42, \"Spending Score (1-100)\": 52, \"Income_Category\": \"Medium Income\", \"Spend_Category\": \"Medium Spend\", \"Age_Bin\": \"40-50Yrs\", \"Customer Type\": \"Economical\"}, {\"CustomerID\": 52, \"Gender\": \"Male\", \"Age\": 33, \"Annual Income (k$)\": 42, \"Spending Score (1-100)\": 60, \"Income_Category\": \"Medium Income\", \"Spend_Category\": \"High Spend\", \"Age_Bin\": \"20-40Yrs\", \"Customer Type\": \"Careless\"}, {\"CustomerID\": 53, \"Gender\": \"Female\", \"Age\": 31, \"Annual Income (k$)\": 43, \"Spending Score (1-100)\": 54, \"Income_Category\": \"Medium Income\", \"Spend_Category\": \"Medium Spend\", \"Age_Bin\": \"20-40Yrs\", \"Customer Type\": \"Economical\"}, {\"CustomerID\": 54, \"Gender\": \"Male\", \"Age\": 59, \"Annual Income (k$)\": 43, \"Spending Score (1-100)\": 60, \"Income_Category\": \"Medium Income\", \"Spend_Category\": \"High Spend\", \"Age_Bin\": \"50-60Yrs\", \"Customer Type\": \"Careless\"}, {\"CustomerID\": 55, \"Gender\": \"Female\", \"Age\": 50, \"Annual Income (k$)\": 43, \"Spending Score (1-100)\": 45, \"Income_Category\": \"Medium Income\", \"Spend_Category\": \"Medium Spend\", \"Age_Bin\": \"40-50Yrs\", \"Customer Type\": \"Economical\"}, {\"CustomerID\": 56, \"Gender\": \"Male\", \"Age\": 47, \"Annual Income (k$)\": 43, \"Spending Score (1-100)\": 41, \"Income_Category\": \"Medium Income\", \"Spend_Category\": \"Medium Spend\", \"Age_Bin\": \"40-50Yrs\", \"Customer Type\": \"Economical\"}, {\"CustomerID\": 57, \"Gender\": \"Female\", \"Age\": 51, \"Annual Income (k$)\": 44, \"Spending Score (1-100)\": 50, \"Income_Category\": \"Medium Income\", \"Spend_Category\": \"Medium Spend\", \"Age_Bin\": \"50-60Yrs\", \"Customer Type\": \"Economical\"}, {\"CustomerID\": 58, \"Gender\": \"Male\", \"Age\": 69, \"Annual Income (k$)\": 44, \"Spending Score (1-100)\": 46, \"Income_Category\": \"Medium Income\", \"Spend_Category\": \"Medium Spend\", \"Age_Bin\": \">60Yrs\", \"Customer Type\": \"Economical\"}, {\"CustomerID\": 59, \"Gender\": \"Female\", \"Age\": 27, \"Annual Income (k$)\": 46, \"Spending Score (1-100)\": 51, \"Income_Category\": \"Medium Income\", \"Spend_Category\": \"Medium Spend\", \"Age_Bin\": \"20-40Yrs\", \"Customer Type\": \"Economical\"}, {\"CustomerID\": 60, \"Gender\": \"Male\", \"Age\": 53, \"Annual Income (k$)\": 46, \"Spending Score (1-100)\": 46, \"Income_Category\": \"Medium Income\", \"Spend_Category\": \"Medium Spend\", \"Age_Bin\": \"50-60Yrs\", \"Customer Type\": \"Economical\"}, {\"CustomerID\": 61, \"Gender\": \"Male\", \"Age\": 70, \"Annual Income (k$)\": 46, \"Spending Score (1-100)\": 56, \"Income_Category\": \"Medium Income\", \"Spend_Category\": \"Medium Spend\", \"Age_Bin\": \">60Yrs\", \"Customer Type\": \"Economical\"}, {\"CustomerID\": 62, \"Gender\": \"Male\", \"Age\": 19, \"Annual Income (k$)\": 46, \"Spending Score (1-100)\": 55, \"Income_Category\": \"Medium Income\", \"Spend_Category\": \"Medium Spend\", \"Age_Bin\": \"<20Yrs\", \"Customer Type\": \"Economical\"}, {\"CustomerID\": 63, \"Gender\": \"Female\", \"Age\": 67, \"Annual Income (k$)\": 47, \"Spending Score (1-100)\": 52, \"Income_Category\": \"Medium Income\", \"Spend_Category\": \"Medium Spend\", \"Age_Bin\": \">60Yrs\", \"Customer Type\": \"Economical\"}, {\"CustomerID\": 64, \"Gender\": \"Female\", \"Age\": 54, \"Annual Income (k$)\": 47, \"Spending Score (1-100)\": 59, \"Income_Category\": \"Medium Income\", \"Spend_Category\": \"Medium Spend\", \"Age_Bin\": \"50-60Yrs\", \"Customer Type\": \"Economical\"}, {\"CustomerID\": 65, \"Gender\": \"Male\", \"Age\": 63, \"Annual Income (k$)\": 48, \"Spending Score (1-100)\": 51, \"Income_Category\": \"Medium Income\", \"Spend_Category\": \"Medium Spend\", \"Age_Bin\": \">60Yrs\", \"Customer Type\": \"Economical\"}, {\"CustomerID\": 66, \"Gender\": \"Male\", \"Age\": 18, \"Annual Income (k$)\": 48, \"Spending Score (1-100)\": 59, \"Income_Category\": \"Medium Income\", \"Spend_Category\": \"Medium Spend\", \"Age_Bin\": \"<20Yrs\", \"Customer Type\": \"Economical\"}, {\"CustomerID\": 67, \"Gender\": \"Female\", \"Age\": 43, \"Annual Income (k$)\": 48, \"Spending Score (1-100)\": 50, \"Income_Category\": \"Medium Income\", \"Spend_Category\": \"Medium Spend\", \"Age_Bin\": \"40-50Yrs\", \"Customer Type\": \"Economical\"}, {\"CustomerID\": 68, \"Gender\": \"Female\", \"Age\": 68, \"Annual Income (k$)\": 48, \"Spending Score (1-100)\": 48, \"Income_Category\": \"Medium Income\", \"Spend_Category\": \"Medium Spend\", \"Age_Bin\": \">60Yrs\", \"Customer Type\": \"Economical\"}, {\"CustomerID\": 69, \"Gender\": \"Male\", \"Age\": 19, \"Annual Income (k$)\": 48, \"Spending Score (1-100)\": 59, \"Income_Category\": \"Medium Income\", \"Spend_Category\": \"Medium Spend\", \"Age_Bin\": \"<20Yrs\", \"Customer Type\": \"Economical\"}, {\"CustomerID\": 70, \"Gender\": \"Female\", \"Age\": 32, \"Annual Income (k$)\": 48, \"Spending Score (1-100)\": 47, \"Income_Category\": \"Medium Income\", \"Spend_Category\": \"Medium Spend\", \"Age_Bin\": \"20-40Yrs\", \"Customer Type\": \"Economical\"}, {\"CustomerID\": 71, \"Gender\": \"Male\", \"Age\": 70, \"Annual Income (k$)\": 49, \"Spending Score (1-100)\": 55, \"Income_Category\": \"Medium Income\", \"Spend_Category\": \"Medium Spend\", \"Age_Bin\": \">60Yrs\", \"Customer Type\": \"Economical\"}, {\"CustomerID\": 72, \"Gender\": \"Female\", \"Age\": 47, \"Annual Income (k$)\": 49, \"Spending Score (1-100)\": 42, \"Income_Category\": \"Medium Income\", \"Spend_Category\": \"Medium Spend\", \"Age_Bin\": \"40-50Yrs\", \"Customer Type\": \"Economical\"}, {\"CustomerID\": 73, \"Gender\": \"Female\", \"Age\": 60, \"Annual Income (k$)\": 50, \"Spending Score (1-100)\": 49, \"Income_Category\": \"Medium Income\", \"Spend_Category\": \"Medium Spend\", \"Age_Bin\": \"50-60Yrs\", \"Customer Type\": \"Economical\"}, {\"CustomerID\": 74, \"Gender\": \"Female\", \"Age\": 60, \"Annual Income (k$)\": 50, \"Spending Score (1-100)\": 56, \"Income_Category\": \"Medium Income\", \"Spend_Category\": \"Medium Spend\", \"Age_Bin\": \"50-60Yrs\", \"Customer Type\": \"Economical\"}, {\"CustomerID\": 75, \"Gender\": \"Male\", \"Age\": 59, \"Annual Income (k$)\": 54, \"Spending Score (1-100)\": 47, \"Income_Category\": \"Medium Income\", \"Spend_Category\": \"Medium Spend\", \"Age_Bin\": \"50-60Yrs\", \"Customer Type\": \"Economical\"}, {\"CustomerID\": 76, \"Gender\": \"Male\", \"Age\": 26, \"Annual Income (k$)\": 54, \"Spending Score (1-100)\": 54, \"Income_Category\": \"Medium Income\", \"Spend_Category\": \"Medium Spend\", \"Age_Bin\": \"20-40Yrs\", \"Customer Type\": \"Economical\"}, {\"CustomerID\": 77, \"Gender\": \"Female\", \"Age\": 45, \"Annual Income (k$)\": 54, \"Spending Score (1-100)\": 53, \"Income_Category\": \"Medium Income\", \"Spend_Category\": \"Medium Spend\", \"Age_Bin\": \"40-50Yrs\", \"Customer Type\": \"Economical\"}, {\"CustomerID\": 78, \"Gender\": \"Male\", \"Age\": 40, \"Annual Income (k$)\": 54, \"Spending Score (1-100)\": 48, \"Income_Category\": \"Medium Income\", \"Spend_Category\": \"Medium Spend\", \"Age_Bin\": \"20-40Yrs\", \"Customer Type\": \"Economical\"}, {\"CustomerID\": 79, \"Gender\": \"Female\", \"Age\": 23, \"Annual Income (k$)\": 54, \"Spending Score (1-100)\": 52, \"Income_Category\": \"Medium Income\", \"Spend_Category\": \"Medium Spend\", \"Age_Bin\": \"20-40Yrs\", \"Customer Type\": \"Economical\"}, {\"CustomerID\": 80, \"Gender\": \"Female\", \"Age\": 49, \"Annual Income (k$)\": 54, \"Spending Score (1-100)\": 42, \"Income_Category\": \"Medium Income\", \"Spend_Category\": \"Medium Spend\", \"Age_Bin\": \"40-50Yrs\", \"Customer Type\": \"Economical\"}, {\"CustomerID\": 81, \"Gender\": \"Male\", \"Age\": 57, \"Annual Income (k$)\": 54, \"Spending Score (1-100)\": 51, \"Income_Category\": \"Medium Income\", \"Spend_Category\": \"Medium Spend\", \"Age_Bin\": \"50-60Yrs\", \"Customer Type\": \"Economical\"}, {\"CustomerID\": 82, \"Gender\": \"Male\", \"Age\": 38, \"Annual Income (k$)\": 54, \"Spending Score (1-100)\": 55, \"Income_Category\": \"Medium Income\", \"Spend_Category\": \"Medium Spend\", \"Age_Bin\": \"20-40Yrs\", \"Customer Type\": \"Economical\"}, {\"CustomerID\": 83, \"Gender\": \"Male\", \"Age\": 67, \"Annual Income (k$)\": 54, \"Spending Score (1-100)\": 41, \"Income_Category\": \"Medium Income\", \"Spend_Category\": \"Medium Spend\", \"Age_Bin\": \">60Yrs\", \"Customer Type\": \"Economical\"}, {\"CustomerID\": 84, \"Gender\": \"Female\", \"Age\": 46, \"Annual Income (k$)\": 54, \"Spending Score (1-100)\": 44, \"Income_Category\": \"Medium Income\", \"Spend_Category\": \"Medium Spend\", \"Age_Bin\": \"40-50Yrs\", \"Customer Type\": \"Economical\"}, {\"CustomerID\": 85, \"Gender\": \"Female\", \"Age\": 21, \"Annual Income (k$)\": 54, \"Spending Score (1-100)\": 57, \"Income_Category\": \"Medium Income\", \"Spend_Category\": \"Medium Spend\", \"Age_Bin\": \"20-40Yrs\", \"Customer Type\": \"Economical\"}, {\"CustomerID\": 86, \"Gender\": \"Male\", \"Age\": 48, \"Annual Income (k$)\": 54, \"Spending Score (1-100)\": 46, \"Income_Category\": \"Medium Income\", \"Spend_Category\": \"Medium Spend\", \"Age_Bin\": \"40-50Yrs\", \"Customer Type\": \"Economical\"}, {\"CustomerID\": 87, \"Gender\": \"Female\", \"Age\": 55, \"Annual Income (k$)\": 57, \"Spending Score (1-100)\": 58, \"Income_Category\": \"Medium Income\", \"Spend_Category\": \"Medium Spend\", \"Age_Bin\": \"50-60Yrs\", \"Customer Type\": \"Economical\"}, {\"CustomerID\": 88, \"Gender\": \"Female\", \"Age\": 22, \"Annual Income (k$)\": 57, \"Spending Score (1-100)\": 55, \"Income_Category\": \"Medium Income\", \"Spend_Category\": \"Medium Spend\", \"Age_Bin\": \"20-40Yrs\", \"Customer Type\": \"Economical\"}, {\"CustomerID\": 89, \"Gender\": \"Female\", \"Age\": 34, \"Annual Income (k$)\": 58, \"Spending Score (1-100)\": 60, \"Income_Category\": \"Medium Income\", \"Spend_Category\": \"High Spend\", \"Age_Bin\": \"20-40Yrs\", \"Customer Type\": \"Careless\"}, {\"CustomerID\": 90, \"Gender\": \"Female\", \"Age\": 50, \"Annual Income (k$)\": 58, \"Spending Score (1-100)\": 46, \"Income_Category\": \"Medium Income\", \"Spend_Category\": \"Medium Spend\", \"Age_Bin\": \"40-50Yrs\", \"Customer Type\": \"Economical\"}, {\"CustomerID\": 91, \"Gender\": \"Female\", \"Age\": 68, \"Annual Income (k$)\": 59, \"Spending Score (1-100)\": 55, \"Income_Category\": \"Medium Income\", \"Spend_Category\": \"Medium Spend\", \"Age_Bin\": \">60Yrs\", \"Customer Type\": \"Economical\"}, {\"CustomerID\": 92, \"Gender\": \"Male\", \"Age\": 18, \"Annual Income (k$)\": 59, \"Spending Score (1-100)\": 41, \"Income_Category\": \"Medium Income\", \"Spend_Category\": \"Medium Spend\", \"Age_Bin\": \"<20Yrs\", \"Customer Type\": \"Economical\"}, {\"CustomerID\": 93, \"Gender\": \"Male\", \"Age\": 48, \"Annual Income (k$)\": 60, \"Spending Score (1-100)\": 49, \"Income_Category\": \"Medium Income\", \"Spend_Category\": \"Medium Spend\", \"Age_Bin\": \"40-50Yrs\", \"Customer Type\": \"Economical\"}, {\"CustomerID\": 94, \"Gender\": \"Female\", \"Age\": 40, \"Annual Income (k$)\": 60, \"Spending Score (1-100)\": 40, \"Income_Category\": \"Medium Income\", \"Spend_Category\": \"Medium Spend\", \"Age_Bin\": \"20-40Yrs\", \"Customer Type\": \"Economical\"}, {\"CustomerID\": 95, \"Gender\": \"Female\", \"Age\": 32, \"Annual Income (k$)\": 60, \"Spending Score (1-100)\": 42, \"Income_Category\": \"Medium Income\", \"Spend_Category\": \"Medium Spend\", \"Age_Bin\": \"20-40Yrs\", \"Customer Type\": \"Economical\"}, {\"CustomerID\": 96, \"Gender\": \"Male\", \"Age\": 24, \"Annual Income (k$)\": 60, \"Spending Score (1-100)\": 52, \"Income_Category\": \"Medium Income\", \"Spend_Category\": \"Medium Spend\", \"Age_Bin\": \"20-40Yrs\", \"Customer Type\": \"Economical\"}, {\"CustomerID\": 97, \"Gender\": \"Female\", \"Age\": 47, \"Annual Income (k$)\": 60, \"Spending Score (1-100)\": 47, \"Income_Category\": \"Medium Income\", \"Spend_Category\": \"Medium Spend\", \"Age_Bin\": \"40-50Yrs\", \"Customer Type\": \"Economical\"}, {\"CustomerID\": 98, \"Gender\": \"Female\", \"Age\": 27, \"Annual Income (k$)\": 60, \"Spending Score (1-100)\": 50, \"Income_Category\": \"Medium Income\", \"Spend_Category\": \"Medium Spend\", \"Age_Bin\": \"20-40Yrs\", \"Customer Type\": \"Economical\"}, {\"CustomerID\": 99, \"Gender\": \"Male\", \"Age\": 48, \"Annual Income (k$)\": 61, \"Spending Score (1-100)\": 42, \"Income_Category\": \"Medium Income\", \"Spend_Category\": \"Medium Spend\", \"Age_Bin\": \"40-50Yrs\", \"Customer Type\": \"Economical\"}, {\"CustomerID\": 100, \"Gender\": \"Male\", \"Age\": 20, \"Annual Income (k$)\": 61, \"Spending Score (1-100)\": 49, \"Income_Category\": \"Medium Income\", \"Spend_Category\": \"Medium Spend\", \"Age_Bin\": \"<20Yrs\", \"Customer Type\": \"Economical\"}, {\"CustomerID\": 101, \"Gender\": \"Female\", \"Age\": 23, \"Annual Income (k$)\": 62, \"Spending Score (1-100)\": 41, \"Income_Category\": \"Medium Income\", \"Spend_Category\": \"Medium Spend\", \"Age_Bin\": \"20-40Yrs\", \"Customer Type\": \"Economical\"}, {\"CustomerID\": 102, \"Gender\": \"Female\", \"Age\": 49, \"Annual Income (k$)\": 62, \"Spending Score (1-100)\": 48, \"Income_Category\": \"Medium Income\", \"Spend_Category\": \"Medium Spend\", \"Age_Bin\": \"40-50Yrs\", \"Customer Type\": \"Economical\"}, {\"CustomerID\": 103, \"Gender\": \"Male\", \"Age\": 67, \"Annual Income (k$)\": 62, \"Spending Score (1-100)\": 59, \"Income_Category\": \"Medium Income\", \"Spend_Category\": \"Medium Spend\", \"Age_Bin\": \">60Yrs\", \"Customer Type\": \"Economical\"}, {\"CustomerID\": 104, \"Gender\": \"Male\", \"Age\": 26, \"Annual Income (k$)\": 62, \"Spending Score (1-100)\": 55, \"Income_Category\": \"Medium Income\", \"Spend_Category\": \"Medium Spend\", \"Age_Bin\": \"20-40Yrs\", \"Customer Type\": \"Economical\"}, {\"CustomerID\": 105, \"Gender\": \"Male\", \"Age\": 49, \"Annual Income (k$)\": 62, \"Spending Score (1-100)\": 56, \"Income_Category\": \"Medium Income\", \"Spend_Category\": \"Medium Spend\", \"Age_Bin\": \"40-50Yrs\", \"Customer Type\": \"Economical\"}, {\"CustomerID\": 106, \"Gender\": \"Female\", \"Age\": 21, \"Annual Income (k$)\": 62, \"Spending Score (1-100)\": 42, \"Income_Category\": \"Medium Income\", \"Spend_Category\": \"Medium Spend\", \"Age_Bin\": \"20-40Yrs\", \"Customer Type\": \"Economical\"}, {\"CustomerID\": 107, \"Gender\": \"Female\", \"Age\": 66, \"Annual Income (k$)\": 63, \"Spending Score (1-100)\": 50, \"Income_Category\": \"Medium Income\", \"Spend_Category\": \"Medium Spend\", \"Age_Bin\": \">60Yrs\", \"Customer Type\": \"Economical\"}, {\"CustomerID\": 108, \"Gender\": \"Male\", \"Age\": 54, \"Annual Income (k$)\": 63, \"Spending Score (1-100)\": 46, \"Income_Category\": \"Medium Income\", \"Spend_Category\": \"Medium Spend\", \"Age_Bin\": \"50-60Yrs\", \"Customer Type\": \"Economical\"}, {\"CustomerID\": 109, \"Gender\": \"Male\", \"Age\": 68, \"Annual Income (k$)\": 63, \"Spending Score (1-100)\": 43, \"Income_Category\": \"Medium Income\", \"Spend_Category\": \"Medium Spend\", \"Age_Bin\": \">60Yrs\", \"Customer Type\": \"Economical\"}, {\"CustomerID\": 110, \"Gender\": \"Male\", \"Age\": 66, \"Annual Income (k$)\": 63, \"Spending Score (1-100)\": 48, \"Income_Category\": \"Medium Income\", \"Spend_Category\": \"Medium Spend\", \"Age_Bin\": \">60Yrs\", \"Customer Type\": \"Economical\"}, {\"CustomerID\": 111, \"Gender\": \"Male\", \"Age\": 65, \"Annual Income (k$)\": 63, \"Spending Score (1-100)\": 52, \"Income_Category\": \"Medium Income\", \"Spend_Category\": \"Medium Spend\", \"Age_Bin\": \">60Yrs\", \"Customer Type\": \"Economical\"}, {\"CustomerID\": 112, \"Gender\": \"Female\", \"Age\": 19, \"Annual Income (k$)\": 63, \"Spending Score (1-100)\": 54, \"Income_Category\": \"Medium Income\", \"Spend_Category\": \"Medium Spend\", \"Age_Bin\": \"<20Yrs\", \"Customer Type\": \"Economical\"}, {\"CustomerID\": 113, \"Gender\": \"Female\", \"Age\": 38, \"Annual Income (k$)\": 64, \"Spending Score (1-100)\": 42, \"Income_Category\": \"Medium Income\", \"Spend_Category\": \"Medium Spend\", \"Age_Bin\": \"20-40Yrs\", \"Customer Type\": \"Economical\"}, {\"CustomerID\": 114, \"Gender\": \"Male\", \"Age\": 19, \"Annual Income (k$)\": 64, \"Spending Score (1-100)\": 46, \"Income_Category\": \"Medium Income\", \"Spend_Category\": \"Medium Spend\", \"Age_Bin\": \"<20Yrs\", \"Customer Type\": \"Economical\"}, {\"CustomerID\": 115, \"Gender\": \"Female\", \"Age\": 18, \"Annual Income (k$)\": 65, \"Spending Score (1-100)\": 48, \"Income_Category\": \"Medium Income\", \"Spend_Category\": \"Medium Spend\", \"Age_Bin\": \"<20Yrs\", \"Customer Type\": \"Economical\"}, {\"CustomerID\": 116, \"Gender\": \"Female\", \"Age\": 19, \"Annual Income (k$)\": 65, \"Spending Score (1-100)\": 50, \"Income_Category\": \"Medium Income\", \"Spend_Category\": \"Medium Spend\", \"Age_Bin\": \"<20Yrs\", \"Customer Type\": \"Economical\"}, {\"CustomerID\": 117, \"Gender\": \"Female\", \"Age\": 63, \"Annual Income (k$)\": 65, \"Spending Score (1-100)\": 43, \"Income_Category\": \"Medium Income\", \"Spend_Category\": \"Medium Spend\", \"Age_Bin\": \">60Yrs\", \"Customer Type\": \"Economical\"}, {\"CustomerID\": 118, \"Gender\": \"Female\", \"Age\": 49, \"Annual Income (k$)\": 65, \"Spending Score (1-100)\": 59, \"Income_Category\": \"Medium Income\", \"Spend_Category\": \"Medium Spend\", \"Age_Bin\": \"40-50Yrs\", \"Customer Type\": \"Economical\"}, {\"CustomerID\": 119, \"Gender\": \"Female\", \"Age\": 51, \"Annual Income (k$)\": 67, \"Spending Score (1-100)\": 43, \"Income_Category\": \"Medium Income\", \"Spend_Category\": \"Medium Spend\", \"Age_Bin\": \"50-60Yrs\", \"Customer Type\": \"Economical\"}, {\"CustomerID\": 120, \"Gender\": \"Female\", \"Age\": 50, \"Annual Income (k$)\": 67, \"Spending Score (1-100)\": 57, \"Income_Category\": \"Medium Income\", \"Spend_Category\": \"Medium Spend\", \"Age_Bin\": \"40-50Yrs\", \"Customer Type\": \"Economical\"}, {\"CustomerID\": 121, \"Gender\": \"Male\", \"Age\": 27, \"Annual Income (k$)\": 67, \"Spending Score (1-100)\": 56, \"Income_Category\": \"Medium Income\", \"Spend_Category\": \"Medium Spend\", \"Age_Bin\": \"20-40Yrs\", \"Customer Type\": \"Economical\"}, {\"CustomerID\": 122, \"Gender\": \"Female\", \"Age\": 38, \"Annual Income (k$)\": 67, \"Spending Score (1-100)\": 40, \"Income_Category\": \"Medium Income\", \"Spend_Category\": \"Medium Spend\", \"Age_Bin\": \"20-40Yrs\", \"Customer Type\": \"Economical\"}, {\"CustomerID\": 123, \"Gender\": \"Female\", \"Age\": 40, \"Annual Income (k$)\": 69, \"Spending Score (1-100)\": 58, \"Income_Category\": \"Medium Income\", \"Spend_Category\": \"Medium Spend\", \"Age_Bin\": \"20-40Yrs\", \"Customer Type\": \"Economical\"}, {\"CustomerID\": 124, \"Gender\": \"Male\", \"Age\": 39, \"Annual Income (k$)\": 69, \"Spending Score (1-100)\": 91, \"Income_Category\": \"Medium Income\", \"Spend_Category\": \"High Spend\", \"Age_Bin\": \"20-40Yrs\", \"Customer Type\": \"Careless\"}, {\"CustomerID\": 125, \"Gender\": \"Female\", \"Age\": 23, \"Annual Income (k$)\": 70, \"Spending Score (1-100)\": 29, \"Income_Category\": \"High Income\", \"Spend_Category\": \"Low Spend\", \"Age_Bin\": \"20-40Yrs\", \"Customer Type\": \"Frugal\"}, {\"CustomerID\": 126, \"Gender\": \"Female\", \"Age\": 31, \"Annual Income (k$)\": 70, \"Spending Score (1-100)\": 77, \"Income_Category\": \"High Income\", \"Spend_Category\": \"High Spend\", \"Age_Bin\": \"20-40Yrs\", \"Customer Type\": \"Premium\"}, {\"CustomerID\": 127, \"Gender\": \"Male\", \"Age\": 43, \"Annual Income (k$)\": 71, \"Spending Score (1-100)\": 35, \"Income_Category\": \"High Income\", \"Spend_Category\": \"Low Spend\", \"Age_Bin\": \"40-50Yrs\", \"Customer Type\": \"Frugal\"}, {\"CustomerID\": 128, \"Gender\": \"Male\", \"Age\": 40, \"Annual Income (k$)\": 71, \"Spending Score (1-100)\": 95, \"Income_Category\": \"High Income\", \"Spend_Category\": \"High Spend\", \"Age_Bin\": \"20-40Yrs\", \"Customer Type\": \"Premium\"}, {\"CustomerID\": 129, \"Gender\": \"Male\", \"Age\": 59, \"Annual Income (k$)\": 71, \"Spending Score (1-100)\": 11, \"Income_Category\": \"High Income\", \"Spend_Category\": \"Low Spend\", \"Age_Bin\": \"50-60Yrs\", \"Customer Type\": \"Frugal\"}, {\"CustomerID\": 130, \"Gender\": \"Male\", \"Age\": 38, \"Annual Income (k$)\": 71, \"Spending Score (1-100)\": 75, \"Income_Category\": \"High Income\", \"Spend_Category\": \"High Spend\", \"Age_Bin\": \"20-40Yrs\", \"Customer Type\": \"Premium\"}, {\"CustomerID\": 131, \"Gender\": \"Male\", \"Age\": 47, \"Annual Income (k$)\": 71, \"Spending Score (1-100)\": 9, \"Income_Category\": \"High Income\", \"Spend_Category\": \"Low Spend\", \"Age_Bin\": \"40-50Yrs\", \"Customer Type\": \"Frugal\"}, {\"CustomerID\": 132, \"Gender\": \"Male\", \"Age\": 39, \"Annual Income (k$)\": 71, \"Spending Score (1-100)\": 75, \"Income_Category\": \"High Income\", \"Spend_Category\": \"High Spend\", \"Age_Bin\": \"20-40Yrs\", \"Customer Type\": \"Premium\"}, {\"CustomerID\": 133, \"Gender\": \"Female\", \"Age\": 25, \"Annual Income (k$)\": 72, \"Spending Score (1-100)\": 34, \"Income_Category\": \"High Income\", \"Spend_Category\": \"Low Spend\", \"Age_Bin\": \"20-40Yrs\", \"Customer Type\": \"Frugal\"}, {\"CustomerID\": 134, \"Gender\": \"Female\", \"Age\": 31, \"Annual Income (k$)\": 72, \"Spending Score (1-100)\": 71, \"Income_Category\": \"High Income\", \"Spend_Category\": \"High Spend\", \"Age_Bin\": \"20-40Yrs\", \"Customer Type\": \"Premium\"}, {\"CustomerID\": 135, \"Gender\": \"Male\", \"Age\": 20, \"Annual Income (k$)\": 73, \"Spending Score (1-100)\": 5, \"Income_Category\": \"High Income\", \"Spend_Category\": \"Low Spend\", \"Age_Bin\": \"<20Yrs\", \"Customer Type\": \"Frugal\"}, {\"CustomerID\": 136, \"Gender\": \"Female\", \"Age\": 29, \"Annual Income (k$)\": 73, \"Spending Score (1-100)\": 88, \"Income_Category\": \"High Income\", \"Spend_Category\": \"High Spend\", \"Age_Bin\": \"20-40Yrs\", \"Customer Type\": \"Premium\"}, {\"CustomerID\": 137, \"Gender\": \"Female\", \"Age\": 44, \"Annual Income (k$)\": 73, \"Spending Score (1-100)\": 7, \"Income_Category\": \"High Income\", \"Spend_Category\": \"Low Spend\", \"Age_Bin\": \"40-50Yrs\", \"Customer Type\": \"Frugal\"}, {\"CustomerID\": 138, \"Gender\": \"Male\", \"Age\": 32, \"Annual Income (k$)\": 73, \"Spending Score (1-100)\": 73, \"Income_Category\": \"High Income\", \"Spend_Category\": \"High Spend\", \"Age_Bin\": \"20-40Yrs\", \"Customer Type\": \"Premium\"}, {\"CustomerID\": 139, \"Gender\": \"Male\", \"Age\": 19, \"Annual Income (k$)\": 74, \"Spending Score (1-100)\": 10, \"Income_Category\": \"High Income\", \"Spend_Category\": \"Low Spend\", \"Age_Bin\": \"<20Yrs\", \"Customer Type\": \"Frugal\"}, {\"CustomerID\": 140, \"Gender\": \"Female\", \"Age\": 35, \"Annual Income (k$)\": 74, \"Spending Score (1-100)\": 72, \"Income_Category\": \"High Income\", \"Spend_Category\": \"High Spend\", \"Age_Bin\": \"20-40Yrs\", \"Customer Type\": \"Premium\"}, {\"CustomerID\": 141, \"Gender\": \"Female\", \"Age\": 57, \"Annual Income (k$)\": 75, \"Spending Score (1-100)\": 5, \"Income_Category\": \"High Income\", \"Spend_Category\": \"Low Spend\", \"Age_Bin\": \"50-60Yrs\", \"Customer Type\": \"Frugal\"}, {\"CustomerID\": 142, \"Gender\": \"Male\", \"Age\": 32, \"Annual Income (k$)\": 75, \"Spending Score (1-100)\": 93, \"Income_Category\": \"High Income\", \"Spend_Category\": \"High Spend\", \"Age_Bin\": \"20-40Yrs\", \"Customer Type\": \"Premium\"}, {\"CustomerID\": 143, \"Gender\": \"Female\", \"Age\": 28, \"Annual Income (k$)\": 76, \"Spending Score (1-100)\": 40, \"Income_Category\": \"High Income\", \"Spend_Category\": \"Medium Spend\", \"Age_Bin\": \"20-40Yrs\", \"Customer Type\": \"Economical\"}, {\"CustomerID\": 144, \"Gender\": \"Female\", \"Age\": 32, \"Annual Income (k$)\": 76, \"Spending Score (1-100)\": 87, \"Income_Category\": \"High Income\", \"Spend_Category\": \"High Spend\", \"Age_Bin\": \"20-40Yrs\", \"Customer Type\": \"Premium\"}, {\"CustomerID\": 145, \"Gender\": \"Male\", \"Age\": 25, \"Annual Income (k$)\": 77, \"Spending Score (1-100)\": 12, \"Income_Category\": \"High Income\", \"Spend_Category\": \"Low Spend\", \"Age_Bin\": \"20-40Yrs\", \"Customer Type\": \"Frugal\"}, {\"CustomerID\": 146, \"Gender\": \"Male\", \"Age\": 28, \"Annual Income (k$)\": 77, \"Spending Score (1-100)\": 97, \"Income_Category\": \"High Income\", \"Spend_Category\": \"High Spend\", \"Age_Bin\": \"20-40Yrs\", \"Customer Type\": \"Premium\"}, {\"CustomerID\": 147, \"Gender\": \"Male\", \"Age\": 48, \"Annual Income (k$)\": 77, \"Spending Score (1-100)\": 36, \"Income_Category\": \"High Income\", \"Spend_Category\": \"Low Spend\", \"Age_Bin\": \"40-50Yrs\", \"Customer Type\": \"Frugal\"}, {\"CustomerID\": 148, \"Gender\": \"Female\", \"Age\": 32, \"Annual Income (k$)\": 77, \"Spending Score (1-100)\": 74, \"Income_Category\": \"High Income\", \"Spend_Category\": \"High Spend\", \"Age_Bin\": \"20-40Yrs\", \"Customer Type\": \"Premium\"}, {\"CustomerID\": 149, \"Gender\": \"Female\", \"Age\": 34, \"Annual Income (k$)\": 78, \"Spending Score (1-100)\": 22, \"Income_Category\": \"High Income\", \"Spend_Category\": \"Low Spend\", \"Age_Bin\": \"20-40Yrs\", \"Customer Type\": \"Frugal\"}, {\"CustomerID\": 150, \"Gender\": \"Male\", \"Age\": 34, \"Annual Income (k$)\": 78, \"Spending Score (1-100)\": 90, \"Income_Category\": \"High Income\", \"Spend_Category\": \"High Spend\", \"Age_Bin\": \"20-40Yrs\", \"Customer Type\": \"Premium\"}, {\"CustomerID\": 151, \"Gender\": \"Male\", \"Age\": 43, \"Annual Income (k$)\": 78, \"Spending Score (1-100)\": 17, \"Income_Category\": \"High Income\", \"Spend_Category\": \"Low Spend\", \"Age_Bin\": \"40-50Yrs\", \"Customer Type\": \"Frugal\"}, {\"CustomerID\": 152, \"Gender\": \"Male\", \"Age\": 39, \"Annual Income (k$)\": 78, \"Spending Score (1-100)\": 88, \"Income_Category\": \"High Income\", \"Spend_Category\": \"High Spend\", \"Age_Bin\": \"20-40Yrs\", \"Customer Type\": \"Premium\"}, {\"CustomerID\": 153, \"Gender\": \"Female\", \"Age\": 44, \"Annual Income (k$)\": 78, \"Spending Score (1-100)\": 20, \"Income_Category\": \"High Income\", \"Spend_Category\": \"Low Spend\", \"Age_Bin\": \"40-50Yrs\", \"Customer Type\": \"Frugal\"}, {\"CustomerID\": 154, \"Gender\": \"Female\", \"Age\": 38, \"Annual Income (k$)\": 78, \"Spending Score (1-100)\": 76, \"Income_Category\": \"High Income\", \"Spend_Category\": \"High Spend\", \"Age_Bin\": \"20-40Yrs\", \"Customer Type\": \"Premium\"}, {\"CustomerID\": 155, \"Gender\": \"Female\", \"Age\": 47, \"Annual Income (k$)\": 78, \"Spending Score (1-100)\": 16, \"Income_Category\": \"High Income\", \"Spend_Category\": \"Low Spend\", \"Age_Bin\": \"40-50Yrs\", \"Customer Type\": \"Frugal\"}, {\"CustomerID\": 156, \"Gender\": \"Female\", \"Age\": 27, \"Annual Income (k$)\": 78, \"Spending Score (1-100)\": 89, \"Income_Category\": \"High Income\", \"Spend_Category\": \"High Spend\", \"Age_Bin\": \"20-40Yrs\", \"Customer Type\": \"Premium\"}, {\"CustomerID\": 157, \"Gender\": \"Male\", \"Age\": 37, \"Annual Income (k$)\": 78, \"Spending Score (1-100)\": 1, \"Income_Category\": \"High Income\", \"Spend_Category\": \"Low Spend\", \"Age_Bin\": \"20-40Yrs\", \"Customer Type\": \"Frugal\"}, {\"CustomerID\": 158, \"Gender\": \"Female\", \"Age\": 30, \"Annual Income (k$)\": 78, \"Spending Score (1-100)\": 78, \"Income_Category\": \"High Income\", \"Spend_Category\": \"High Spend\", \"Age_Bin\": \"20-40Yrs\", \"Customer Type\": \"Premium\"}, {\"CustomerID\": 159, \"Gender\": \"Male\", \"Age\": 34, \"Annual Income (k$)\": 78, \"Spending Score (1-100)\": 1, \"Income_Category\": \"High Income\", \"Spend_Category\": \"Low Spend\", \"Age_Bin\": \"20-40Yrs\", \"Customer Type\": \"Frugal\"}, {\"CustomerID\": 160, \"Gender\": \"Female\", \"Age\": 30, \"Annual Income (k$)\": 78, \"Spending Score (1-100)\": 73, \"Income_Category\": \"High Income\", \"Spend_Category\": \"High Spend\", \"Age_Bin\": \"20-40Yrs\", \"Customer Type\": \"Premium\"}, {\"CustomerID\": 161, \"Gender\": \"Female\", \"Age\": 56, \"Annual Income (k$)\": 79, \"Spending Score (1-100)\": 35, \"Income_Category\": \"High Income\", \"Spend_Category\": \"Low Spend\", \"Age_Bin\": \"50-60Yrs\", \"Customer Type\": \"Frugal\"}, {\"CustomerID\": 162, \"Gender\": \"Female\", \"Age\": 29, \"Annual Income (k$)\": 79, \"Spending Score (1-100)\": 83, \"Income_Category\": \"High Income\", \"Spend_Category\": \"High Spend\", \"Age_Bin\": \"20-40Yrs\", \"Customer Type\": \"Premium\"}, {\"CustomerID\": 163, \"Gender\": \"Male\", \"Age\": 19, \"Annual Income (k$)\": 81, \"Spending Score (1-100)\": 5, \"Income_Category\": \"High Income\", \"Spend_Category\": \"Low Spend\", \"Age_Bin\": \"<20Yrs\", \"Customer Type\": \"Frugal\"}, {\"CustomerID\": 164, \"Gender\": \"Female\", \"Age\": 31, \"Annual Income (k$)\": 81, \"Spending Score (1-100)\": 93, \"Income_Category\": \"High Income\", \"Spend_Category\": \"High Spend\", \"Age_Bin\": \"20-40Yrs\", \"Customer Type\": \"Premium\"}, {\"CustomerID\": 165, \"Gender\": \"Male\", \"Age\": 50, \"Annual Income (k$)\": 85, \"Spending Score (1-100)\": 26, \"Income_Category\": \"High Income\", \"Spend_Category\": \"Low Spend\", \"Age_Bin\": \"40-50Yrs\", \"Customer Type\": \"Frugal\"}, {\"CustomerID\": 166, \"Gender\": \"Female\", \"Age\": 36, \"Annual Income (k$)\": 85, \"Spending Score (1-100)\": 75, \"Income_Category\": \"High Income\", \"Spend_Category\": \"High Spend\", \"Age_Bin\": \"20-40Yrs\", \"Customer Type\": \"Premium\"}, {\"CustomerID\": 167, \"Gender\": \"Male\", \"Age\": 42, \"Annual Income (k$)\": 86, \"Spending Score (1-100)\": 20, \"Income_Category\": \"High Income\", \"Spend_Category\": \"Low Spend\", \"Age_Bin\": \"40-50Yrs\", \"Customer Type\": \"Frugal\"}, {\"CustomerID\": 168, \"Gender\": \"Female\", \"Age\": 33, \"Annual Income (k$)\": 86, \"Spending Score (1-100)\": 95, \"Income_Category\": \"High Income\", \"Spend_Category\": \"High Spend\", \"Age_Bin\": \"20-40Yrs\", \"Customer Type\": \"Premium\"}, {\"CustomerID\": 169, \"Gender\": \"Female\", \"Age\": 36, \"Annual Income (k$)\": 87, \"Spending Score (1-100)\": 27, \"Income_Category\": \"High Income\", \"Spend_Category\": \"Low Spend\", \"Age_Bin\": \"20-40Yrs\", \"Customer Type\": \"Frugal\"}, {\"CustomerID\": 170, \"Gender\": \"Male\", \"Age\": 32, \"Annual Income (k$)\": 87, \"Spending Score (1-100)\": 63, \"Income_Category\": \"High Income\", \"Spend_Category\": \"High Spend\", \"Age_Bin\": \"20-40Yrs\", \"Customer Type\": \"Premium\"}, {\"CustomerID\": 171, \"Gender\": \"Male\", \"Age\": 40, \"Annual Income (k$)\": 87, \"Spending Score (1-100)\": 13, \"Income_Category\": \"High Income\", \"Spend_Category\": \"Low Spend\", \"Age_Bin\": \"20-40Yrs\", \"Customer Type\": \"Frugal\"}, {\"CustomerID\": 172, \"Gender\": \"Male\", \"Age\": 28, \"Annual Income (k$)\": 87, \"Spending Score (1-100)\": 75, \"Income_Category\": \"High Income\", \"Spend_Category\": \"High Spend\", \"Age_Bin\": \"20-40Yrs\", \"Customer Type\": \"Premium\"}, {\"CustomerID\": 173, \"Gender\": \"Male\", \"Age\": 36, \"Annual Income (k$)\": 87, \"Spending Score (1-100)\": 10, \"Income_Category\": \"High Income\", \"Spend_Category\": \"Low Spend\", \"Age_Bin\": \"20-40Yrs\", \"Customer Type\": \"Frugal\"}, {\"CustomerID\": 174, \"Gender\": \"Male\", \"Age\": 36, \"Annual Income (k$)\": 87, \"Spending Score (1-100)\": 92, \"Income_Category\": \"High Income\", \"Spend_Category\": \"High Spend\", \"Age_Bin\": \"20-40Yrs\", \"Customer Type\": \"Premium\"}, {\"CustomerID\": 175, \"Gender\": \"Female\", \"Age\": 52, \"Annual Income (k$)\": 88, \"Spending Score (1-100)\": 13, \"Income_Category\": \"High Income\", \"Spend_Category\": \"Low Spend\", \"Age_Bin\": \"50-60Yrs\", \"Customer Type\": \"Frugal\"}, {\"CustomerID\": 176, \"Gender\": \"Female\", \"Age\": 30, \"Annual Income (k$)\": 88, \"Spending Score (1-100)\": 86, \"Income_Category\": \"High Income\", \"Spend_Category\": \"High Spend\", \"Age_Bin\": \"20-40Yrs\", \"Customer Type\": \"Premium\"}, {\"CustomerID\": 177, \"Gender\": \"Male\", \"Age\": 58, \"Annual Income (k$)\": 88, \"Spending Score (1-100)\": 15, \"Income_Category\": \"High Income\", \"Spend_Category\": \"Low Spend\", \"Age_Bin\": \"50-60Yrs\", \"Customer Type\": \"Frugal\"}, {\"CustomerID\": 178, \"Gender\": \"Male\", \"Age\": 27, \"Annual Income (k$)\": 88, \"Spending Score (1-100)\": 69, \"Income_Category\": \"High Income\", \"Spend_Category\": \"High Spend\", \"Age_Bin\": \"20-40Yrs\", \"Customer Type\": \"Premium\"}, {\"CustomerID\": 179, \"Gender\": \"Male\", \"Age\": 59, \"Annual Income (k$)\": 93, \"Spending Score (1-100)\": 14, \"Income_Category\": \"High Income\", \"Spend_Category\": \"Low Spend\", \"Age_Bin\": \"50-60Yrs\", \"Customer Type\": \"Frugal\"}, {\"CustomerID\": 180, \"Gender\": \"Male\", \"Age\": 35, \"Annual Income (k$)\": 93, \"Spending Score (1-100)\": 90, \"Income_Category\": \"High Income\", \"Spend_Category\": \"High Spend\", \"Age_Bin\": \"20-40Yrs\", \"Customer Type\": \"Premium\"}, {\"CustomerID\": 181, \"Gender\": \"Female\", \"Age\": 37, \"Annual Income (k$)\": 97, \"Spending Score (1-100)\": 32, \"Income_Category\": \"High Income\", \"Spend_Category\": \"Low Spend\", \"Age_Bin\": \"20-40Yrs\", \"Customer Type\": \"Frugal\"}, {\"CustomerID\": 182, \"Gender\": \"Female\", \"Age\": 32, \"Annual Income (k$)\": 97, \"Spending Score (1-100)\": 86, \"Income_Category\": \"High Income\", \"Spend_Category\": \"High Spend\", \"Age_Bin\": \"20-40Yrs\", \"Customer Type\": \"Premium\"}, {\"CustomerID\": 183, \"Gender\": \"Male\", \"Age\": 46, \"Annual Income (k$)\": 98, \"Spending Score (1-100)\": 15, \"Income_Category\": \"High Income\", \"Spend_Category\": \"Low Spend\", \"Age_Bin\": \"40-50Yrs\", \"Customer Type\": \"Frugal\"}, {\"CustomerID\": 184, \"Gender\": \"Female\", \"Age\": 29, \"Annual Income (k$)\": 98, \"Spending Score (1-100)\": 88, \"Income_Category\": \"High Income\", \"Spend_Category\": \"High Spend\", \"Age_Bin\": \"20-40Yrs\", \"Customer Type\": \"Premium\"}, {\"CustomerID\": 185, \"Gender\": \"Female\", \"Age\": 41, \"Annual Income (k$)\": 99, \"Spending Score (1-100)\": 39, \"Income_Category\": \"High Income\", \"Spend_Category\": \"Low Spend\", \"Age_Bin\": \"40-50Yrs\", \"Customer Type\": \"Frugal\"}, {\"CustomerID\": 186, \"Gender\": \"Male\", \"Age\": 30, \"Annual Income (k$)\": 99, \"Spending Score (1-100)\": 97, \"Income_Category\": \"High Income\", \"Spend_Category\": \"High Spend\", \"Age_Bin\": \"20-40Yrs\", \"Customer Type\": \"Premium\"}, {\"CustomerID\": 187, \"Gender\": \"Female\", \"Age\": 54, \"Annual Income (k$)\": 101, \"Spending Score (1-100)\": 24, \"Income_Category\": \"High Income\", \"Spend_Category\": \"Low Spend\", \"Age_Bin\": \"50-60Yrs\", \"Customer Type\": \"Frugal\"}, {\"CustomerID\": 188, \"Gender\": \"Male\", \"Age\": 28, \"Annual Income (k$)\": 101, \"Spending Score (1-100)\": 68, \"Income_Category\": \"High Income\", \"Spend_Category\": \"High Spend\", \"Age_Bin\": \"20-40Yrs\", \"Customer Type\": \"Premium\"}, {\"CustomerID\": 189, \"Gender\": \"Female\", \"Age\": 41, \"Annual Income (k$)\": 103, \"Spending Score (1-100)\": 17, \"Income_Category\": \"High Income\", \"Spend_Category\": \"Low Spend\", \"Age_Bin\": \"40-50Yrs\", \"Customer Type\": \"Frugal\"}, {\"CustomerID\": 190, \"Gender\": \"Female\", \"Age\": 36, \"Annual Income (k$)\": 103, \"Spending Score (1-100)\": 85, \"Income_Category\": \"High Income\", \"Spend_Category\": \"High Spend\", \"Age_Bin\": \"20-40Yrs\", \"Customer Type\": \"Premium\"}, {\"CustomerID\": 191, \"Gender\": \"Female\", \"Age\": 34, \"Annual Income (k$)\": 103, \"Spending Score (1-100)\": 23, \"Income_Category\": \"High Income\", \"Spend_Category\": \"Low Spend\", \"Age_Bin\": \"20-40Yrs\", \"Customer Type\": \"Frugal\"}, {\"CustomerID\": 192, \"Gender\": \"Female\", \"Age\": 32, \"Annual Income (k$)\": 103, \"Spending Score (1-100)\": 69, \"Income_Category\": \"High Income\", \"Spend_Category\": \"High Spend\", \"Age_Bin\": \"20-40Yrs\", \"Customer Type\": \"Premium\"}, {\"CustomerID\": 193, \"Gender\": \"Male\", \"Age\": 33, \"Annual Income (k$)\": 113, \"Spending Score (1-100)\": 8, \"Income_Category\": \"High Income\", \"Spend_Category\": \"Low Spend\", \"Age_Bin\": \"20-40Yrs\", \"Customer Type\": \"Frugal\"}, {\"CustomerID\": 194, \"Gender\": \"Female\", \"Age\": 38, \"Annual Income (k$)\": 113, \"Spending Score (1-100)\": 91, \"Income_Category\": \"High Income\", \"Spend_Category\": \"High Spend\", \"Age_Bin\": \"20-40Yrs\", \"Customer Type\": \"Premium\"}, {\"CustomerID\": 195, \"Gender\": \"Female\", \"Age\": 47, \"Annual Income (k$)\": 120, \"Spending Score (1-100)\": 16, \"Income_Category\": \"High Income\", \"Spend_Category\": \"Low Spend\", \"Age_Bin\": \"40-50Yrs\", \"Customer Type\": \"Frugal\"}, {\"CustomerID\": 196, \"Gender\": \"Female\", \"Age\": 35, \"Annual Income (k$)\": 120, \"Spending Score (1-100)\": 79, \"Income_Category\": \"High Income\", \"Spend_Category\": \"High Spend\", \"Age_Bin\": \"20-40Yrs\", \"Customer Type\": \"Premium\"}, {\"CustomerID\": 197, \"Gender\": \"Female\", \"Age\": 45, \"Annual Income (k$)\": 126, \"Spending Score (1-100)\": 28, \"Income_Category\": \"High Income\", \"Spend_Category\": \"Low Spend\", \"Age_Bin\": \"40-50Yrs\", \"Customer Type\": \"Frugal\"}, {\"CustomerID\": 198, \"Gender\": \"Male\", \"Age\": 32, \"Annual Income (k$)\": 126, \"Spending Score (1-100)\": 74, \"Income_Category\": \"High Income\", \"Spend_Category\": \"High Spend\", \"Age_Bin\": \"20-40Yrs\", \"Customer Type\": \"Premium\"}, {\"CustomerID\": 199, \"Gender\": \"Male\", \"Age\": 32, \"Annual Income (k$)\": 137, \"Spending Score (1-100)\": 18, \"Income_Category\": \"High Income\", \"Spend_Category\": \"Low Spend\", \"Age_Bin\": \"20-40Yrs\", \"Customer Type\": \"Frugal\"}, {\"CustomerID\": 200, \"Gender\": \"Male\", \"Age\": 30, \"Annual Income (k$)\": 137, \"Spending Score (1-100)\": 83, \"Income_Category\": \"High Income\", \"Spend_Category\": \"High Spend\", \"Age_Bin\": \"20-40Yrs\", \"Customer Type\": \"Premium\"}]}}, {\"mode\": \"vega-lite\"});\n",
       "</script>"
      ],
      "text/plain": [
       "alt.FacetChart(...)"
      ]
     },
     "execution_count": 20,
     "metadata": {},
     "output_type": "execute_result"
    }
   ],
   "source": [
    "alt.Chart(df).mark_circle().properties(title = \"Customer Type across different Age Bins\", height=150, width=300).encode(\n",
    "    x = 'Spending Score (1-100):Q',\n",
    "    y = 'Annual Income (k$):Q',\n",
    "    color = 'Customer Type:N'\n",
    ").facet(\n",
    "    facet='Age_Bin:O',\n",
    "    columns=2\n",
    ")"
   ]
  },
  {
   "cell_type": "markdown",
   "metadata": {},
   "source": [
    "As we can see, all age bands other than the 20-40 Yrs comprises of mostly Frugal and Economical.20-40 Yrs band is the most diverse."
   ]
  }
 ],
 "metadata": {
  "etc_identifier": "7b1b8150-a86d-4921-ae50-81b70af72a33",
  "kernelspec": {
   "display_name": "Python 3 (ipykernel)",
   "language": "python",
   "name": "python3"
  },
  "language_info": {
   "codemirror_mode": {
    "name": "ipython",
    "version": 3
   },
   "file_extension": ".py",
   "mimetype": "text/x-python",
   "name": "python",
   "nbconvert_exporter": "python",
   "pygments_lexer": "ipython3",
   "version": "3.8.10"
  }
 },
 "nbformat": 4,
 "nbformat_minor": 4
}
